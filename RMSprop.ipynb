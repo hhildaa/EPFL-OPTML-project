{
 "cells": [
  {
   "cell_type": "code",
   "execution_count": 1,
   "id": "e911d313",
   "metadata": {},
   "outputs": [
    {
     "name": "stdout",
     "output_type": "stream",
     "text": [
      "Files already downloaded and verified\n",
      "Files already downloaded and verified\n",
      "cuda:0\n"
     ]
    },
    {
     "data": {
      "text/plain": [
       "AlexNet(\n",
       "  (features): Sequential(\n",
       "    (0): Conv2d(3, 64, kernel_size=(11, 11), stride=(4, 4), padding=(2, 2))\n",
       "    (1): ReLU(inplace=True)\n",
       "    (2): MaxPool2d(kernel_size=3, stride=2, padding=0, dilation=1, ceil_mode=False)\n",
       "    (3): Conv2d(64, 192, kernel_size=(5, 5), stride=(1, 1), padding=(2, 2))\n",
       "    (4): ReLU(inplace=True)\n",
       "    (5): MaxPool2d(kernel_size=3, stride=2, padding=0, dilation=1, ceil_mode=False)\n",
       "    (6): Conv2d(192, 384, kernel_size=(3, 3), stride=(1, 1), padding=(1, 1))\n",
       "    (7): ReLU(inplace=True)\n",
       "    (8): Conv2d(384, 256, kernel_size=(3, 3), stride=(1, 1), padding=(1, 1))\n",
       "    (9): ReLU(inplace=True)\n",
       "    (10): Conv2d(256, 256, kernel_size=(3, 3), stride=(1, 1), padding=(1, 1))\n",
       "    (11): ReLU(inplace=True)\n",
       "    (12): MaxPool2d(kernel_size=3, stride=2, padding=0, dilation=1, ceil_mode=False)\n",
       "  )\n",
       "  (avgpool): AdaptiveAvgPool2d(output_size=(6, 6))\n",
       "  (classifier): Sequential(\n",
       "    (0): Dropout(p=0, inplace=False)\n",
       "    (1): Linear(in_features=9216, out_features=4096, bias=True)\n",
       "    (2): ReLU(inplace=True)\n",
       "    (3): Dropout(p=0, inplace=False)\n",
       "    (4): Linear(in_features=4096, out_features=4096, bias=True)\n",
       "    (5): ReLU(inplace=True)\n",
       "    (6): Linear(in_features=4096, out_features=10, bias=True)\n",
       "  )\n",
       ")"
      ]
     },
     "execution_count": 1,
     "metadata": {},
     "output_type": "execute_result"
    }
   ],
   "source": [
    "import utils\n",
    "train_loader, test_loader = utils.dataload()\n",
    "alexnet, device = utils.loadmodel()\n",
    "alexnet"
   ]
  },
  {
   "cell_type": "markdown",
   "id": "3e928a4c",
   "metadata": {},
   "source": [
    "#### RMSProp"
   ]
  },
  {
   "cell_type": "code",
   "execution_count": null,
   "id": "050e0e03",
   "metadata": {},
   "outputs": [
    {
     "name": "stdout",
     "output_type": "stream",
     "text": [
      "Epoch 1 accuracy: 20.93. Loss: 64.134\n",
      "Epoch 2 accuracy: 33.79. Loss: 1.872\n",
      "Epoch 3 accuracy: 39.25. Loss: 1.789\n",
      "Epoch 4 accuracy: 44.22. Loss: 1.600\n",
      "Epoch 5 accuracy: 45.86. Loss: 1.601\n",
      "Epoch 6 accuracy: 47.71. Loss: 1.480\n",
      "Epoch 7 accuracy: 49.19. Loss: 1.477\n",
      "Epoch 8 accuracy: 49.74. Loss: 1.433\n",
      "Epoch 9 accuracy: 49.85. Loss: 1.698\n",
      "Epoch 10 accuracy: 52.24. Loss: 1.407\n",
      "Epoch 11 accuracy: 52.01. Loss: 1.422\n",
      "Epoch 12 accuracy: 53.11. Loss: 1.383\n",
      "Epoch 13 accuracy: 53.89. Loss: 1.389\n",
      "Epoch 14 accuracy: 55.18. Loss: 1.717\n",
      "Epoch 15 accuracy: 55.25. Loss: 1.308\n"
     ]
    }
   ],
   "source": [
    "import torch.nn as nn\n",
    "import torch.optim as optim\n",
    "criterion = nn.CrossEntropyLoss()\n",
    "rms_optimizer = optim.RMSprop(alexnet.parameters(), lr=0.001, weight_decay=1e-4)\n",
    "rms_accuracies, rms_losses = utils.train(alexnet, rms_optimizer, criterion, train_loader, device)"
   ]
  },
  {
   "cell_type": "code",
   "execution_count": null,
   "id": "2535dd3d",
   "metadata": {},
   "outputs": [],
   "source": []
  }
 ],
 "metadata": {
  "kernelspec": {
   "display_name": "Python 3 (ipykernel)",
   "language": "python",
   "name": "python3"
  },
  "language_info": {
   "codemirror_mode": {
    "name": "ipython",
    "version": 3
   },
   "file_extension": ".py",
   "mimetype": "text/x-python",
   "name": "python",
   "nbconvert_exporter": "python",
   "pygments_lexer": "ipython3",
   "version": "3.8.12"
  }
 },
 "nbformat": 4,
 "nbformat_minor": 5
}
