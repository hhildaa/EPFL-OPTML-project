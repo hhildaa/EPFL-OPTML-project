{
  "cells": [
    {
      "cell_type": "code",
      "source": [
        "from google.colab import drive\n",
        "drive.mount('/content/drive')\n",
        "%cd /content/drive/MyDrive/opt_ml "
      ],
      "metadata": {
        "colab": {
          "base_uri": "https://localhost:8080/"
        },
        "id": "obmioMqlXQlI",
        "outputId": "a022cb8c-be82-4e7b-8f17-746c9828012e"
      },
      "id": "obmioMqlXQlI",
      "execution_count": null,
      "outputs": [
        {
          "output_type": "stream",
          "name": "stdout",
          "text": [
            "Mounted at /content/drive\n",
            "/content/drive/MyDrive/opt_ml\n"
          ]
        }
      ]
    },
    {
      "cell_type": "code",
      "source": [
        "import utils\n",
        "import data\n",
        "import torch\n",
        "import torch.nn as nn\n",
        "import torch.optim as optim\n",
        "import pickle\n",
        "import test"
      ],
      "metadata": {
        "id": "Uu9vO6V8bkUE"
      },
      "id": "Uu9vO6V8bkUE",
      "execution_count": null,
      "outputs": []
    },
    {
      "cell_type": "code",
      "execution_count": null,
      "id": "e911d313",
      "metadata": {
        "id": "e911d313",
        "outputId": "bb8fadab-e8ad-4df3-a67e-2586f07e5278",
        "colab": {
          "base_uri": "https://localhost:8080/",
          "height": 587,
          "referenced_widgets": [
            "00d5b7c482114c53921fcaf45a57ad03",
            "b725ee24ab974f64b7adfa0e71bb96f2",
            "edc853d9cee64a7cb25e4a5cc9498aab",
            "d067525b61ec465baaafcc1900a54874",
            "29fa17319bd9422f8833fb793cee2194",
            "73ad5cd91bfd4490bae06fceda687ebe",
            "83230cff2e8c4e04b3eeee0158a0082b",
            "eecad4e0eab94f0eaa3ae74facffb1f2",
            "f3bb51b548c146049fe5b38a5c80a073",
            "cb08b0f3ebac4876b7aae4651d260fe3",
            "9a8d4fd5e7c0412ab57b266df4409dae"
          ]
        }
      },
      "outputs": [
        {
          "output_type": "stream",
          "name": "stdout",
          "text": [
            "Files already downloaded and verified\n",
            "Files already downloaded and verified\n"
          ]
        },
        {
          "output_type": "stream",
          "name": "stderr",
          "text": [
            "Downloading: \"https://download.pytorch.org/models/alexnet-owt-7be5be79.pth\" to /root/.cache/torch/hub/checkpoints/alexnet-owt-7be5be79.pth\n"
          ]
        },
        {
          "output_type": "display_data",
          "data": {
            "text/plain": [
              "  0%|          | 0.00/233M [00:00<?, ?B/s]"
            ],
            "application/vnd.jupyter.widget-view+json": {
              "version_major": 2,
              "version_minor": 0,
              "model_id": "00d5b7c482114c53921fcaf45a57ad03"
            }
          },
          "metadata": {}
        },
        {
          "output_type": "stream",
          "name": "stdout",
          "text": [
            "cuda:0\n"
          ]
        },
        {
          "output_type": "execute_result",
          "data": {
            "text/plain": [
              "AlexNet(\n",
              "  (features): Sequential(\n",
              "    (0): Conv2d(3, 64, kernel_size=(11, 11), stride=(4, 4), padding=(2, 2))\n",
              "    (1): ReLU(inplace=True)\n",
              "    (2): MaxPool2d(kernel_size=3, stride=2, padding=0, dilation=1, ceil_mode=False)\n",
              "    (3): Conv2d(64, 192, kernel_size=(5, 5), stride=(1, 1), padding=(2, 2))\n",
              "    (4): ReLU(inplace=True)\n",
              "    (5): MaxPool2d(kernel_size=3, stride=2, padding=0, dilation=1, ceil_mode=False)\n",
              "    (6): Conv2d(192, 384, kernel_size=(3, 3), stride=(1, 1), padding=(1, 1))\n",
              "    (7): ReLU(inplace=True)\n",
              "    (8): Conv2d(384, 256, kernel_size=(3, 3), stride=(1, 1), padding=(1, 1))\n",
              "    (9): ReLU(inplace=True)\n",
              "    (10): Conv2d(256, 256, kernel_size=(3, 3), stride=(1, 1), padding=(1, 1))\n",
              "    (11): ReLU(inplace=True)\n",
              "    (12): MaxPool2d(kernel_size=3, stride=2, padding=0, dilation=1, ceil_mode=False)\n",
              "  )\n",
              "  (avgpool): AdaptiveAvgPool2d(output_size=(6, 6))\n",
              "  (classifier): Sequential(\n",
              "    (0): Dropout(p=0, inplace=False)\n",
              "    (1): Linear(in_features=9216, out_features=4096, bias=True)\n",
              "    (2): ReLU(inplace=True)\n",
              "    (3): Dropout(p=0, inplace=False)\n",
              "    (4): Linear(in_features=4096, out_features=4096, bias=True)\n",
              "    (5): ReLU(inplace=True)\n",
              "    (6): Linear(in_features=4096, out_features=10, bias=True)\n",
              "  )\n",
              ")"
            ]
          },
          "metadata": {},
          "execution_count": 4
        }
      ],
      "source": [
        "train_loader, test_loader = data.dataload()\n",
        "alexnet, device = utils.loadmodel()\n",
        "alexnet"
      ]
    },
    {
      "cell_type": "markdown",
      "id": "3e928a4c",
      "metadata": {
        "id": "3e928a4c"
      },
      "source": [
        "RMSProp - No corruption"
      ]
    },
    {
      "cell_type": "code",
      "source": [
        "criterion = nn.CrossEntropyLoss()\n",
        "rms_optimizer = optim.RMSprop(alexnet.parameters(), lr=0.00001, weight_decay=1e-4 )\n",
        "rms_accuracies, rms_losses = utils.train(alexnet, rms_optimizer, criterion, train_loader, device)"
      ],
      "metadata": {
        "colab": {
          "base_uri": "https://localhost:8080/"
        },
        "id": "xcdK7M3beWkp",
        "outputId": "b0a20f7c-6029-4d6b-cbad-fd8fa44fca26"
      },
      "id": "xcdK7M3beWkp",
      "execution_count": null,
      "outputs": [
        {
          "output_type": "stream",
          "name": "stdout",
          "text": [
            "Epoch 1 accuracy: 77.39. Loss: 0.655\n",
            "Epoch 2 accuracy: 86.83. Loss: 0.382\n",
            "Epoch 3 accuracy: 91.02. Loss: 0.272\n",
            "Epoch 4 accuracy: 93.82. Loss: 0.194\n",
            "Epoch 5 accuracy: 96.24. Loss: 0.131\n",
            "Epoch 6 accuracy: 97.90. Loss: 0.083\n",
            "Epoch 7 accuracy: 98.90. Loss: 0.052\n",
            "Epoch 8 accuracy: 99.51. Loss: 0.030\n",
            "Epoch 9 accuracy: 99.69. Loss: 0.022\n",
            "Epoch 10 accuracy: 99.66. Loss: 0.019\n",
            "Epoch 11 accuracy: 99.84. Loss: 0.012\n",
            "Epoch 12 accuracy: 99.89. Loss: 0.008\n",
            "Epoch 13 accuracy: 99.81. Loss: 0.015\n",
            "Epoch 14 accuracy: 99.91. Loss: 0.010\n",
            "Epoch 15 accuracy: 99.78. Loss: 0.018\n",
            "Epoch 16 accuracy: 99.78. Loss: 0.014\n",
            "Epoch 17 accuracy: 100.00. Loss: 0.001\n",
            "Finished Training of AlexNet\n",
            "Number of epochs until 100% accuracy: 17\n",
            "Time taken: 849.2255237102509\n"
          ]
        }
      ]
    },
    {
      "cell_type": "code",
      "source": [
        "torch.save(alexnet.state_dict(), 'alexnet_baseline_rms.pt')\n",
        "pickle.dump([rms_accuracies,rms_losses], open('baseline_rms_acc_loss.pkl', 'wb'))"
      ],
      "metadata": {
        "id": "jo47WkcIfE2m"
      },
      "id": "jo47WkcIfE2m",
      "execution_count": null,
      "outputs": []
    },
    {
      "cell_type": "markdown",
      "source": [
        "**Label Corruption**"
      ],
      "metadata": {
        "id": "kdeJFatOFA-S"
      },
      "id": "kdeJFatOFA-S"
    },
    {
      "cell_type": "markdown",
      "source": [
        "RMSprop - 20% corruption"
      ],
      "metadata": {
        "id": "-kpgjLD8YX8M"
      },
      "id": "-kpgjLD8YX8M"
    },
    {
      "cell_type": "code",
      "source": [
        "train_loader_corrupt20, _ = data.dataload(corrupt_prob=0.2)\n",
        "alexnet, device = utils.loadmodel()\n",
        "criterion = nn.CrossEntropyLoss()\n",
        "rms_optimizer = optim.RMSprop(alexnet.parameters(), lr=0.00001, weight_decay=1e-4 )\n",
        "rms_accuracies_c20, rms_losses_c20 = utils.train(alexnet, rms_optimizer, criterion, train_loader_corrupt20, device)"
      ],
      "metadata": {
        "colab": {
          "base_uri": "https://localhost:8080/"
        },
        "id": "iWqpOcjOd4B-",
        "outputId": "3d837b58-df66-4e9a-bef4-7da18e040399"
      },
      "id": "iWqpOcjOd4B-",
      "execution_count": null,
      "outputs": [
        {
          "output_type": "stream",
          "name": "stdout",
          "text": [
            "Files already downloaded and verified\n",
            "Files already downloaded and verified\n",
            "cuda:0\n",
            "Epoch 1 accuracy: 62.03. Loss: 1.370\n",
            "Epoch 2 accuracy: 70.16. Loss: 1.154\n",
            "Epoch 3 accuracy: 73.42. Loss: 1.041\n",
            "Epoch 4 accuracy: 76.02. Loss: 0.935\n",
            "Epoch 5 accuracy: 78.50. Loss: 0.824\n",
            "Epoch 6 accuracy: 80.98. Loss: 0.704\n",
            "Epoch 7 accuracy: 83.78. Loss: 0.578\n",
            "Epoch 8 accuracy: 87.37. Loss: 0.446\n",
            "Epoch 9 accuracy: 91.13. Loss: 0.326\n",
            "Epoch 10 accuracy: 94.54. Loss: 0.221\n",
            "Epoch 11 accuracy: 97.25. Loss: 0.138\n",
            "Epoch 12 accuracy: 98.58. Loss: 0.086\n",
            "Epoch 13 accuracy: 99.38. Loss: 0.054\n",
            "Epoch 14 accuracy: 99.34. Loss: 0.043\n",
            "Epoch 15 accuracy: 99.56. Loss: 0.035\n",
            "Epoch 16 accuracy: 99.39. Loss: 0.041\n",
            "Epoch 17 accuracy: 99.56. Loss: 0.029\n",
            "Epoch 18 accuracy: 99.52. Loss: 0.028\n",
            "Epoch 19 accuracy: 99.58. Loss: 0.025\n",
            "Epoch 20 accuracy: 99.72. Loss: 0.017\n",
            "Epoch 21 accuracy: 99.64. Loss: 0.019\n",
            "Epoch 22 accuracy: 99.69. Loss: 0.018\n",
            "Epoch 23 accuracy: 99.52. Loss: 0.028\n",
            "Epoch 24 accuracy: 99.68. Loss: 0.018\n",
            "Epoch 25 accuracy: 99.81. Loss: 0.010\n",
            "Epoch 26 accuracy: 99.65. Loss: 0.025\n",
            "Epoch 27 accuracy: 99.76. Loss: 0.016\n",
            "Epoch 28 accuracy: 99.82. Loss: 0.013\n",
            "Epoch 29 accuracy: 99.63. Loss: 0.020\n",
            "Epoch 30 accuracy: 99.72. Loss: 0.016\n",
            "Epoch 31 accuracy: 99.73. Loss: 0.014\n",
            "Epoch 32 accuracy: 99.98. Loss: 0.003\n",
            "Epoch 33 accuracy: 99.70. Loss: 0.025\n",
            "Epoch 34 accuracy: 99.78. Loss: 0.013\n",
            "Epoch 35 accuracy: 99.75. Loss: 0.017\n",
            "Epoch 36 accuracy: 99.86. Loss: 0.008\n",
            "Epoch 37 accuracy: 99.81. Loss: 0.009\n",
            "Epoch 38 accuracy: 99.68. Loss: 0.022\n",
            "Epoch 39 accuracy: 99.82. Loss: 0.010\n",
            "Epoch 40 accuracy: 99.76. Loss: 0.013\n",
            "Epoch 41 accuracy: 99.75. Loss: 0.010\n",
            "Epoch 42 accuracy: 99.84. Loss: 0.010\n",
            "Epoch 43 accuracy: 99.82. Loss: 0.011\n",
            "Epoch 44 accuracy: 99.78. Loss: 0.011\n",
            "Epoch 45 accuracy: 99.60. Loss: 0.032\n",
            "Epoch 46 accuracy: 99.72. Loss: 0.016\n",
            "Epoch 47 accuracy: 99.99. Loss: 0.002\n",
            "Epoch 48 accuracy: 99.74. Loss: 0.022\n",
            "Epoch 49 accuracy: 100.00. Loss: 0.001\n",
            "Finished Training of AlexNet\n",
            "Number of epochs until 100% accuracy: 49\n",
            "Time taken: 2361.320709705353\n"
          ]
        }
      ]
    },
    {
      "cell_type": "code",
      "execution_count": null,
      "id": "3a74a280",
      "metadata": {
        "id": "3a74a280"
      },
      "outputs": [],
      "source": [
        "torch.save(alexnet.state_dict(), 'alexnet_corrupt20_rms.pt')\n",
        "pickle.dump([rms_accuracies_c20,rms_losses_c20], open('corrupt20_rms_acc_loss.pkl', 'wb'))"
      ]
    },
    {
      "cell_type": "markdown",
      "source": [
        "RMSprop - 40% corruption"
      ],
      "metadata": {
        "id": "teEYz1hJo7F4"
      },
      "id": "teEYz1hJo7F4"
    },
    {
      "cell_type": "code",
      "execution_count": null,
      "id": "fe59bf35",
      "metadata": {
        "id": "fe59bf35",
        "colab": {
          "base_uri": "https://localhost:8080/",
          "height": 1000,
          "referenced_widgets": [
            "4e5e0c66adf04272990158aa475ba86d",
            "0be207c44d7742eb8e0a4eea49ba635c",
            "d9b84274fe9d42e9869ed648c7cf3d49",
            "6bf5b2d7b1564916a53339eb1a08d7fd",
            "e7fd944658424db0907c52774f743ec0",
            "01988269ed13475a90008466d00af516",
            "1f6ea79a691e4828b27c0ea616c63e36",
            "3e85ce92c1fd48a3be7b27b1d4ca9801",
            "79f21cc0fbfe4294a9cfa6b65b004646",
            "ae464b7f26194e19a4f71a7201e5ca0f",
            "c1c1b21a1c9c4fa3a5ff37ac7748cb4e"
          ]
        },
        "outputId": "2d427312-2669-4a91-bea9-043ca8c41863"
      },
      "outputs": [
        {
          "output_type": "stream",
          "name": "stdout",
          "text": [
            "Files already downloaded and verified\n",
            "Files already downloaded and verified\n"
          ]
        },
        {
          "output_type": "stream",
          "name": "stderr",
          "text": [
            "Downloading: \"https://download.pytorch.org/models/alexnet-owt-7be5be79.pth\" to /root/.cache/torch/hub/checkpoints/alexnet-owt-7be5be79.pth\n"
          ]
        },
        {
          "output_type": "display_data",
          "data": {
            "text/plain": [
              "  0%|          | 0.00/233M [00:00<?, ?B/s]"
            ],
            "application/vnd.jupyter.widget-view+json": {
              "version_major": 2,
              "version_minor": 0,
              "model_id": "4e5e0c66adf04272990158aa475ba86d"
            }
          },
          "metadata": {}
        },
        {
          "output_type": "stream",
          "name": "stdout",
          "text": [
            "cuda:0\n",
            "Epoch 1 accuracy: 47.22. Loss: 1.801\n",
            "Epoch 2 accuracy: 54.00. Loss: 1.627\n",
            "Epoch 3 accuracy: 56.92. Loss: 1.523\n",
            "Epoch 4 accuracy: 59.38. Loss: 1.414\n",
            "Epoch 5 accuracy: 61.72. Loss: 1.290\n",
            "Epoch 6 accuracy: 65.04. Loss: 1.145\n",
            "Epoch 7 accuracy: 69.80. Loss: 0.981\n",
            "Epoch 8 accuracy: 75.65. Loss: 0.807\n",
            "Epoch 9 accuracy: 81.83. Loss: 0.633\n",
            "Epoch 10 accuracy: 87.57. Loss: 0.470\n",
            "Epoch 11 accuracy: 92.68. Loss: 0.324\n",
            "Epoch 12 accuracy: 95.99. Loss: 0.215\n",
            "Epoch 13 accuracy: 97.93. Loss: 0.138\n",
            "Epoch 14 accuracy: 98.83. Loss: 0.091\n",
            "Epoch 15 accuracy: 99.18. Loss: 0.064\n",
            "Epoch 16 accuracy: 99.12. Loss: 0.058\n",
            "Epoch 17 accuracy: 99.50. Loss: 0.038\n",
            "Epoch 18 accuracy: 99.24. Loss: 0.044\n",
            "Epoch 19 accuracy: 99.36. Loss: 0.036\n",
            "Epoch 20 accuracy: 99.32. Loss: 0.038\n",
            "Epoch 21 accuracy: 99.52. Loss: 0.032\n",
            "Epoch 22 accuracy: 99.68. Loss: 0.019\n",
            "Epoch 23 accuracy: 99.46. Loss: 0.032\n",
            "Epoch 24 accuracy: 99.53. Loss: 0.027\n",
            "Epoch 25 accuracy: 99.68. Loss: 0.020\n",
            "Epoch 26 accuracy: 99.40. Loss: 0.035\n",
            "Epoch 27 accuracy: 99.68. Loss: 0.018\n",
            "Epoch 28 accuracy: 99.70. Loss: 0.018\n",
            "Epoch 29 accuracy: 99.64. Loss: 0.023\n",
            "Epoch 30 accuracy: 99.69. Loss: 0.019\n",
            "Epoch 31 accuracy: 99.67. Loss: 0.024\n",
            "Epoch 32 accuracy: 99.42. Loss: 0.039\n",
            "Epoch 33 accuracy: 99.81. Loss: 0.010\n",
            "Epoch 34 accuracy: 99.52. Loss: 0.025\n",
            "Epoch 35 accuracy: 99.69. Loss: 0.018\n",
            "Epoch 36 accuracy: 99.77. Loss: 0.013\n",
            "Epoch 37 accuracy: 99.62. Loss: 0.025\n",
            "Epoch 38 accuracy: 99.81. Loss: 0.010\n",
            "Epoch 39 accuracy: 99.64. Loss: 0.026\n",
            "Epoch 40 accuracy: 99.74. Loss: 0.010\n",
            "Epoch 41 accuracy: 99.72. Loss: 0.015\n",
            "Epoch 42 accuracy: 99.81. Loss: 0.017\n",
            "Epoch 43 accuracy: 99.70. Loss: 0.015\n",
            "Epoch 44 accuracy: 99.83. Loss: 0.010\n",
            "Epoch 45 accuracy: 99.68. Loss: 0.019\n",
            "Epoch 46 accuracy: 99.95. Loss: 0.005\n",
            "Epoch 47 accuracy: 99.76. Loss: 0.014\n",
            "Epoch 48 accuracy: 99.68. Loss: 0.016\n",
            "Epoch 49 accuracy: 99.81. Loss: 0.012\n",
            "Epoch 50 accuracy: 99.87. Loss: 0.010\n",
            "Epoch 51 accuracy: 99.76. Loss: 0.013\n",
            "Epoch 52 accuracy: 99.71. Loss: 0.019\n",
            "Epoch 53 accuracy: 99.72. Loss: 0.017\n",
            "Epoch 54 accuracy: 99.75. Loss: 0.014\n",
            "Epoch 55 accuracy: 99.75. Loss: 0.012\n",
            "Epoch 56 accuracy: 99.83. Loss: 0.009\n",
            "Epoch 57 accuracy: 99.80. Loss: 0.009\n",
            "Epoch 58 accuracy: 99.66. Loss: 0.018\n",
            "Epoch 59 accuracy: 99.67. Loss: 0.015\n",
            "Epoch 60 accuracy: 99.97. Loss: 0.004\n",
            "Epoch 61 accuracy: 99.75. Loss: 0.015\n",
            "Epoch 62 accuracy: 99.70. Loss: 0.019\n",
            "Epoch 63 accuracy: 99.82. Loss: 0.011\n",
            "Epoch 64 accuracy: 99.84. Loss: 0.010\n",
            "Epoch 65 accuracy: 100.00. Loss: 0.001\n",
            "Finished Training of AlexNet\n",
            "Number of epochs until 100% accuracy: 65\n",
            "Time taken: 3229.5643332004547\n"
          ]
        }
      ],
      "source": [
        "train_loader_corrupt40, _ = data.dataload(corrupt_prob=0.4)\n",
        "alexnet, device = utils.loadmodel()\n",
        "criterion = nn.CrossEntropyLoss()\n",
        "rms_optimizer = optim.RMSprop(alexnet.parameters(), lr=0.00001, weight_decay=1e-4 )\n",
        "rms_accuracies_c40, rms_losses_c40 = utils.train(alexnet, rms_optimizer, criterion, train_loader_corrupt40, device)"
      ]
    },
    {
      "cell_type": "code",
      "source": [
        "torch.save(alexnet.state_dict(), 'alexnet_corrupt40_rms.pt')\n",
        "pickle.dump([rms_accuracies_c40,rms_losses_c40], open('corrupt40_rms_acc_loss.pkl', 'wb'))"
      ],
      "metadata": {
        "id": "wwH2cpJcpHFF"
      },
      "id": "wwH2cpJcpHFF",
      "execution_count": null,
      "outputs": []
    },
    {
      "cell_type": "markdown",
      "source": [
        "RMSprop - 60% corruption"
      ],
      "metadata": {
        "id": "Wy61dCdjzZo0"
      },
      "id": "Wy61dCdjzZo0"
    },
    {
      "cell_type": "code",
      "source": [
        "train_loader_corrupt60, _ = data.dataload(corrupt_prob=0.6)\n",
        "alexnet, device = utils.loadmodel()\n",
        "criterion = nn.CrossEntropyLoss()\n",
        "rms_optimizer = optim.RMSprop(alexnet.parameters(), lr=0.00001, weight_decay=1e-4 )\n",
        "rms_accuracies_c60, rms_losses_c60 = utils.train(alexnet, rms_optimizer, criterion, train_loader_corrupt60, device)"
      ],
      "metadata": {
        "colab": {
          "base_uri": "https://localhost:8080/"
        },
        "id": "4oYFW21Y0BM9",
        "outputId": "8f6d7d37-8c53-436d-fda5-04091076eeb1"
      },
      "id": "4oYFW21Y0BM9",
      "execution_count": null,
      "outputs": [
        {
          "output_type": "stream",
          "name": "stdout",
          "text": [
            "Files already downloaded and verified\n",
            "Files already downloaded and verified\n",
            "cuda:0\n",
            "Epoch 1 accuracy: 32.73. Loss: 2.093\n",
            "Epoch 2 accuracy: 38.74. Loss: 1.962\n",
            "Epoch 3 accuracy: 41.32. Loss: 1.872\n",
            "Epoch 4 accuracy: 43.76. Loss: 1.764\n",
            "Epoch 5 accuracy: 47.06. Loss: 1.636\n",
            "Epoch 6 accuracy: 52.11. Loss: 1.479\n",
            "Epoch 7 accuracy: 58.45. Loss: 1.297\n",
            "Epoch 8 accuracy: 65.85. Loss: 1.098\n",
            "Epoch 9 accuracy: 73.85. Loss: 0.893\n",
            "Epoch 10 accuracy: 81.40. Loss: 0.692\n",
            "Epoch 11 accuracy: 88.17. Loss: 0.508\n",
            "Epoch 12 accuracy: 93.17. Loss: 0.351\n",
            "Epoch 13 accuracy: 96.36. Loss: 0.230\n",
            "Epoch 14 accuracy: 98.13. Loss: 0.148\n",
            "Epoch 15 accuracy: 98.81. Loss: 0.100\n",
            "Epoch 16 accuracy: 99.12. Loss: 0.073\n",
            "Epoch 17 accuracy: 99.13. Loss: 0.061\n",
            "Epoch 18 accuracy: 99.09. Loss: 0.059\n",
            "Epoch 19 accuracy: 99.44. Loss: 0.040\n",
            "Epoch 20 accuracy: 99.44. Loss: 0.036\n",
            "Epoch 21 accuracy: 99.13. Loss: 0.051\n",
            "Epoch 22 accuracy: 99.58. Loss: 0.026\n",
            "Epoch 23 accuracy: 99.42. Loss: 0.032\n",
            "Epoch 24 accuracy: 99.55. Loss: 0.028\n",
            "Epoch 25 accuracy: 99.55. Loss: 0.025\n",
            "Epoch 26 accuracy: 99.33. Loss: 0.036\n",
            "Epoch 27 accuracy: 99.60. Loss: 0.022\n",
            "Epoch 28 accuracy: 99.62. Loss: 0.029\n",
            "Epoch 29 accuracy: 99.47. Loss: 0.043\n",
            "Epoch 30 accuracy: 99.63. Loss: 0.019\n",
            "Epoch 31 accuracy: 99.55. Loss: 0.034\n",
            "Epoch 32 accuracy: 99.81. Loss: 0.013\n",
            "Epoch 33 accuracy: 99.55. Loss: 0.023\n",
            "Epoch 34 accuracy: 99.62. Loss: 0.020\n",
            "Epoch 35 accuracy: 99.81. Loss: 0.013\n",
            "Epoch 36 accuracy: 99.71. Loss: 0.017\n",
            "Epoch 37 accuracy: 99.55. Loss: 0.022\n",
            "Epoch 38 accuracy: 99.70. Loss: 0.020\n",
            "Epoch 39 accuracy: 99.62. Loss: 0.023\n",
            "Epoch 40 accuracy: 99.77. Loss: 0.013\n",
            "Epoch 41 accuracy: 99.64. Loss: 0.024\n",
            "Epoch 42 accuracy: 99.80. Loss: 0.015\n",
            "Epoch 43 accuracy: 99.64. Loss: 0.018\n",
            "Epoch 44 accuracy: 99.80. Loss: 0.011\n",
            "Epoch 45 accuracy: 99.78. Loss: 0.012\n",
            "Epoch 46 accuracy: 99.66. Loss: 0.019\n",
            "Epoch 47 accuracy: 99.69. Loss: 0.015\n",
            "Epoch 48 accuracy: 99.66. Loss: 0.018\n",
            "Epoch 49 accuracy: 99.68. Loss: 0.015\n",
            "Epoch 50 accuracy: 99.75. Loss: 0.013\n",
            "Epoch 51 accuracy: 99.64. Loss: 0.024\n",
            "Epoch 52 accuracy: 99.56. Loss: 0.021\n",
            "Epoch 53 accuracy: 99.81. Loss: 0.011\n",
            "Epoch 54 accuracy: 99.79. Loss: 0.013\n",
            "Epoch 55 accuracy: 99.70. Loss: 0.015\n",
            "Epoch 56 accuracy: 99.92. Loss: 0.005\n",
            "Epoch 57 accuracy: 99.69. Loss: 0.018\n",
            "Epoch 58 accuracy: 99.97. Loss: 0.002\n",
            "Epoch 59 accuracy: 99.58. Loss: 0.028\n",
            "Epoch 60 accuracy: 99.81. Loss: 0.010\n",
            "Epoch 61 accuracy: 99.76. Loss: 0.012\n",
            "Epoch 62 accuracy: 99.80. Loss: 0.010\n",
            "Epoch 63 accuracy: 99.74. Loss: 0.014\n",
            "Epoch 64 accuracy: 99.77. Loss: 0.015\n",
            "Epoch 65 accuracy: 99.76. Loss: 0.012\n",
            "Epoch 66 accuracy: 99.73. Loss: 0.014\n",
            "Epoch 67 accuracy: 99.88. Loss: 0.009\n",
            "Epoch 68 accuracy: 99.77. Loss: 0.015\n",
            "Epoch 69 accuracy: 100.00. Loss: 0.001\n",
            "Finished Training of AlexNet\n",
            "Number of epochs until 100% accuracy: 69\n",
            "Time taken: 3291.9432220458984\n"
          ]
        }
      ]
    },
    {
      "cell_type": "code",
      "source": [
        "torch.save(alexnet.state_dict(), 'alexnet_corrupt60_rms.pt')\n",
        "pickle.dump([rms_accuracies_c60,rms_losses_c60], open('corrupt60_rms_acc_loss.pkl', 'wb'))"
      ],
      "metadata": {
        "id": "SVgprzVW0BKh"
      },
      "id": "SVgprzVW0BKh",
      "execution_count": null,
      "outputs": []
    },
    {
      "cell_type": "markdown",
      "source": [
        "RMSprop - 80% corruption"
      ],
      "metadata": {
        "id": "acLo53j0DNiD"
      },
      "id": "acLo53j0DNiD"
    },
    {
      "cell_type": "code",
      "source": [
        "train_loader_corrupt80, _ = data.dataload(corrupt_prob=0.8)\n",
        "alexnet, device = utils.loadmodel()\n",
        "criterion = nn.CrossEntropyLoss()\n",
        "rms_optimizer = optim.RMSprop(alexnet.parameters(), lr=0.00001, weight_decay=1e-4 )\n",
        "rms_accuracies_c80, rms_losses_c80 = utils.train(alexnet, rms_optimizer, criterion, train_loader_corrupt80, device)"
      ],
      "metadata": {
        "id": "CehHqTA90BGW",
        "colab": {
          "base_uri": "https://localhost:8080/",
          "height": 1000,
          "referenced_widgets": [
            "e9ffd4c8ebba4fed9b906e668bc2884d",
            "902680c20add41c8bbb7fc3dd9bc80b7",
            "ff016f7be75b48cc9000c97a6e48d237",
            "115df6a91d994fb992780e36cdf80520",
            "aa9eb78bf96d4e30bfef4bf58f6e18de",
            "233f71a57e604df987719fb38702b2fe",
            "54a0fe7e4a9048b78ad57a0578ac0f0e",
            "f5456496b5ca45ed9ba02089f920dfb3",
            "e837c6661566495793c21d0a3d1128db",
            "825f0d121ed248fababa8f6a7577e386",
            "e15510fa7cd54496bdb78fc6f841380b"
          ]
        },
        "outputId": "5c37e2a3-3c59-4485-d611-1233e207f0ff"
      },
      "id": "CehHqTA90BGW",
      "execution_count": null,
      "outputs": [
        {
          "output_type": "stream",
          "name": "stdout",
          "text": [
            "Files already downloaded and verified\n",
            "Files already downloaded and verified\n"
          ]
        },
        {
          "output_type": "stream",
          "name": "stderr",
          "text": [
            "Downloading: \"https://download.pytorch.org/models/alexnet-owt-7be5be79.pth\" to /root/.cache/torch/hub/checkpoints/alexnet-owt-7be5be79.pth\n"
          ]
        },
        {
          "output_type": "display_data",
          "data": {
            "text/plain": [
              "  0%|          | 0.00/233M [00:00<?, ?B/s]"
            ],
            "application/vnd.jupyter.widget-view+json": {
              "version_major": 2,
              "version_minor": 0,
              "model_id": "e9ffd4c8ebba4fed9b906e668bc2884d"
            }
          },
          "metadata": {}
        },
        {
          "output_type": "stream",
          "name": "stdout",
          "text": [
            "cuda:0\n",
            "Epoch 1 accuracy: 18.79. Loss: 2.265\n",
            "Epoch 2 accuracy: 23.82. Loss: 2.186\n",
            "Epoch 3 accuracy: 26.68. Loss: 2.113\n",
            "Epoch 4 accuracy: 30.27. Loss: 2.016\n",
            "Epoch 5 accuracy: 35.68. Loss: 1.889\n",
            "Epoch 6 accuracy: 42.66. Loss: 1.728\n",
            "Epoch 7 accuracy: 50.18. Loss: 1.539\n",
            "Epoch 8 accuracy: 58.72. Loss: 1.330\n",
            "Epoch 9 accuracy: 67.60. Loss: 1.107\n",
            "Epoch 10 accuracy: 75.73. Loss: 0.888\n",
            "Epoch 11 accuracy: 83.27. Loss: 0.678\n",
            "Epoch 12 accuracy: 89.32. Loss: 0.492\n",
            "Epoch 13 accuracy: 93.89. Loss: 0.341\n",
            "Epoch 14 accuracy: 96.75. Loss: 0.223\n",
            "Epoch 15 accuracy: 98.20. Loss: 0.148\n",
            "Epoch 16 accuracy: 99.04. Loss: 0.099\n",
            "Epoch 17 accuracy: 99.28. Loss: 0.071\n",
            "Epoch 18 accuracy: 99.40. Loss: 0.056\n",
            "Epoch 19 accuracy: 99.20. Loss: 0.051\n",
            "Epoch 20 accuracy: 99.51. Loss: 0.036\n",
            "Epoch 21 accuracy: 99.41. Loss: 0.039\n",
            "Epoch 22 accuracy: 99.44. Loss: 0.035\n",
            "Epoch 23 accuracy: 99.41. Loss: 0.036\n",
            "Epoch 24 accuracy: 99.60. Loss: 0.027\n",
            "Epoch 25 accuracy: 99.31. Loss: 0.039\n",
            "Epoch 26 accuracy: 99.58. Loss: 0.026\n",
            "Epoch 27 accuracy: 99.60. Loss: 0.023\n",
            "Epoch 28 accuracy: 99.54. Loss: 0.026\n",
            "Epoch 29 accuracy: 99.51. Loss: 0.025\n",
            "Epoch 30 accuracy: 99.70. Loss: 0.022\n",
            "Epoch 31 accuracy: 99.66. Loss: 0.019\n",
            "Epoch 32 accuracy: 99.58. Loss: 0.023\n",
            "Epoch 33 accuracy: 99.67. Loss: 0.017\n",
            "Epoch 34 accuracy: 99.75. Loss: 0.016\n",
            "Epoch 35 accuracy: 99.40. Loss: 0.033\n",
            "Epoch 36 accuracy: 99.84. Loss: 0.010\n",
            "Epoch 37 accuracy: 99.61. Loss: 0.021\n",
            "Epoch 38 accuracy: 99.70. Loss: 0.016\n",
            "Epoch 39 accuracy: 99.64. Loss: 0.020\n",
            "Epoch 40 accuracy: 99.66. Loss: 0.015\n",
            "Epoch 41 accuracy: 99.77. Loss: 0.012\n",
            "Epoch 42 accuracy: 99.64. Loss: 0.026\n",
            "Epoch 43 accuracy: 99.76. Loss: 0.015\n",
            "Epoch 44 accuracy: 99.72. Loss: 0.015\n",
            "Epoch 45 accuracy: 99.68. Loss: 0.021\n",
            "Epoch 46 accuracy: 99.68. Loss: 0.014\n",
            "Epoch 47 accuracy: 99.63. Loss: 0.019\n",
            "Epoch 48 accuracy: 99.96. Loss: 0.005\n",
            "Epoch 49 accuracy: 99.63. Loss: 0.021\n",
            "Epoch 50 accuracy: 99.70. Loss: 0.016\n",
            "Epoch 51 accuracy: 99.61. Loss: 0.019\n",
            "Epoch 52 accuracy: 99.78. Loss: 0.012\n",
            "Epoch 53 accuracy: 99.71. Loss: 0.016\n",
            "Epoch 54 accuracy: 99.74. Loss: 0.013\n",
            "Epoch 55 accuracy: 99.91. Loss: 0.006\n",
            "Epoch 56 accuracy: 99.70. Loss: 0.020\n",
            "Epoch 57 accuracy: 99.68. Loss: 0.017\n",
            "Epoch 58 accuracy: 99.96. Loss: 0.005\n",
            "Epoch 59 accuracy: 99.81. Loss: 0.011\n",
            "Epoch 60 accuracy: 99.60. Loss: 0.018\n",
            "Epoch 61 accuracy: 99.80. Loss: 0.011\n",
            "Epoch 62 accuracy: 99.76. Loss: 0.014\n",
            "Epoch 63 accuracy: 99.92. Loss: 0.007\n",
            "Epoch 64 accuracy: 99.74. Loss: 0.013\n",
            "Epoch 65 accuracy: 99.82. Loss: 0.008\n",
            "Epoch 66 accuracy: 99.87. Loss: 0.009\n",
            "Epoch 67 accuracy: 99.71. Loss: 0.019\n",
            "Epoch 68 accuracy: 99.82. Loss: 0.012\n",
            "Epoch 69 accuracy: 99.59. Loss: 0.021\n",
            "Epoch 70 accuracy: 99.95. Loss: 0.007\n",
            "Epoch 71 accuracy: 99.76. Loss: 0.011\n",
            "Epoch 72 accuracy: 99.84. Loss: 0.009\n",
            "Epoch 73 accuracy: 99.72. Loss: 0.015\n",
            "Epoch 74 accuracy: 99.72. Loss: 0.015\n",
            "Epoch 75 accuracy: 99.84. Loss: 0.008\n",
            "Epoch 76 accuracy: 99.57. Loss: 0.024\n",
            "Epoch 77 accuracy: 99.75. Loss: 0.013\n",
            "Epoch 78 accuracy: 99.94. Loss: 0.005\n",
            "Epoch 79 accuracy: 99.84. Loss: 0.009\n",
            "Epoch 80 accuracy: 99.74. Loss: 0.012\n",
            "Epoch 81 accuracy: 99.80. Loss: 0.012\n",
            "Epoch 82 accuracy: 99.80. Loss: 0.013\n",
            "Epoch 83 accuracy: 99.84. Loss: 0.011\n",
            "Epoch 84 accuracy: 99.70. Loss: 0.018\n",
            "Epoch 85 accuracy: 99.99. Loss: 0.001\n",
            "Epoch 86 accuracy: 99.72. Loss: 0.014\n",
            "Epoch 87 accuracy: 99.92. Loss: 0.007\n",
            "Epoch 88 accuracy: 99.70. Loss: 0.013\n",
            "Epoch 89 accuracy: 99.91. Loss: 0.005\n",
            "Epoch 90 accuracy: 99.56. Loss: 0.025\n",
            "Epoch 91 accuracy: 99.80. Loss: 0.012\n",
            "Epoch 92 accuracy: 99.84. Loss: 0.007\n",
            "Epoch 93 accuracy: 99.80. Loss: 0.010\n",
            "Epoch 94 accuracy: 99.85. Loss: 0.008\n",
            "Epoch 95 accuracy: 99.82. Loss: 0.010\n",
            "Epoch 96 accuracy: 99.80. Loss: 0.011\n",
            "Epoch 97 accuracy: 99.85. Loss: 0.010\n",
            "Epoch 98 accuracy: 99.69. Loss: 0.014\n",
            "Epoch 99 accuracy: 99.97. Loss: 0.004\n",
            "Epoch 100 accuracy: 99.82. Loss: 0.012\n",
            "Epoch 101 accuracy: 99.79. Loss: 0.013\n",
            "Epoch 102 accuracy: 99.99. Loss: 0.002\n",
            "Epoch 103 accuracy: 99.60. Loss: 0.029\n",
            "Epoch 104 accuracy: 99.74. Loss: 0.013\n",
            "Epoch 105 accuracy: 99.86. Loss: 0.009\n",
            "Epoch 106 accuracy: 99.74. Loss: 0.014\n",
            "Epoch 107 accuracy: 99.58. Loss: 0.024\n",
            "Epoch 108 accuracy: 99.98. Loss: 0.002\n",
            "Epoch 109 accuracy: 99.68. Loss: 0.023\n",
            "Epoch 110 accuracy: 100.00. Loss: 0.001\n",
            "Epoch 111 accuracy: 99.56. Loss: 0.050\n",
            "Epoch 112 accuracy: 100.00. Loss: 0.001\n",
            "Finished Training of AlexNet\n",
            "Number of epochs until 100% accuracy: 112\n",
            "Time taken: 5880.33805847168\n"
          ]
        }
      ]
    },
    {
      "cell_type": "code",
      "source": [
        "torch.save(alexnet.state_dict(), 'alexnet_corrupt80_rms.pt')\n",
        "pickle.dump([rms_accuracies_c80,rms_losses_c80], open('corrupt80_rms_acc_loss.pkl', 'wb'))"
      ],
      "metadata": {
        "id": "mSyNdE060BD6"
      },
      "id": "mSyNdE060BD6",
      "execution_count": null,
      "outputs": []
    },
    {
      "cell_type": "markdown",
      "source": [
        "RMSprop - 100% corruption"
      ],
      "metadata": {
        "id": "n9mOH4LmcZn5"
      },
      "id": "n9mOH4LmcZn5"
    },
    {
      "cell_type": "code",
      "source": [
        "train_loader_corrupt100, _ = data.dataload(corrupt_prob=1)\n",
        "alexnet, device = utils.loadmodel()\n",
        "criterion = nn.CrossEntropyLoss()\n",
        "rms_optimizer = optim.RMSprop(alexnet.parameters(), lr=0.00001, weight_decay=1e-4 )\n",
        "rms_accuracies_c100, rms_losses_c100 = utils.train(alexnet, rms_optimizer, criterion, train_loader_corrupt100, device)"
      ],
      "metadata": {
        "id": "SLg2NdSQ0A2X",
        "colab": {
          "base_uri": "https://localhost:8080/",
          "height": 1000,
          "referenced_widgets": [
            "68f9c72f74f744a6b8e7e2ba441ca180",
            "aafb1f8898444ac5a8c2de4bdd3a3c41",
            "2281f630dfa3490b94e5ea36c3b8b967",
            "7b23f4784ec74d268ff61b67066e66de",
            "bf709fe732c84d0a97e3c0c4b21ce2da",
            "59e3084897fe4df7ae822cbd0f33c6e2",
            "3867242a3a584a8d9bf1620e1ec08564",
            "01baeb4cde734b49874acc2256459bb7",
            "39fe240c27df4c6ab1b68953666912c8",
            "96dd6a7dd5db406db6eeeef608a5ea87",
            "12828e33538446daabe0560f211bcaf1"
          ]
        },
        "outputId": "94cc7411-ce56-47cb-b98a-3e7d47f4a97c"
      },
      "id": "SLg2NdSQ0A2X",
      "execution_count": null,
      "outputs": [
        {
          "metadata": {
            "tags": null
          },
          "name": "stdout",
          "output_type": "stream",
          "text": [
            "Files already downloaded and verified\n",
            "Files already downloaded and verified\n"
          ]
        },
        {
          "metadata": {
            "tags": null
          },
          "name": "stderr",
          "output_type": "stream",
          "text": [
            "Downloading: \"https://download.pytorch.org/models/alexnet-owt-7be5be79.pth\" to /root/.cache/torch/hub/checkpoints/alexnet-owt-7be5be79.pth\n"
          ]
        },
        {
          "data": {
            "application/vnd.jupyter.widget-view+json": {
              "model_id": "68f9c72f74f744a6b8e7e2ba441ca180",
              "version_major": 2,
              "version_minor": 0
            },
            "text/plain": [
              "  0%|          | 0.00/233M [00:00<?, ?B/s]"
            ]
          },
          "metadata": {},
          "output_type": "display_data"
        },
        {
          "output_type": "stream",
          "name": "stdout",
          "text": [
            "cuda:0\n",
            "Epoch 1 accuracy: 10.00. Loss: 2.310\n",
            "Epoch 2 accuracy: 12.34. Loss: 2.293\n",
            "Epoch 3 accuracy: 15.23. Loss: 2.271\n",
            "Epoch 4 accuracy: 18.44. Loss: 2.235\n",
            "Epoch 5 accuracy: 22.12. Loss: 2.178\n",
            "Epoch 6 accuracy: 26.38. Loss: 2.102\n",
            "Epoch 7 accuracy: 31.16. Loss: 2.003\n",
            "Epoch 8 accuracy: 36.41. Loss: 1.885\n",
            "Epoch 9 accuracy: 42.40. Loss: 1.749\n",
            "Epoch 10 accuracy: 48.47. Loss: 1.598\n",
            "Epoch 11 accuracy: 55.28. Loss: 1.433\n",
            "Epoch 12 accuracy: 61.52. Loss: 1.266\n",
            "Epoch 13 accuracy: 67.69. Loss: 1.097\n",
            "Epoch 14 accuracy: 73.68. Loss: 0.928\n",
            "Epoch 15 accuracy: 79.32. Loss: 0.769\n",
            "Epoch 16 accuracy: 84.30. Loss: 0.624\n",
            "Epoch 17 accuracy: 88.31. Loss: 0.494\n",
            "Epoch 18 accuracy: 91.89. Loss: 0.380\n",
            "Epoch 19 accuracy: 94.37. Loss: 0.288\n",
            "Epoch 20 accuracy: 96.14. Loss: 0.215\n",
            "Epoch 21 accuracy: 97.43. Loss: 0.160\n",
            "Epoch 22 accuracy: 98.25. Loss: 0.119\n",
            "Epoch 23 accuracy: 98.80. Loss: 0.094\n",
            "Epoch 24 accuracy: 98.77. Loss: 0.082\n",
            "Epoch 25 accuracy: 99.04. Loss: 0.068\n",
            "Epoch 26 accuracy: 99.17. Loss: 0.060\n",
            "Epoch 27 accuracy: 99.22. Loss: 0.056\n",
            "Epoch 28 accuracy: 99.40. Loss: 0.043\n",
            "Epoch 29 accuracy: 98.98. Loss: 0.066\n",
            "Epoch 30 accuracy: 99.68. Loss: 0.029\n",
            "Epoch 31 accuracy: 99.44. Loss: 0.036\n",
            "Epoch 32 accuracy: 99.44. Loss: 0.036\n",
            "Epoch 33 accuracy: 99.49. Loss: 0.033\n",
            "Epoch 34 accuracy: 99.52. Loss: 0.029\n",
            "Epoch 35 accuracy: 99.34. Loss: 0.032\n",
            "Epoch 36 accuracy: 99.69. Loss: 0.021\n",
            "Epoch 37 accuracy: 99.44. Loss: 0.031\n",
            "Epoch 38 accuracy: 99.37. Loss: 0.033\n",
            "Epoch 39 accuracy: 99.65. Loss: 0.026\n",
            "Epoch 40 accuracy: 99.59. Loss: 0.023\n",
            "Epoch 41 accuracy: 99.55. Loss: 0.032\n",
            "Epoch 42 accuracy: 99.51. Loss: 0.030\n",
            "Epoch 43 accuracy: 99.50. Loss: 0.033\n",
            "Epoch 44 accuracy: 99.62. Loss: 0.026\n",
            "Epoch 45 accuracy: 99.48. Loss: 0.036\n",
            "Epoch 46 accuracy: 99.83. Loss: 0.012\n",
            "Epoch 47 accuracy: 99.51. Loss: 0.028\n",
            "Epoch 48 accuracy: 99.59. Loss: 0.022\n",
            "Epoch 49 accuracy: 99.58. Loss: 0.030\n",
            "Epoch 50 accuracy: 99.80. Loss: 0.011\n",
            "Epoch 51 accuracy: 99.64. Loss: 0.019\n",
            "Epoch 52 accuracy: 99.66. Loss: 0.023\n",
            "Epoch 53 accuracy: 99.49. Loss: 0.022\n",
            "Epoch 54 accuracy: 99.65. Loss: 0.019\n",
            "Epoch 55 accuracy: 99.56. Loss: 0.030\n",
            "Epoch 56 accuracy: 99.78. Loss: 0.012\n",
            "Epoch 57 accuracy: 99.61. Loss: 0.022\n",
            "Epoch 58 accuracy: 99.73. Loss: 0.014\n",
            "Epoch 59 accuracy: 99.68. Loss: 0.018\n",
            "Epoch 60 accuracy: 99.73. Loss: 0.017\n",
            "Epoch 61 accuracy: 99.64. Loss: 0.022\n",
            "Epoch 62 accuracy: 99.74. Loss: 0.015\n",
            "Epoch 63 accuracy: 99.80. Loss: 0.011\n",
            "Epoch 64 accuracy: 99.64. Loss: 0.018\n",
            "Epoch 65 accuracy: 99.78. Loss: 0.013\n",
            "Epoch 66 accuracy: 99.66. Loss: 0.017\n",
            "Epoch 67 accuracy: 99.77. Loss: 0.014\n",
            "Epoch 68 accuracy: 99.88. Loss: 0.008\n",
            "Epoch 69 accuracy: 99.59. Loss: 0.024\n",
            "Epoch 70 accuracy: 99.79. Loss: 0.010\n",
            "Epoch 71 accuracy: 99.66. Loss: 0.015\n",
            "Epoch 72 accuracy: 99.76. Loss: 0.013\n",
            "Epoch 73 accuracy: 99.49. Loss: 0.028\n",
            "Epoch 74 accuracy: 99.96. Loss: 0.004\n",
            "Epoch 75 accuracy: 99.69. Loss: 0.017\n",
            "Epoch 76 accuracy: 99.81. Loss: 0.010\n",
            "Epoch 77 accuracy: 99.61. Loss: 0.020\n",
            "Epoch 78 accuracy: 99.79. Loss: 0.011\n",
            "Epoch 79 accuracy: 99.69. Loss: 0.023\n",
            "Epoch 80 accuracy: 99.74. Loss: 0.013\n",
            "Epoch 81 accuracy: 99.64. Loss: 0.026\n",
            "Epoch 82 accuracy: 99.98. Loss: 0.003\n",
            "Epoch 83 accuracy: 99.69. Loss: 0.019\n",
            "Epoch 84 accuracy: 99.69. Loss: 0.016\n",
            "Epoch 85 accuracy: 99.78. Loss: 0.011\n",
            "Epoch 86 accuracy: 99.74. Loss: 0.021\n",
            "Epoch 87 accuracy: 99.95. Loss: 0.005\n",
            "Epoch 88 accuracy: 99.66. Loss: 0.019\n",
            "Epoch 89 accuracy: 99.78. Loss: 0.013\n",
            "Epoch 90 accuracy: 99.74. Loss: 0.016\n",
            "Epoch 91 accuracy: 99.82. Loss: 0.010\n",
            "Epoch 92 accuracy: 99.86. Loss: 0.009\n",
            "Epoch 93 accuracy: 99.69. Loss: 0.023\n",
            "Epoch 94 accuracy: 99.74. Loss: 0.016\n",
            "Epoch 95 accuracy: 99.99. Loss: 0.001\n",
            "Epoch 96 accuracy: 99.71. Loss: 0.017\n",
            "Epoch 97 accuracy: 99.70. Loss: 0.016\n",
            "Epoch 98 accuracy: 99.90. Loss: 0.007\n",
            "Epoch 99 accuracy: 99.72. Loss: 0.015\n",
            "Epoch 100 accuracy: 99.81. Loss: 0.010\n",
            "Epoch 101 accuracy: 99.80. Loss: 0.015\n",
            "Epoch 102 accuracy: 99.74. Loss: 0.013\n",
            "Epoch 103 accuracy: 99.80. Loss: 0.011\n",
            "Epoch 104 accuracy: 99.86. Loss: 0.010\n",
            "Epoch 105 accuracy: 99.78. Loss: 0.011\n",
            "Epoch 106 accuracy: 99.94. Loss: 0.004\n",
            "Epoch 107 accuracy: 99.68. Loss: 0.019\n",
            "Epoch 108 accuracy: 99.70. Loss: 0.013\n",
            "Epoch 109 accuracy: 99.90. Loss: 0.005\n",
            "Epoch 110 accuracy: 99.67. Loss: 0.018\n",
            "Epoch 111 accuracy: 99.92. Loss: 0.004\n",
            "Epoch 112 accuracy: 99.74. Loss: 0.014\n",
            "Epoch 113 accuracy: 99.94. Loss: 0.006\n",
            "Epoch 114 accuracy: 99.79. Loss: 0.012\n",
            "Epoch 115 accuracy: 99.80. Loss: 0.011\n",
            "Epoch 116 accuracy: 99.85. Loss: 0.008\n",
            "Epoch 117 accuracy: 99.76. Loss: 0.012\n",
            "Epoch 118 accuracy: 99.82. Loss: 0.009\n",
            "Epoch 119 accuracy: 99.86. Loss: 0.007\n",
            "Epoch 120 accuracy: 99.76. Loss: 0.014\n",
            "Epoch 121 accuracy: 99.71. Loss: 0.018\n",
            "Epoch 122 accuracy: 99.90. Loss: 0.006\n",
            "Epoch 123 accuracy: 99.84. Loss: 0.009\n",
            "Epoch 124 accuracy: 99.75. Loss: 0.014\n",
            "Epoch 125 accuracy: 99.78. Loss: 0.014\n",
            "Epoch 126 accuracy: 99.79. Loss: 0.014\n",
            "Epoch 127 accuracy: 99.83. Loss: 0.010\n",
            "Epoch 128 accuracy: 99.82. Loss: 0.009\n",
            "Epoch 129 accuracy: 99.90. Loss: 0.006\n",
            "Epoch 130 accuracy: 99.75. Loss: 0.015\n",
            "Epoch 131 accuracy: 99.91. Loss: 0.006\n",
            "Epoch 132 accuracy: 99.80. Loss: 0.011\n",
            "Epoch 133 accuracy: 99.80. Loss: 0.013\n",
            "Epoch 134 accuracy: 99.83. Loss: 0.008\n",
            "Epoch 135 accuracy: 99.86. Loss: 0.009\n",
            "Epoch 136 accuracy: 99.75. Loss: 0.013\n",
            "Epoch 137 accuracy: 99.86. Loss: 0.006\n",
            "Epoch 138 accuracy: 99.82. Loss: 0.010\n",
            "Epoch 139 accuracy: 99.86. Loss: 0.008\n",
            "Epoch 140 accuracy: 99.82. Loss: 0.011\n",
            "Epoch 141 accuracy: 99.90. Loss: 0.007\n",
            "Epoch 142 accuracy: 99.80. Loss: 0.009\n",
            "Epoch 143 accuracy: 99.98. Loss: 0.002\n",
            "Epoch 144 accuracy: 99.68. Loss: 0.018\n",
            "Epoch 145 accuracy: 99.93. Loss: 0.005\n",
            "Epoch 146 accuracy: 99.83. Loss: 0.009\n",
            "Epoch 147 accuracy: 99.64. Loss: 0.022\n",
            "Epoch 148 accuracy: 99.72. Loss: 0.013\n",
            "Epoch 149 accuracy: 99.94. Loss: 0.005\n",
            "Epoch 150 accuracy: 99.76. Loss: 0.013\n",
            "Epoch 151 accuracy: 99.84. Loss: 0.009\n",
            "Epoch 152 accuracy: 99.79. Loss: 0.011\n",
            "Epoch 153 accuracy: 99.70. Loss: 0.018\n",
            "Epoch 154 accuracy: 99.82. Loss: 0.010\n",
            "Epoch 155 accuracy: 99.82. Loss: 0.009\n",
            "Epoch 156 accuracy: 99.68. Loss: 0.025\n",
            "Epoch 157 accuracy: 99.78. Loss: 0.012\n",
            "Epoch 158 accuracy: 99.80. Loss: 0.011\n",
            "Epoch 159 accuracy: 99.90. Loss: 0.006\n",
            "Epoch 160 accuracy: 99.78. Loss: 0.010\n",
            "Epoch 161 accuracy: 99.99. Loss: 0.001\n",
            "Epoch 162 accuracy: 99.77. Loss: 0.015\n",
            "Epoch 163 accuracy: 99.82. Loss: 0.012\n",
            "Epoch 164 accuracy: 99.99. Loss: 0.001\n",
            "Epoch 165 accuracy: 99.67. Loss: 0.018\n",
            "Epoch 166 accuracy: 99.76. Loss: 0.012\n",
            "Epoch 167 accuracy: 99.71. Loss: 0.013\n",
            "Epoch 168 accuracy: 99.83. Loss: 0.008\n",
            "Epoch 169 accuracy: 99.81. Loss: 0.009\n",
            "Epoch 170 accuracy: 99.84. Loss: 0.009\n",
            "Epoch 171 accuracy: 99.83. Loss: 0.009\n",
            "Epoch 172 accuracy: 99.90. Loss: 0.006\n",
            "Epoch 173 accuracy: 99.82. Loss: 0.008\n",
            "Epoch 174 accuracy: 99.79. Loss: 0.009\n",
            "Epoch 175 accuracy: 99.90. Loss: 0.006\n",
            "Epoch 176 accuracy: 99.75. Loss: 0.014\n",
            "Epoch 177 accuracy: 99.81. Loss: 0.007\n",
            "Epoch 178 accuracy: 99.97. Loss: 0.002\n",
            "Epoch 179 accuracy: 99.98. Loss: 0.001\n",
            "Epoch 180 accuracy: 99.63. Loss: 0.023\n",
            "Epoch 181 accuracy: 99.78. Loss: 0.013\n",
            "Epoch 182 accuracy: 99.75. Loss: 0.014\n",
            "Epoch 183 accuracy: 99.94. Loss: 0.003\n",
            "Epoch 184 accuracy: 99.75. Loss: 0.017\n",
            "Epoch 185 accuracy: 99.86. Loss: 0.008\n",
            "Epoch 186 accuracy: 99.83. Loss: 0.012\n",
            "Epoch 187 accuracy: 99.82. Loss: 0.008\n",
            "Epoch 188 accuracy: 99.81. Loss: 0.009\n",
            "Epoch 189 accuracy: 99.82. Loss: 0.009\n",
            "Epoch 190 accuracy: 99.71. Loss: 0.020\n",
            "Epoch 191 accuracy: 99.86. Loss: 0.009\n",
            "Epoch 192 accuracy: 99.77. Loss: 0.013\n",
            "Epoch 193 accuracy: 99.94. Loss: 0.005\n",
            "Epoch 194 accuracy: 99.76. Loss: 0.014\n",
            "Epoch 195 accuracy: 99.81. Loss: 0.011\n",
            "Epoch 196 accuracy: 99.75. Loss: 0.017\n",
            "Epoch 197 accuracy: 99.74. Loss: 0.014\n",
            "Epoch 198 accuracy: 99.88. Loss: 0.008\n",
            "Epoch 199 accuracy: 99.81. Loss: 0.008\n",
            "Epoch 200 accuracy: 99.96. Loss: 0.003\n",
            "Epoch 201 accuracy: 99.78. Loss: 0.013\n",
            "Epoch 202 accuracy: 99.84. Loss: 0.009\n",
            "Epoch 203 accuracy: 99.79. Loss: 0.012\n",
            "Epoch 204 accuracy: 99.92. Loss: 0.004\n",
            "Epoch 205 accuracy: 99.73. Loss: 0.014\n",
            "Epoch 206 accuracy: 99.82. Loss: 0.012\n",
            "Epoch 207 accuracy: 99.72. Loss: 0.015\n",
            "Epoch 208 accuracy: 99.88. Loss: 0.005\n",
            "Epoch 209 accuracy: 99.86. Loss: 0.008\n",
            "Epoch 210 accuracy: 99.81. Loss: 0.009\n",
            "Epoch 211 accuracy: 99.87. Loss: 0.007\n",
            "Epoch 212 accuracy: 99.71. Loss: 0.019\n",
            "Epoch 213 accuracy: 100.00. Loss: 0.000\n",
            "Finished Training of AlexNet\n",
            "Number of epochs until 100% accuracy: 213\n",
            "Time taken: 10767.457221508026\n"
          ]
        }
      ]
    },
    {
      "cell_type": "code",
      "source": [
        "torch.save(alexnet.state_dict(), 'alexnet_corrupt100_rms.pt')\n",
        "pickle.dump([rms_accuracies_c100,rms_losses_c100], open('corrupt100_rms_acc_loss.pkl', 'wb'))"
      ],
      "metadata": {
        "id": "cKeVbgqCywni"
      },
      "id": "cKeVbgqCywni",
      "execution_count": null,
      "outputs": []
    },
    {
      "cell_type": "markdown",
      "source": [
        "Label Corruption Results"
      ],
      "metadata": {
        "id": "ktKCT1FBC-dd"
      },
      "id": "ktKCT1FBC-dd"
    },
    {
      "cell_type": "code",
      "source": [
        "files=['baseline_rms_acc_loss.pkl', 'corrupt20_rms_acc_loss.pkl', 'corrupt40_rms_acc_loss.pkl', \n",
        "       'corrupt60_rms_acc_loss.pkl', 'corrupt80_rms_acc_loss.pkl', 'corrupt100_rms_acc_loss.pkl']\n",
        "       \n",
        "acc_list=[]  \n",
        "loss_list=[]       \n",
        "for f in files:\n",
        "    open_file = open(f, \"rb\")\n",
        "    results = pickle.load(open_file)\n",
        "    open_file.close()\n",
        "    acc_list.append(results[0])\n",
        "    loss_list.append(results[1])\n"
      ],
      "metadata": {
        "id": "-W2tcMnLB6VO"
      },
      "id": "-W2tcMnLB6VO",
      "execution_count": null,
      "outputs": []
    },
    {
      "cell_type": "code",
      "source": [
        "import matplotlib.pyplot as plt\n",
        "def plot(metric, label):\n",
        "  plt.figure(figsize=(10,5))\n",
        "  markers = ['x','o','v','*','^','+']\n",
        "  for m, marker in zip(metric, markers):\n",
        "    plt.plot(m, marker=marker)\n",
        "  plt.legend([f'{x}% label corruption' for x in [0, 20, 40, 60, 80, 100]])\n",
        "  plt.ylabel(label)\n",
        "  plt.xlabel('Epoch')\n",
        "\n",
        "plot(acc_list, 'Train accuracy (%)')"
      ],
      "metadata": {
        "colab": {
          "base_uri": "https://localhost:8080/",
          "height": 334
        },
        "id": "09HXevkgBswW",
        "outputId": "e071cc45-e768-4f10-8130-e2523f802ec5"
      },
      "id": "09HXevkgBswW",
      "execution_count": null,
      "outputs": [
        {
          "output_type": "display_data",
          "data": {
            "text/plain": [
              "<Figure size 720x360 with 1 Axes>"
            ],
            "image/png": "[encoded data removed]"
          },
          "metadata": {
            "needs_background": "light"
          }
        }
      ]
    },
    {
      "cell_type": "code",
      "source": [
        "plot(loss_list, 'Loss')"
      ],
      "metadata": {
        "colab": {
          "base_uri": "https://localhost:8080/",
          "height": 334
        },
        "id": "xUrcV-pYGNVK",
        "outputId": "9fb6f3f9-23cf-4608-e1f8-99b96ac4ae0d"
      },
      "id": "xUrcV-pYGNVK",
      "execution_count": null,
      "outputs": [
        {
          "output_type": "display_data",
          "data": {
            "text/plain": [
              "<Figure size 720x360 with 1 Axes>"
            ],
            "image/png": "[encoded data removed]"
          },
          "metadata": {
            "needs_background": "light"
          }
        }
      ]
    },
    {
      "cell_type": "code",
      "source": [
        "import matplotlib.pyplot as plt\n",
        "def plot(metric, label):\n",
        "  plt.figure(figsize=(10,5))\n",
        "  markers = ['x','o','v','*','^','+']\n",
        "  for m, marker in zip(metric, markers):\n",
        "    plt.plot(m[:30], marker=marker)\n",
        "  plt.legend([f'{x}% label corruption' for x in [0, 20, 40, 60, 80, 100]])\n",
        "  plt.ylabel(label)\n",
        "  plt.xlabel('Epoch')\n",
        "\n",
        "plot(acc_list, 'Train accuracy (%)')"
      ],
      "metadata": {
        "colab": {
          "base_uri": "https://localhost:8080/",
          "height": 334
        },
        "id": "XL8T92hZwaJX",
        "outputId": "b907c237-a069-4f47-9e4f-95e56be14ea4"
      },
      "id": "XL8T92hZwaJX",
      "execution_count": null,
      "outputs": [
        {
          "output_type": "display_data",
          "data": {
            "text/plain": [
              "<Figure size 720x360 with 1 Axes>"
            ],
            "image/png": "[encoded data removed]"
          },
          "metadata": {
            "needs_background": "light"
          }
        }
      ]
    },
    {
      "cell_type": "code",
      "source": [
        "plot(loss_list, 'Loss')"
      ],
      "metadata": {
        "colab": {
          "base_uri": "https://localhost:8080/",
          "height": 334
        },
        "id": "zLgCRC9WwgF3",
        "outputId": "6ae9fe2b-d28b-4562-fd38-65bb2e4071b1"
      },
      "id": "zLgCRC9WwgF3",
      "execution_count": null,
      "outputs": [
        {
          "output_type": "display_data",
          "data": {
            "text/plain": [
              "<Figure size 720x360 with 1 Axes>"
            ],
            "image/png": "[encoded data removed]"
          },
          "metadata": {
            "needs_background": "light"
          }
        }
      ]
    },
    {
      "cell_type": "markdown",
      "source": [
        "**Pixel Permutation & Noise**"
      ],
      "metadata": {
        "id": "TmpW7ihMFFWz"
      },
      "id": "TmpW7ihMFFWz"
    },
    {
      "cell_type": "markdown",
      "source": [
        "Perm level = 1"
      ],
      "metadata": {
        "id": "PmrjSrpxGI4r"
      },
      "id": "PmrjSrpxGI4r"
    },
    {
      "cell_type": "code",
      "source": [
        "train_loader_perm1, _ = data.dataload(perm_level=1)\n",
        "alexnet, device = utils.loadmodel()\n",
        "criterion = nn.CrossEntropyLoss()\n",
        "rms_optimizer = optim.RMSprop(alexnet.parameters(), lr=0.00001, weight_decay=1e-4 )\n",
        "rms_accuracies_perm1, rms_losses_perm1 = utils.train(alexnet, rms_optimizer, criterion, train_loader_perm1, device)"
      ],
      "metadata": {
        "colab": {
          "base_uri": "https://localhost:8080/"
        },
        "id": "-BjPXv0eFXpc",
        "outputId": "4f4cbce8-6356-4b12-ba00-564e31908004"
      },
      "id": "-BjPXv0eFXpc",
      "execution_count": null,
      "outputs": [
        {
          "output_type": "stream",
          "name": "stdout",
          "text": [
            "Files already downloaded and verified\n",
            "Files already downloaded and verified\n",
            "cuda:0\n",
            "Epoch 1 accuracy: 55.98. Loss: 1.234\n",
            "Epoch 2 accuracy: 67.31. Loss: 0.930\n",
            "Epoch 3 accuracy: 72.81. Loss: 0.783\n",
            "Epoch 4 accuracy: 77.45. Loss: 0.664\n",
            "Epoch 5 accuracy: 81.60. Loss: 0.556\n",
            "Epoch 6 accuracy: 84.92. Loss: 0.455\n",
            "Epoch 7 accuracy: 88.70. Loss: 0.363\n",
            "Epoch 8 accuracy: 91.73. Loss: 0.278\n",
            "Epoch 9 accuracy: 94.24. Loss: 0.207\n",
            "Epoch 10 accuracy: 96.46. Loss: 0.146\n",
            "Epoch 11 accuracy: 97.86. Loss: 0.102\n",
            "Epoch 12 accuracy: 98.66. Loss: 0.072\n",
            "Epoch 13 accuracy: 99.08. Loss: 0.059\n",
            "Epoch 14 accuracy: 99.46. Loss: 0.041\n",
            "Epoch 15 accuracy: 99.20. Loss: 0.044\n",
            "Epoch 16 accuracy: 99.54. Loss: 0.033\n",
            "Epoch 17 accuracy: 99.34. Loss: 0.036\n",
            "Epoch 18 accuracy: 99.58. Loss: 0.031\n",
            "Epoch 19 accuracy: 99.56. Loss: 0.031\n",
            "Epoch 20 accuracy: 99.68. Loss: 0.028\n",
            "Epoch 21 accuracy: 99.74. Loss: 0.023\n",
            "Epoch 22 accuracy: 99.67. Loss: 0.024\n",
            "Epoch 23 accuracy: 99.64. Loss: 0.028\n",
            "Epoch 24 accuracy: 99.58. Loss: 0.028\n",
            "Epoch 25 accuracy: 99.63. Loss: 0.024\n",
            "Epoch 26 accuracy: 99.99. Loss: 0.004\n",
            "Epoch 27 accuracy: 99.66. Loss: 0.030\n",
            "Epoch 28 accuracy: 99.64. Loss: 0.024\n",
            "Epoch 29 accuracy: 100.00. Loss: 0.002\n",
            "Finished Training of AlexNet\n",
            "Number of epochs until 100% accuracy: 29\n",
            "Time taken: 1511.6492273807526\n"
          ]
        }
      ]
    },
    {
      "cell_type": "code",
      "source": [
        "torch.save(alexnet.state_dict(), 'alexnet_perm1_rms.pt')\n",
        "pickle.dump([rms_accuracies_perm1,rms_losses_perm1], open('perm1_rms_acc_loss.pkl', 'wb'))"
      ],
      "metadata": {
        "id": "RY5_MYogYiJB"
      },
      "id": "RY5_MYogYiJB",
      "execution_count": null,
      "outputs": []
    },
    {
      "cell_type": "markdown",
      "source": [
        "Perm level = 2"
      ],
      "metadata": {
        "id": "L2uRSnqpHV7j"
      },
      "id": "L2uRSnqpHV7j"
    },
    {
      "cell_type": "code",
      "source": [
        "train_loader_perm2, _ = data.dataload(perm_level=2)\n",
        "alexnet, device = utils.loadmodel()\n",
        "criterion = nn.CrossEntropyLoss()\n",
        "rms_optimizer = optim.RMSprop(alexnet.parameters(), lr=0.00001, weight_decay=1e-4 )\n",
        "rms_accuracies_perm2, rms_losses_perm2 = utils.train(alexnet, rms_optimizer, criterion, train_loader_perm2, device)"
      ],
      "metadata": {
        "colab": {
          "base_uri": "https://localhost:8080/"
        },
        "id": "FGbr-QuIYh3u",
        "outputId": "caae4f29-1a4c-41ac-8728-c3397d69849a"
      },
      "id": "FGbr-QuIYh3u",
      "execution_count": null,
      "outputs": [
        {
          "output_type": "stream",
          "name": "stdout",
          "text": [
            "Files already downloaded and verified\n",
            "Files already downloaded and verified\n",
            "cuda:0\n",
            "Epoch 1 accuracy: 48.22. Loss: 1.440\n",
            "Epoch 2 accuracy: 59.24. Loss: 1.155\n",
            "Epoch 3 accuracy: 64.46. Loss: 1.013\n",
            "Epoch 4 accuracy: 69.10. Loss: 0.896\n",
            "Epoch 5 accuracy: 73.06. Loss: 0.787\n",
            "Epoch 6 accuracy: 77.08. Loss: 0.684\n",
            "Epoch 7 accuracy: 81.03. Loss: 0.582\n",
            "Epoch 8 accuracy: 84.70. Loss: 0.481\n",
            "Epoch 9 accuracy: 88.06. Loss: 0.390\n",
            "Epoch 10 accuracy: 91.29. Loss: 0.303\n",
            "Epoch 11 accuracy: 93.92. Loss: 0.228\n",
            "Epoch 12 accuracy: 96.11. Loss: 0.166\n",
            "Epoch 13 accuracy: 97.50. Loss: 0.119\n",
            "Epoch 14 accuracy: 98.62. Loss: 0.082\n",
            "Epoch 15 accuracy: 98.94. Loss: 0.066\n",
            "Epoch 16 accuracy: 99.27. Loss: 0.050\n",
            "Epoch 17 accuracy: 99.14. Loss: 0.050\n",
            "Epoch 18 accuracy: 99.45. Loss: 0.040\n",
            "Epoch 19 accuracy: 99.35. Loss: 0.040\n",
            "Epoch 20 accuracy: 99.32. Loss: 0.045\n",
            "Epoch 21 accuracy: 99.69. Loss: 0.021\n",
            "Epoch 22 accuracy: 99.61. Loss: 0.030\n",
            "Epoch 23 accuracy: 99.58. Loss: 0.030\n",
            "Epoch 24 accuracy: 99.62. Loss: 0.023\n",
            "Epoch 25 accuracy: 99.57. Loss: 0.035\n",
            "Epoch 26 accuracy: 99.48. Loss: 0.035\n",
            "Epoch 27 accuracy: 99.68. Loss: 0.025\n",
            "Epoch 28 accuracy: 99.67. Loss: 0.027\n",
            "Epoch 29 accuracy: 99.76. Loss: 0.015\n",
            "Epoch 30 accuracy: 99.64. Loss: 0.022\n",
            "Epoch 31 accuracy: 100.00. Loss: 0.002\n",
            "Epoch 32 accuracy: 99.54. Loss: 0.028\n",
            "Epoch 33 accuracy: 99.55. Loss: 0.043\n",
            "Epoch 34 accuracy: 99.58. Loss: 0.029\n",
            "Epoch 35 accuracy: 100.00. Loss: 0.003\n",
            "Epoch 36 accuracy: 99.57. Loss: 0.038\n",
            "Epoch 37 accuracy: 100.00. Loss: 0.001\n",
            "Finished Training of AlexNet\n",
            "Number of epochs until 100% accuracy: 37\n",
            "Time taken: 1804.7710225582123\n"
          ]
        }
      ]
    },
    {
      "cell_type": "code",
      "source": [
        "torch.save(alexnet.state_dict(), 'alexnet_perm2_rms.pt')\n",
        "pickle.dump([rms_accuracies_perm2,rms_losses_perm2], open('perm2_rms_acc_loss.pkl', 'wb'))"
      ],
      "metadata": {
        "id": "Et0wO4EuHhsv"
      },
      "id": "Et0wO4EuHhsv",
      "execution_count": null,
      "outputs": []
    },
    {
      "cell_type": "markdown",
      "source": [
        "Random Gaussian Noise"
      ],
      "metadata": {
        "id": "QMtUUlyeOSgP"
      },
      "id": "QMtUUlyeOSgP"
    },
    {
      "cell_type": "code",
      "source": [
        "train_loader_rand, _ = data.dataload(random_noise=True)\n",
        "alexnet, device = utils.loadmodel()\n",
        "criterion = nn.CrossEntropyLoss()\n",
        "rms_optimizer = optim.RMSprop(alexnet.parameters(), lr=0.00001, weight_decay=1e-4 )\n",
        "rms_accuracies_rand, rms_losses_rand = utils.train(alexnet, rms_optimizer, criterion, train_loader_rand, device)"
      ],
      "metadata": {
        "colab": {
          "base_uri": "https://localhost:8080/",
          "height": 656,
          "referenced_widgets": [
            "83f9c44784a84aebb434de7136b6ba4d",
            "7de16dce1e694a22b14b40b2417d615f",
            "0c2260a9624644c3b9ec2e5a43ecb71b",
            "3ec474f4e4c3455c8b85e30fef5659a8",
            "bc920c83e73543fd835301c0d5218917",
            "5f1c3ae56f8c4349bd837b19921ec7ed",
            "343a1261ab2c49008f603c7e2d01b6f2",
            "356dda58d88746cd85029a08b46af3e8",
            "a72a7240eb154f0aa2898c53560d0fa7",
            "3b20b2f3965b4d998ab98b1a33b0efec",
            "8bf4630110d64637aa4234fac2e7acdc"
          ]
        },
        "id": "i-rB2HusOPX6",
        "outputId": "6aa207a1-5dff-4c85-d6bc-c4e5fa6b2177"
      },
      "id": "i-rB2HusOPX6",
      "execution_count": null,
      "outputs": [
        {
          "output_type": "stream",
          "name": "stdout",
          "text": [
            "Files already downloaded and verified\n",
            "Files already downloaded and verified\n"
          ]
        },
        {
          "output_type": "stream",
          "name": "stderr",
          "text": [
            "Downloading: \"https://download.pytorch.org/models/alexnet-owt-7be5be79.pth\" to /root/.cache/torch/hub/checkpoints/alexnet-owt-7be5be79.pth\n"
          ]
        },
        {
          "output_type": "display_data",
          "data": {
            "text/plain": [
              "  0%|          | 0.00/233M [00:00<?, ?B/s]"
            ],
            "application/vnd.jupyter.widget-view+json": {
              "version_major": 2,
              "version_minor": 0,
              "model_id": "83f9c44784a84aebb434de7136b6ba4d"
            }
          },
          "metadata": {}
        },
        {
          "output_type": "stream",
          "name": "stdout",
          "text": [
            "cuda:0\n",
            "Epoch 1 accuracy: 10.08. Loss: 2.306\n",
            "Epoch 2 accuracy: 11.19. Loss: 2.300\n",
            "Epoch 3 accuracy: 12.34. Loss: 2.295\n",
            "Epoch 4 accuracy: 14.06. Loss: 2.285\n",
            "Epoch 5 accuracy: 15.63. Loss: 2.271\n",
            "Epoch 6 accuracy: 17.27. Loss: 2.251\n",
            "Epoch 7 accuracy: 19.72. Loss: 2.222\n",
            "Epoch 8 accuracy: 21.58. Loss: 2.184\n",
            "Epoch 9 accuracy: 25.02. Loss: 2.131\n",
            "Epoch 10 accuracy: 29.14. Loss: 2.057\n",
            "Epoch 11 accuracy: 33.97. Loss: 1.955\n",
            "Epoch 12 accuracy: 40.17. Loss: 1.819\n",
            "Epoch 13 accuracy: 47.55. Loss: 1.642\n",
            "Epoch 14 accuracy: 56.01. Loss: 1.428\n",
            "Epoch 15 accuracy: 66.03. Loss: 1.185\n",
            "Epoch 16 accuracy: 75.59. Loss: 0.930\n",
            "Epoch 17 accuracy: 84.52. Loss: 0.676\n",
            "Epoch 18 accuracy: 91.75. Loss: 0.454\n",
            "Epoch 19 accuracy: 96.48. Loss: 0.277\n",
            "Epoch 20 accuracy: 98.47. Loss: 0.164\n",
            "Epoch 21 accuracy: 99.12. Loss: 0.096\n",
            "Epoch 22 accuracy: 98.42. Loss: 0.103\n",
            "Epoch 23 accuracy: 99.28. Loss: 0.048\n",
            "Epoch 24 accuracy: 99.02. Loss: 0.065\n",
            "Epoch 25 accuracy: 99.09. Loss: 0.053\n",
            "Epoch 26 accuracy: 98.99. Loss: 0.056\n",
            "Epoch 27 accuracy: 98.86. Loss: 0.062\n",
            "Epoch 28 accuracy: 100.00. Loss: 0.003\n",
            "Finished Training of AlexNet\n",
            "Number of epochs until 100% accuracy: 28\n",
            "Time taken: 1459.0342650413513\n"
          ]
        }
      ]
    },
    {
      "cell_type": "code",
      "source": [
        "torch.save(alexnet.state_dict(), 'alexnet_rand_rms.pt')\n",
        "pickle.dump([rms_accuracies_rand,rms_losses_rand], open('rand_rms_acc_loss.pkl', 'wb'))"
      ],
      "metadata": {
        "id": "9jUHCnSXOPMA"
      },
      "id": "9jUHCnSXOPMA",
      "execution_count": null,
      "outputs": []
    },
    {
      "cell_type": "markdown",
      "source": [
        "Pixel Permutation Results"
      ],
      "metadata": {
        "id": "LxOy4Fc4NlTg"
      },
      "id": "LxOy4Fc4NlTg"
    },
    {
      "cell_type": "code",
      "source": [
        "files=['baseline_rms_acc_loss.pkl', 'perm1_rms_acc_loss.pkl', 'perm2_rms_acc_loss.pkl', 'rand_rms_acc_loss.pkl']\n",
        "       \n",
        "acc_list_perm=[]  \n",
        "loss_list_perm=[]       \n",
        "for f in files:\n",
        "    open_file = open(f, \"rb\")\n",
        "    results = pickle.load(open_file)\n",
        "    open_file.close()\n",
        "    acc_list_perm.append(results[0])\n",
        "    loss_list_perm.append(results[1])\n"
      ],
      "metadata": {
        "id": "MK7020jBHhpI"
      },
      "id": "MK7020jBHhpI",
      "execution_count": null,
      "outputs": []
    },
    {
      "cell_type": "code",
      "source": [
        "import matplotlib.pyplot as plt\n",
        "def plot(metric, label):\n",
        "  plt.figure(figsize=(10,5))\n",
        "  markers = ['x','o','v','*']\n",
        "  for m, marker in zip(metric, markers):\n",
        "    plt.plot(m, marker=marker)\n",
        "  plt.legend([x for x in ['True labels', 'Shuffling of x-axis', 'Shuffling of x and y-axis', 'Gaussian noise']])\n",
        "  plt.ylabel(label)\n",
        "  plt.xlabel('Epoch')\n",
        "\n",
        "plot(acc_list_perm, 'Train accuracy (%)')"
      ],
      "metadata": {
        "colab": {
          "base_uri": "https://localhost:8080/",
          "height": 334
        },
        "id": "N4YzalavMtQM",
        "outputId": "1285b485-4634-4910-ee63-835dd9730900"
      },
      "id": "N4YzalavMtQM",
      "execution_count": null,
      "outputs": [
        {
          "output_type": "display_data",
          "data": {
            "text/plain": [
              "<Figure size 720x360 with 1 Axes>"
            ],
            "image/png": "[encoded data removed]"
          },
          "metadata": {
            "needs_background": "light"
          }
        }
      ]
    },
    {
      "cell_type": "code",
      "source": [
        "plot(loss_list_perm, 'Loss')"
      ],
      "metadata": {
        "id": "8_ollBbtHhk7",
        "colab": {
          "base_uri": "https://localhost:8080/",
          "height": 334
        },
        "outputId": "22db3efc-3edf-4d40-9e44-e34d3c9d2245"
      },
      "id": "8_ollBbtHhk7",
      "execution_count": null,
      "outputs": [
        {
          "output_type": "display_data",
          "data": {
            "text/plain": [
              "<Figure size 720x360 with 1 Axes>"
            ],
            "image/png": "[encoded data removed]"
          },
          "metadata": {
            "needs_background": "light"
          }
        }
      ]
    },
    {
      "cell_type": "markdown",
      "source": [
        "**Test Performances**"
      ],
      "metadata": {
        "id": "gw8AXEaRvznj"
      },
      "id": "gw8AXEaRvznj"
    },
    {
      "cell_type": "code",
      "source": [
        "#Baseline\n",
        "_, test_loader = data.dataload()\n",
        "alexnet, device = utils.loadmodel()\n",
        "alexnet.load_state_dict(torch.load('alexnet_baseline_rms.pt'))\n",
        "alexnet.eval()\n",
        "test.test(alexnet, test_loader, device)"
      ],
      "metadata": {
        "colab": {
          "base_uri": "https://localhost:8080/",
          "height": 136,
          "referenced_widgets": [
            "c76b6d6986454910bd98441f716dac53",
            "f61dc7732f5e4b0bb13721faa5540abc",
            "b0672773d4fa47c5916046de8c91f8ee",
            "e2d600d3492948ee8d90c7ba5643a00e",
            "b1431b105dac4f6abaa792eda4ce66d1",
            "9d62afd03c21429bb02090a028a38425",
            "7e073128048040b5aafff5efb6e54b8e",
            "19c2ee2bca85425bb5dbdbfc38e99360",
            "dcdaf843c58e4fb6b811ac1f3bde9676",
            "0e178736dd0547dea8969a283954a915",
            "41275c9068d6482fa636187c5cb52f71"
          ]
        },
        "id": "gfWDN74j4FQo",
        "outputId": "3190c5d9-2070-4861-bca7-18700c7af38c"
      },
      "id": "gfWDN74j4FQo",
      "execution_count": null,
      "outputs": [
        {
          "output_type": "stream",
          "name": "stdout",
          "text": [
            "Files already downloaded and verified\n",
            "Files already downloaded and verified\n"
          ]
        },
        {
          "output_type": "stream",
          "name": "stderr",
          "text": [
            "Downloading: \"https://download.pytorch.org/models/alexnet-owt-7be5be79.pth\" to /root/.cache/torch/hub/checkpoints/alexnet-owt-7be5be79.pth\n"
          ]
        },
        {
          "output_type": "display_data",
          "data": {
            "text/plain": [
              "  0%|          | 0.00/233M [00:00<?, ?B/s]"
            ],
            "application/vnd.jupyter.widget-view+json": {
              "version_major": 2,
              "version_minor": 0,
              "model_id": "c76b6d6986454910bd98441f716dac53"
            }
          },
          "metadata": {}
        },
        {
          "output_type": "stream",
          "name": "stdout",
          "text": [
            "cuda:0\n",
            "Test accuracy 88.16000000000001\n"
          ]
        }
      ]
    },
    {
      "cell_type": "code",
      "source": [
        "#%20 corruption\n",
        "alexnet, device = utils.loadmodel()\n",
        "alexnet.load_state_dict(torch.load('alexnet_corrupt20_rms.pt'))\n",
        "alexnet.eval()\n",
        "test.test(alexnet, test_loader, device)"
      ],
      "metadata": {
        "colab": {
          "base_uri": "https://localhost:8080/"
        },
        "id": "Hruuev_TNXR_",
        "outputId": "cd14529f-95d2-45d5-ea0c-d6470f05ede9"
      },
      "id": "Hruuev_TNXR_",
      "execution_count": null,
      "outputs": [
        {
          "output_type": "stream",
          "name": "stdout",
          "text": [
            "cuda:0\n",
            "Test accuracy 80.53\n"
          ]
        }
      ]
    },
    {
      "cell_type": "code",
      "source": [
        "#%40 corruption\n",
        "alexnet, device = utils.loadmodel()\n",
        "alexnet.load_state_dict(torch.load('alexnet_corrupt40_rms.pt'))\n",
        "alexnet.eval()\n",
        "test.test(alexnet, test_loader, device)"
      ],
      "metadata": {
        "colab": {
          "base_uri": "https://localhost:8080/"
        },
        "id": "jgL58l_wNizf",
        "outputId": "d5bd32e1-ca4a-4203-d73c-9ff0e2a3c54c"
      },
      "id": "jgL58l_wNizf",
      "execution_count": null,
      "outputs": [
        {
          "output_type": "stream",
          "name": "stdout",
          "text": [
            "cuda:0\n",
            "Test accuracy 69.08999999999999\n"
          ]
        }
      ]
    },
    {
      "cell_type": "code",
      "source": [
        "#%60 corruption\n",
        "alexnet, device = utils.loadmodel()\n",
        "alexnet.load_state_dict(torch.load('alexnet_corrupt60_rms.pt'))\n",
        "alexnet.eval()\n",
        "test.test(alexnet, test_loader, device)"
      ],
      "metadata": {
        "colab": {
          "base_uri": "https://localhost:8080/"
        },
        "id": "LQR5Asl8Nz3u",
        "outputId": "51df94d9-a77c-434e-921e-e60b5a88cdeb"
      },
      "id": "LQR5Asl8Nz3u",
      "execution_count": null,
      "outputs": [
        {
          "output_type": "stream",
          "name": "stdout",
          "text": [
            "cuda:0\n",
            "Test accuracy 51.790000000000006\n"
          ]
        }
      ]
    },
    {
      "cell_type": "code",
      "source": [
        "#%80 corruption\n",
        "alexnet, device = utils.loadmodel()\n",
        "alexnet.load_state_dict(torch.load('alexnet_corrupt80_rms.pt'))\n",
        "alexnet.eval()\n",
        "test.test(alexnet, test_loader, device)"
      ],
      "metadata": {
        "colab": {
          "base_uri": "https://localhost:8080/"
        },
        "id": "qp9r2_sMN6nH",
        "outputId": "717faea0-8115-408b-9972-e6cd01c235d9"
      },
      "id": "qp9r2_sMN6nH",
      "execution_count": null,
      "outputs": [
        {
          "output_type": "stream",
          "name": "stdout",
          "text": [
            "cuda:0\n",
            "Test accuracy 30.330000000000002\n"
          ]
        }
      ]
    },
    {
      "cell_type": "code",
      "source": [
        "#%100 corruption\n",
        "alexnet, device = utils.loadmodel()\n",
        "alexnet.load_state_dict(torch.load('alexnet_corrupt100_rms.pt'))\n",
        "alexnet.eval()\n",
        "test.test(alexnet, test_loader, device)"
      ],
      "metadata": {
        "colab": {
          "base_uri": "https://localhost:8080/"
        },
        "id": "WUFuARJ_OAeH",
        "outputId": "5dd97b64-39af-4097-e834-d2ad8ec5ca64"
      },
      "id": "WUFuARJ_OAeH",
      "execution_count": null,
      "outputs": [
        {
          "output_type": "stream",
          "name": "stdout",
          "text": [
            "cuda:0\n",
            "Test accuracy 9.69\n"
          ]
        }
      ]
    },
    {
      "cell_type": "code",
      "source": [
        ""
      ],
      "metadata": {
        "id": "uRXXGYfGduGk"
      },
      "id": "uRXXGYfGduGk",
      "execution_count": null,
      "outputs": []
    }
  ],
  "metadata": {
    "kernelspec": {
      "display_name": "Python 3 (ipykernel)",
      "language": "python",
      "name": "python3"
    },
    "language_info": {
      "codemirror_mode": {
        "name": "ipython",
        "version": 3
      },
      "file_extension": ".py",
      "mimetype": "text/x-python",
      "name": "python",
      "nbconvert_exporter": "python",
      "pygments_lexer": "ipython3",
      "version": "3.8.12"
    },
    "colab": {
      "name": "RMSprop.ipynb",
      "provenance": [],
      "collapsed_sections": []
    },
    "widgets": {
      "application/vnd.jupyter.widget-state+json": {
        "4e5e0c66adf04272990158aa475ba86d": {
          "model_module": "@jupyter-widgets/controls",
          "model_name": "HBoxModel",
          "model_module_version": "1.5.0",
          "state": {
            "_dom_classes": [],
            "_model_module": "@jupyter-widgets/controls",
            "_model_module_version": "1.5.0",
            "_model_name": "HBoxModel",
            "_view_count": null,
            "_view_module": "@jupyter-widgets/controls",
            "_view_module_version": "1.5.0",
            "_view_name": "HBoxView",
            "box_style": "",
            "children": [
              "IPY_MODEL_0be207c44d7742eb8e0a4eea49ba635c",
              "IPY_MODEL_d9b84274fe9d42e9869ed648c7cf3d49",
              "IPY_MODEL_6bf5b2d7b1564916a53339eb1a08d7fd"
            ],
            "layout": "IPY_MODEL_e7fd944658424db0907c52774f743ec0"
          }
        },
        "0be207c44d7742eb8e0a4eea49ba635c": {
          "model_module": "@jupyter-widgets/controls",
          "model_name": "HTMLModel",
          "model_module_version": "1.5.0",
          "state": {
            "_dom_classes": [],
            "_model_module": "@jupyter-widgets/controls",
            "_model_module_version": "1.5.0",
            "_model_name": "HTMLModel",
            "_view_count": null,
            "_view_module": "@jupyter-widgets/controls",
            "_view_module_version": "1.5.0",
            "_view_name": "HTMLView",
            "description": "",
            "description_tooltip": null,
            "layout": "IPY_MODEL_01988269ed13475a90008466d00af516",
            "placeholder": "​",
            "style": "IPY_MODEL_1f6ea79a691e4828b27c0ea616c63e36",
            "value": "100%"
          }
        },
        "d9b84274fe9d42e9869ed648c7cf3d49": {
          "model_module": "@jupyter-widgets/controls",
          "model_name": "FloatProgressModel",
          "model_module_version": "1.5.0",
          "state": {
            "_dom_classes": [],
            "_model_module": "@jupyter-widgets/controls",
            "_model_module_version": "1.5.0",
            "_model_name": "FloatProgressModel",
            "_view_count": null,
            "_view_module": "@jupyter-widgets/controls",
            "_view_module_version": "1.5.0",
            "_view_name": "ProgressView",
            "bar_style": "success",
            "description": "",
            "description_tooltip": null,
            "layout": "IPY_MODEL_3e85ce92c1fd48a3be7b27b1d4ca9801",
            "max": 244408911,
            "min": 0,
            "orientation": "horizontal",
            "style": "IPY_MODEL_79f21cc0fbfe4294a9cfa6b65b004646",
            "value": 244408911
          }
        },
        "6bf5b2d7b1564916a53339eb1a08d7fd": {
          "model_module": "@jupyter-widgets/controls",
          "model_name": "HTMLModel",
          "model_module_version": "1.5.0",
          "state": {
            "_dom_classes": [],
            "_model_module": "@jupyter-widgets/controls",
            "_model_module_version": "1.5.0",
            "_model_name": "HTMLModel",
            "_view_count": null,
            "_view_module": "@jupyter-widgets/controls",
            "_view_module_version": "1.5.0",
            "_view_name": "HTMLView",
            "description": "",
            "description_tooltip": null,
            "layout": "IPY_MODEL_ae464b7f26194e19a4f71a7201e5ca0f",
            "placeholder": "​",
            "style": "IPY_MODEL_c1c1b21a1c9c4fa3a5ff37ac7748cb4e",
            "value": " 233M/233M [00:01&lt;00:00, 250MB/s]"
          }
        },
        "e7fd944658424db0907c52774f743ec0": {
          "model_module": "@jupyter-widgets/base",
          "model_name": "LayoutModel",
          "model_module_version": "1.2.0",
          "state": {
            "_model_module": "@jupyter-widgets/base",
            "_model_module_version": "1.2.0",
            "_model_name": "LayoutModel",
            "_view_count": null,
            "_view_module": "@jupyter-widgets/base",
            "_view_module_version": "1.2.0",
            "_view_name": "LayoutView",
            "align_content": null,
            "align_items": null,
            "align_self": null,
            "border": null,
            "bottom": null,
            "display": null,
            "flex": null,
            "flex_flow": null,
            "grid_area": null,
            "grid_auto_columns": null,
            "grid_auto_flow": null,
            "grid_auto_rows": null,
            "grid_column": null,
            "grid_gap": null,
            "grid_row": null,
            "grid_template_areas": null,
            "grid_template_columns": null,
            "grid_template_rows": null,
            "height": null,
            "justify_content": null,
            "justify_items": null,
            "left": null,
            "margin": null,
            "max_height": null,
            "max_width": null,
            "min_height": null,
            "min_width": null,
            "object_fit": null,
            "object_position": null,
            "order": null,
            "overflow": null,
            "overflow_x": null,
            "overflow_y": null,
            "padding": null,
            "right": null,
            "top": null,
            "visibility": null,
            "width": null
          }
        },
        "01988269ed13475a90008466d00af516": {
          "model_module": "@jupyter-widgets/base",
          "model_name": "LayoutModel",
          "model_module_version": "1.2.0",
          "state": {
            "_model_module": "@jupyter-widgets/base",
            "_model_module_version": "1.2.0",
            "_model_name": "LayoutModel",
            "_view_count": null,
            "_view_module": "@jupyter-widgets/base",
            "_view_module_version": "1.2.0",
            "_view_name": "LayoutView",
            "align_content": null,
            "align_items": null,
            "align_self": null,
            "border": null,
            "bottom": null,
            "display": null,
            "flex": null,
            "flex_flow": null,
            "grid_area": null,
            "grid_auto_columns": null,
            "grid_auto_flow": null,
            "grid_auto_rows": null,
            "grid_column": null,
            "grid_gap": null,
            "grid_row": null,
            "grid_template_areas": null,
            "grid_template_columns": null,
            "grid_template_rows": null,
            "height": null,
            "justify_content": null,
            "justify_items": null,
            "left": null,
            "margin": null,
            "max_height": null,
            "max_width": null,
            "min_height": null,
            "min_width": null,
            "object_fit": null,
            "object_position": null,
            "order": null,
            "overflow": null,
            "overflow_x": null,
            "overflow_y": null,
            "padding": null,
            "right": null,
            "top": null,
            "visibility": null,
            "width": null
          }
        },
        "1f6ea79a691e4828b27c0ea616c63e36": {
          "model_module": "@jupyter-widgets/controls",
          "model_name": "DescriptionStyleModel",
          "model_module_version": "1.5.0",
          "state": {
            "_model_module": "@jupyter-widgets/controls",
            "_model_module_version": "1.5.0",
            "_model_name": "DescriptionStyleModel",
            "_view_count": null,
            "_view_module": "@jupyter-widgets/base",
            "_view_module_version": "1.2.0",
            "_view_name": "StyleView",
            "description_width": ""
          }
        },
        "3e85ce92c1fd48a3be7b27b1d4ca9801": {
          "model_module": "@jupyter-widgets/base",
          "model_name": "LayoutModel",
          "model_module_version": "1.2.0",
          "state": {
            "_model_module": "@jupyter-widgets/base",
            "_model_module_version": "1.2.0",
            "_model_name": "LayoutModel",
            "_view_count": null,
            "_view_module": "@jupyter-widgets/base",
            "_view_module_version": "1.2.0",
            "_view_name": "LayoutView",
            "align_content": null,
            "align_items": null,
            "align_self": null,
            "border": null,
            "bottom": null,
            "display": null,
            "flex": null,
            "flex_flow": null,
            "grid_area": null,
            "grid_auto_columns": null,
            "grid_auto_flow": null,
            "grid_auto_rows": null,
            "grid_column": null,
            "grid_gap": null,
            "grid_row": null,
            "grid_template_areas": null,
            "grid_template_columns": null,
            "grid_template_rows": null,
            "height": null,
            "justify_content": null,
            "justify_items": null,
            "left": null,
            "margin": null,
            "max_height": null,
            "max_width": null,
            "min_height": null,
            "min_width": null,
            "object_fit": null,
            "object_position": null,
            "order": null,
            "overflow": null,
            "overflow_x": null,
            "overflow_y": null,
            "padding": null,
            "right": null,
            "top": null,
            "visibility": null,
            "width": null
          }
        },
        "79f21cc0fbfe4294a9cfa6b65b004646": {
          "model_module": "@jupyter-widgets/controls",
          "model_name": "ProgressStyleModel",
          "model_module_version": "1.5.0",
          "state": {
            "_model_module": "@jupyter-widgets/controls",
            "_model_module_version": "1.5.0",
            "_model_name": "ProgressStyleModel",
            "_view_count": null,
            "_view_module": "@jupyter-widgets/base",
            "_view_module_version": "1.2.0",
            "_view_name": "StyleView",
            "bar_color": null,
            "description_width": ""
          }
        },
        "ae464b7f26194e19a4f71a7201e5ca0f": {
          "model_module": "@jupyter-widgets/base",
          "model_name": "LayoutModel",
          "model_module_version": "1.2.0",
          "state": {
            "_model_module": "@jupyter-widgets/base",
            "_model_module_version": "1.2.0",
            "_model_name": "LayoutModel",
            "_view_count": null,
            "_view_module": "@jupyter-widgets/base",
            "_view_module_version": "1.2.0",
            "_view_name": "LayoutView",
            "align_content": null,
            "align_items": null,
            "align_self": null,
            "border": null,
            "bottom": null,
            "display": null,
            "flex": null,
            "flex_flow": null,
            "grid_area": null,
            "grid_auto_columns": null,
            "grid_auto_flow": null,
            "grid_auto_rows": null,
            "grid_column": null,
            "grid_gap": null,
            "grid_row": null,
            "grid_template_areas": null,
            "grid_template_columns": null,
            "grid_template_rows": null,
            "height": null,
            "justify_content": null,
            "justify_items": null,
            "left": null,
            "margin": null,
            "max_height": null,
            "max_width": null,
            "min_height": null,
            "min_width": null,
            "object_fit": null,
            "object_position": null,
            "order": null,
            "overflow": null,
            "overflow_x": null,
            "overflow_y": null,
            "padding": null,
            "right": null,
            "top": null,
            "visibility": null,
            "width": null
          }
        },
        "c1c1b21a1c9c4fa3a5ff37ac7748cb4e": {
          "model_module": "@jupyter-widgets/controls",
          "model_name": "DescriptionStyleModel",
          "model_module_version": "1.5.0",
          "state": {
            "_model_module": "@jupyter-widgets/controls",
            "_model_module_version": "1.5.0",
            "_model_name": "DescriptionStyleModel",
            "_view_count": null,
            "_view_module": "@jupyter-widgets/base",
            "_view_module_version": "1.2.0",
            "_view_name": "StyleView",
            "description_width": ""
          }
        },
        "e9ffd4c8ebba4fed9b906e668bc2884d": {
          "model_module": "@jupyter-widgets/controls",
          "model_name": "HBoxModel",
          "model_module_version": "1.5.0",
          "state": {
            "_dom_classes": [],
            "_model_module": "@jupyter-widgets/controls",
            "_model_module_version": "1.5.0",
            "_model_name": "HBoxModel",
            "_view_count": null,
            "_view_module": "@jupyter-widgets/controls",
            "_view_module_version": "1.5.0",
            "_view_name": "HBoxView",
            "box_style": "",
            "children": [
              "IPY_MODEL_902680c20add41c8bbb7fc3dd9bc80b7",
              "IPY_MODEL_ff016f7be75b48cc9000c97a6e48d237",
              "IPY_MODEL_115df6a91d994fb992780e36cdf80520"
            ],
            "layout": "IPY_MODEL_aa9eb78bf96d4e30bfef4bf58f6e18de"
          }
        },
        "902680c20add41c8bbb7fc3dd9bc80b7": {
          "model_module": "@jupyter-widgets/controls",
          "model_name": "HTMLModel",
          "model_module_version": "1.5.0",
          "state": {
            "_dom_classes": [],
            "_model_module": "@jupyter-widgets/controls",
            "_model_module_version": "1.5.0",
            "_model_name": "HTMLModel",
            "_view_count": null,
            "_view_module": "@jupyter-widgets/controls",
            "_view_module_version": "1.5.0",
            "_view_name": "HTMLView",
            "description": "",
            "description_tooltip": null,
            "layout": "IPY_MODEL_233f71a57e604df987719fb38702b2fe",
            "placeholder": "​",
            "style": "IPY_MODEL_54a0fe7e4a9048b78ad57a0578ac0f0e",
            "value": "100%"
          }
        },
        "ff016f7be75b48cc9000c97a6e48d237": {
          "model_module": "@jupyter-widgets/controls",
          "model_name": "FloatProgressModel",
          "model_module_version": "1.5.0",
          "state": {
            "_dom_classes": [],
            "_model_module": "@jupyter-widgets/controls",
            "_model_module_version": "1.5.0",
            "_model_name": "FloatProgressModel",
            "_view_count": null,
            "_view_module": "@jupyter-widgets/controls",
            "_view_module_version": "1.5.0",
            "_view_name": "ProgressView",
            "bar_style": "success",
            "description": "",
            "description_tooltip": null,
            "layout": "IPY_MODEL_f5456496b5ca45ed9ba02089f920dfb3",
            "max": 244408911,
            "min": 0,
            "orientation": "horizontal",
            "style": "IPY_MODEL_e837c6661566495793c21d0a3d1128db",
            "value": 244408911
          }
        },
        "115df6a91d994fb992780e36cdf80520": {
          "model_module": "@jupyter-widgets/controls",
          "model_name": "HTMLModel",
          "model_module_version": "1.5.0",
          "state": {
            "_dom_classes": [],
            "_model_module": "@jupyter-widgets/controls",
            "_model_module_version": "1.5.0",
            "_model_name": "HTMLModel",
            "_view_count": null,
            "_view_module": "@jupyter-widgets/controls",
            "_view_module_version": "1.5.0",
            "_view_name": "HTMLView",
            "description": "",
            "description_tooltip": null,
            "layout": "IPY_MODEL_825f0d121ed248fababa8f6a7577e386",
            "placeholder": "​",
            "style": "IPY_MODEL_e15510fa7cd54496bdb78fc6f841380b",
            "value": " 233M/233M [00:01&lt;00:00, 202MB/s]"
          }
        },
        "aa9eb78bf96d4e30bfef4bf58f6e18de": {
          "model_module": "@jupyter-widgets/base",
          "model_name": "LayoutModel",
          "model_module_version": "1.2.0",
          "state": {
            "_model_module": "@jupyter-widgets/base",
            "_model_module_version": "1.2.0",
            "_model_name": "LayoutModel",
            "_view_count": null,
            "_view_module": "@jupyter-widgets/base",
            "_view_module_version": "1.2.0",
            "_view_name": "LayoutView",
            "align_content": null,
            "align_items": null,
            "align_self": null,
            "border": null,
            "bottom": null,
            "display": null,
            "flex": null,
            "flex_flow": null,
            "grid_area": null,
            "grid_auto_columns": null,
            "grid_auto_flow": null,
            "grid_auto_rows": null,
            "grid_column": null,
            "grid_gap": null,
            "grid_row": null,
            "grid_template_areas": null,
            "grid_template_columns": null,
            "grid_template_rows": null,
            "height": null,
            "justify_content": null,
            "justify_items": null,
            "left": null,
            "margin": null,
            "max_height": null,
            "max_width": null,
            "min_height": null,
            "min_width": null,
            "object_fit": null,
            "object_position": null,
            "order": null,
            "overflow": null,
            "overflow_x": null,
            "overflow_y": null,
            "padding": null,
            "right": null,
            "top": null,
            "visibility": null,
            "width": null
          }
        },
        "233f71a57e604df987719fb38702b2fe": {
          "model_module": "@jupyter-widgets/base",
          "model_name": "LayoutModel",
          "model_module_version": "1.2.0",
          "state": {
            "_model_module": "@jupyter-widgets/base",
            "_model_module_version": "1.2.0",
            "_model_name": "LayoutModel",
            "_view_count": null,
            "_view_module": "@jupyter-widgets/base",
            "_view_module_version": "1.2.0",
            "_view_name": "LayoutView",
            "align_content": null,
            "align_items": null,
            "align_self": null,
            "border": null,
            "bottom": null,
            "display": null,
            "flex": null,
            "flex_flow": null,
            "grid_area": null,
            "grid_auto_columns": null,
            "grid_auto_flow": null,
            "grid_auto_rows": null,
            "grid_column": null,
            "grid_gap": null,
            "grid_row": null,
            "grid_template_areas": null,
            "grid_template_columns": null,
            "grid_template_rows": null,
            "height": null,
            "justify_content": null,
            "justify_items": null,
            "left": null,
            "margin": null,
            "max_height": null,
            "max_width": null,
            "min_height": null,
            "min_width": null,
            "object_fit": null,
            "object_position": null,
            "order": null,
            "overflow": null,
            "overflow_x": null,
            "overflow_y": null,
            "padding": null,
            "right": null,
            "top": null,
            "visibility": null,
            "width": null
          }
        },
        "54a0fe7e4a9048b78ad57a0578ac0f0e": {
          "model_module": "@jupyter-widgets/controls",
          "model_name": "DescriptionStyleModel",
          "model_module_version": "1.5.0",
          "state": {
            "_model_module": "@jupyter-widgets/controls",
            "_model_module_version": "1.5.0",
            "_model_name": "DescriptionStyleModel",
            "_view_count": null,
            "_view_module": "@jupyter-widgets/base",
            "_view_module_version": "1.2.0",
            "_view_name": "StyleView",
            "description_width": ""
          }
        },
        "f5456496b5ca45ed9ba02089f920dfb3": {
          "model_module": "@jupyter-widgets/base",
          "model_name": "LayoutModel",
          "model_module_version": "1.2.0",
          "state": {
            "_model_module": "@jupyter-widgets/base",
            "_model_module_version": "1.2.0",
            "_model_name": "LayoutModel",
            "_view_count": null,
            "_view_module": "@jupyter-widgets/base",
            "_view_module_version": "1.2.0",
            "_view_name": "LayoutView",
            "align_content": null,
            "align_items": null,
            "align_self": null,
            "border": null,
            "bottom": null,
            "display": null,
            "flex": null,
            "flex_flow": null,
            "grid_area": null,
            "grid_auto_columns": null,
            "grid_auto_flow": null,
            "grid_auto_rows": null,
            "grid_column": null,
            "grid_gap": null,
            "grid_row": null,
            "grid_template_areas": null,
            "grid_template_columns": null,
            "grid_template_rows": null,
            "height": null,
            "justify_content": null,
            "justify_items": null,
            "left": null,
            "margin": null,
            "max_height": null,
            "max_width": null,
            "min_height": null,
            "min_width": null,
            "object_fit": null,
            "object_position": null,
            "order": null,
            "overflow": null,
            "overflow_x": null,
            "overflow_y": null,
            "padding": null,
            "right": null,
            "top": null,
            "visibility": null,
            "width": null
          }
        },
        "e837c6661566495793c21d0a3d1128db": {
          "model_module": "@jupyter-widgets/controls",
          "model_name": "ProgressStyleModel",
          "model_module_version": "1.5.0",
          "state": {
            "_model_module": "@jupyter-widgets/controls",
            "_model_module_version": "1.5.0",
            "_model_name": "ProgressStyleModel",
            "_view_count": null,
            "_view_module": "@jupyter-widgets/base",
            "_view_module_version": "1.2.0",
            "_view_name": "StyleView",
            "bar_color": null,
            "description_width": ""
          }
        },
        "825f0d121ed248fababa8f6a7577e386": {
          "model_module": "@jupyter-widgets/base",
          "model_name": "LayoutModel",
          "model_module_version": "1.2.0",
          "state": {
            "_model_module": "@jupyter-widgets/base",
            "_model_module_version": "1.2.0",
            "_model_name": "LayoutModel",
            "_view_count": null,
            "_view_module": "@jupyter-widgets/base",
            "_view_module_version": "1.2.0",
            "_view_name": "LayoutView",
            "align_content": null,
            "align_items": null,
            "align_self": null,
            "border": null,
            "bottom": null,
            "display": null,
            "flex": null,
            "flex_flow": null,
            "grid_area": null,
            "grid_auto_columns": null,
            "grid_auto_flow": null,
            "grid_auto_rows": null,
            "grid_column": null,
            "grid_gap": null,
            "grid_row": null,
            "grid_template_areas": null,
            "grid_template_columns": null,
            "grid_template_rows": null,
            "height": null,
            "justify_content": null,
            "justify_items": null,
            "left": null,
            "margin": null,
            "max_height": null,
            "max_width": null,
            "min_height": null,
            "min_width": null,
            "object_fit": null,
            "object_position": null,
            "order": null,
            "overflow": null,
            "overflow_x": null,
            "overflow_y": null,
            "padding": null,
            "right": null,
            "top": null,
            "visibility": null,
            "width": null
          }
        },
        "e15510fa7cd54496bdb78fc6f841380b": {
          "model_module": "@jupyter-widgets/controls",
          "model_name": "DescriptionStyleModel",
          "model_module_version": "1.5.0",
          "state": {
            "_model_module": "@jupyter-widgets/controls",
            "_model_module_version": "1.5.0",
            "_model_name": "DescriptionStyleModel",
            "_view_count": null,
            "_view_module": "@jupyter-widgets/base",
            "_view_module_version": "1.2.0",
            "_view_name": "StyleView",
            "description_width": ""
          }
        },
        "68f9c72f74f744a6b8e7e2ba441ca180": {
          "model_module": "@jupyter-widgets/controls",
          "model_name": "HBoxModel",
          "model_module_version": "1.5.0",
          "state": {
            "_dom_classes": [],
            "_model_module": "@jupyter-widgets/controls",
            "_model_module_version": "1.5.0",
            "_model_name": "HBoxModel",
            "_view_count": null,
            "_view_module": "@jupyter-widgets/controls",
            "_view_module_version": "1.5.0",
            "_view_name": "HBoxView",
            "box_style": "",
            "children": [
              "IPY_MODEL_aafb1f8898444ac5a8c2de4bdd3a3c41",
              "IPY_MODEL_2281f630dfa3490b94e5ea36c3b8b967",
              "IPY_MODEL_7b23f4784ec74d268ff61b67066e66de"
            ],
            "layout": "IPY_MODEL_bf709fe732c84d0a97e3c0c4b21ce2da"
          }
        },
        "aafb1f8898444ac5a8c2de4bdd3a3c41": {
          "model_module": "@jupyter-widgets/controls",
          "model_name": "HTMLModel",
          "model_module_version": "1.5.0",
          "state": {
            "_dom_classes": [],
            "_model_module": "@jupyter-widgets/controls",
            "_model_module_version": "1.5.0",
            "_model_name": "HTMLModel",
            "_view_count": null,
            "_view_module": "@jupyter-widgets/controls",
            "_view_module_version": "1.5.0",
            "_view_name": "HTMLView",
            "description": "",
            "description_tooltip": null,
            "layout": "IPY_MODEL_59e3084897fe4df7ae822cbd0f33c6e2",
            "placeholder": "​",
            "style": "IPY_MODEL_3867242a3a584a8d9bf1620e1ec08564",
            "value": "100%"
          }
        },
        "2281f630dfa3490b94e5ea36c3b8b967": {
          "model_module": "@jupyter-widgets/controls",
          "model_name": "FloatProgressModel",
          "model_module_version": "1.5.0",
          "state": {
            "_dom_classes": [],
            "_model_module": "@jupyter-widgets/controls",
            "_model_module_version": "1.5.0",
            "_model_name": "FloatProgressModel",
            "_view_count": null,
            "_view_module": "@jupyter-widgets/controls",
            "_view_module_version": "1.5.0",
            "_view_name": "ProgressView",
            "bar_style": "success",
            "description": "",
            "description_tooltip": null,
            "layout": "IPY_MODEL_01baeb4cde734b49874acc2256459bb7",
            "max": 244408911,
            "min": 0,
            "orientation": "horizontal",
            "style": "IPY_MODEL_39fe240c27df4c6ab1b68953666912c8",
            "value": 244408911
          }
        },
        "7b23f4784ec74d268ff61b67066e66de": {
          "model_module": "@jupyter-widgets/controls",
          "model_name": "HTMLModel",
          "model_module_version": "1.5.0",
          "state": {
            "_dom_classes": [],
            "_model_module": "@jupyter-widgets/controls",
            "_model_module_version": "1.5.0",
            "_model_name": "HTMLModel",
            "_view_count": null,
            "_view_module": "@jupyter-widgets/controls",
            "_view_module_version": "1.5.0",
            "_view_name": "HTMLView",
            "description": "",
            "description_tooltip": null,
            "layout": "IPY_MODEL_96dd6a7dd5db406db6eeeef608a5ea87",
            "placeholder": "​",
            "style": "IPY_MODEL_12828e33538446daabe0560f211bcaf1",
            "value": " 233M/233M [00:02&lt;00:00, 146MB/s]"
          }
        },
        "bf709fe732c84d0a97e3c0c4b21ce2da": {
          "model_module": "@jupyter-widgets/base",
          "model_name": "LayoutModel",
          "model_module_version": "1.2.0",
          "state": {
            "_model_module": "@jupyter-widgets/base",
            "_model_module_version": "1.2.0",
            "_model_name": "LayoutModel",
            "_view_count": null,
            "_view_module": "@jupyter-widgets/base",
            "_view_module_version": "1.2.0",
            "_view_name": "LayoutView",
            "align_content": null,
            "align_items": null,
            "align_self": null,
            "border": null,
            "bottom": null,
            "display": null,
            "flex": null,
            "flex_flow": null,
            "grid_area": null,
            "grid_auto_columns": null,
            "grid_auto_flow": null,
            "grid_auto_rows": null,
            "grid_column": null,
            "grid_gap": null,
            "grid_row": null,
            "grid_template_areas": null,
            "grid_template_columns": null,
            "grid_template_rows": null,
            "height": null,
            "justify_content": null,
            "justify_items": null,
            "left": null,
            "margin": null,
            "max_height": null,
            "max_width": null,
            "min_height": null,
            "min_width": null,
            "object_fit": null,
            "object_position": null,
            "order": null,
            "overflow": null,
            "overflow_x": null,
            "overflow_y": null,
            "padding": null,
            "right": null,
            "top": null,
            "visibility": null,
            "width": null
          }
        },
        "59e3084897fe4df7ae822cbd0f33c6e2": {
          "model_module": "@jupyter-widgets/base",
          "model_name": "LayoutModel",
          "model_module_version": "1.2.0",
          "state": {
            "_model_module": "@jupyter-widgets/base",
            "_model_module_version": "1.2.0",
            "_model_name": "LayoutModel",
            "_view_count": null,
            "_view_module": "@jupyter-widgets/base",
            "_view_module_version": "1.2.0",
            "_view_name": "LayoutView",
            "align_content": null,
            "align_items": null,
            "align_self": null,
            "border": null,
            "bottom": null,
            "display": null,
            "flex": null,
            "flex_flow": null,
            "grid_area": null,
            "grid_auto_columns": null,
            "grid_auto_flow": null,
            "grid_auto_rows": null,
            "grid_column": null,
            "grid_gap": null,
            "grid_row": null,
            "grid_template_areas": null,
            "grid_template_columns": null,
            "grid_template_rows": null,
            "height": null,
            "justify_content": null,
            "justify_items": null,
            "left": null,
            "margin": null,
            "max_height": null,
            "max_width": null,
            "min_height": null,
            "min_width": null,
            "object_fit": null,
            "object_position": null,
            "order": null,
            "overflow": null,
            "overflow_x": null,
            "overflow_y": null,
            "padding": null,
            "right": null,
            "top": null,
            "visibility": null,
            "width": null
          }
        },
        "3867242a3a584a8d9bf1620e1ec08564": {
          "model_module": "@jupyter-widgets/controls",
          "model_name": "DescriptionStyleModel",
          "model_module_version": "1.5.0",
          "state": {
            "_model_module": "@jupyter-widgets/controls",
            "_model_module_version": "1.5.0",
            "_model_name": "DescriptionStyleModel",
            "_view_count": null,
            "_view_module": "@jupyter-widgets/base",
            "_view_module_version": "1.2.0",
            "_view_name": "StyleView",
            "description_width": ""
          }
        },
        "01baeb4cde734b49874acc2256459bb7": {
          "model_module": "@jupyter-widgets/base",
          "model_name": "LayoutModel",
          "model_module_version": "1.2.0",
          "state": {
            "_model_module": "@jupyter-widgets/base",
            "_model_module_version": "1.2.0",
            "_model_name": "LayoutModel",
            "_view_count": null,
            "_view_module": "@jupyter-widgets/base",
            "_view_module_version": "1.2.0",
            "_view_name": "LayoutView",
            "align_content": null,
            "align_items": null,
            "align_self": null,
            "border": null,
            "bottom": null,
            "display": null,
            "flex": null,
            "flex_flow": null,
            "grid_area": null,
            "grid_auto_columns": null,
            "grid_auto_flow": null,
            "grid_auto_rows": null,
            "grid_column": null,
            "grid_gap": null,
            "grid_row": null,
            "grid_template_areas": null,
            "grid_template_columns": null,
            "grid_template_rows": null,
            "height": null,
            "justify_content": null,
            "justify_items": null,
            "left": null,
            "margin": null,
            "max_height": null,
            "max_width": null,
            "min_height": null,
            "min_width": null,
            "object_fit": null,
            "object_position": null,
            "order": null,
            "overflow": null,
            "overflow_x": null,
            "overflow_y": null,
            "padding": null,
            "right": null,
            "top": null,
            "visibility": null,
            "width": null
          }
        },
        "39fe240c27df4c6ab1b68953666912c8": {
          "model_module": "@jupyter-widgets/controls",
          "model_name": "ProgressStyleModel",
          "model_module_version": "1.5.0",
          "state": {
            "_model_module": "@jupyter-widgets/controls",
            "_model_module_version": "1.5.0",
            "_model_name": "ProgressStyleModel",
            "_view_count": null,
            "_view_module": "@jupyter-widgets/base",
            "_view_module_version": "1.2.0",
            "_view_name": "StyleView",
            "bar_color": null,
            "description_width": ""
          }
        },
        "96dd6a7dd5db406db6eeeef608a5ea87": {
          "model_module": "@jupyter-widgets/base",
          "model_name": "LayoutModel",
          "model_module_version": "1.2.0",
          "state": {
            "_model_module": "@jupyter-widgets/base",
            "_model_module_version": "1.2.0",
            "_model_name": "LayoutModel",
            "_view_count": null,
            "_view_module": "@jupyter-widgets/base",
            "_view_module_version": "1.2.0",
            "_view_name": "LayoutView",
            "align_content": null,
            "align_items": null,
            "align_self": null,
            "border": null,
            "bottom": null,
            "display": null,
            "flex": null,
            "flex_flow": null,
            "grid_area": null,
            "grid_auto_columns": null,
            "grid_auto_flow": null,
            "grid_auto_rows": null,
            "grid_column": null,
            "grid_gap": null,
            "grid_row": null,
            "grid_template_areas": null,
            "grid_template_columns": null,
            "grid_template_rows": null,
            "height": null,
            "justify_content": null,
            "justify_items": null,
            "left": null,
            "margin": null,
            "max_height": null,
            "max_width": null,
            "min_height": null,
            "min_width": null,
            "object_fit": null,
            "object_position": null,
            "order": null,
            "overflow": null,
            "overflow_x": null,
            "overflow_y": null,
            "padding": null,
            "right": null,
            "top": null,
            "visibility": null,
            "width": null
          }
        },
        "12828e33538446daabe0560f211bcaf1": {
          "model_module": "@jupyter-widgets/controls",
          "model_name": "DescriptionStyleModel",
          "model_module_version": "1.5.0",
          "state": {
            "_model_module": "@jupyter-widgets/controls",
            "_model_module_version": "1.5.0",
            "_model_name": "DescriptionStyleModel",
            "_view_count": null,
            "_view_module": "@jupyter-widgets/base",
            "_view_module_version": "1.2.0",
            "_view_name": "StyleView",
            "description_width": ""
          }
        },
        "00d5b7c482114c53921fcaf45a57ad03": {
          "model_module": "@jupyter-widgets/controls",
          "model_name": "HBoxModel",
          "model_module_version": "1.5.0",
          "state": {
            "_dom_classes": [],
            "_model_module": "@jupyter-widgets/controls",
            "_model_module_version": "1.5.0",
            "_model_name": "HBoxModel",
            "_view_count": null,
            "_view_module": "@jupyter-widgets/controls",
            "_view_module_version": "1.5.0",
            "_view_name": "HBoxView",
            "box_style": "",
            "children": [
              "IPY_MODEL_b725ee24ab974f64b7adfa0e71bb96f2",
              "IPY_MODEL_edc853d9cee64a7cb25e4a5cc9498aab",
              "IPY_MODEL_d067525b61ec465baaafcc1900a54874"
            ],
            "layout": "IPY_MODEL_29fa17319bd9422f8833fb793cee2194"
          }
        },
        "b725ee24ab974f64b7adfa0e71bb96f2": {
          "model_module": "@jupyter-widgets/controls",
          "model_name": "HTMLModel",
          "model_module_version": "1.5.0",
          "state": {
            "_dom_classes": [],
            "_model_module": "@jupyter-widgets/controls",
            "_model_module_version": "1.5.0",
            "_model_name": "HTMLModel",
            "_view_count": null,
            "_view_module": "@jupyter-widgets/controls",
            "_view_module_version": "1.5.0",
            "_view_name": "HTMLView",
            "description": "",
            "description_tooltip": null,
            "layout": "IPY_MODEL_73ad5cd91bfd4490bae06fceda687ebe",
            "placeholder": "​",
            "style": "IPY_MODEL_83230cff2e8c4e04b3eeee0158a0082b",
            "value": "100%"
          }
        },
        "edc853d9cee64a7cb25e4a5cc9498aab": {
          "model_module": "@jupyter-widgets/controls",
          "model_name": "FloatProgressModel",
          "model_module_version": "1.5.0",
          "state": {
            "_dom_classes": [],
            "_model_module": "@jupyter-widgets/controls",
            "_model_module_version": "1.5.0",
            "_model_name": "FloatProgressModel",
            "_view_count": null,
            "_view_module": "@jupyter-widgets/controls",
            "_view_module_version": "1.5.0",
            "_view_name": "ProgressView",
            "bar_style": "success",
            "description": "",
            "description_tooltip": null,
            "layout": "IPY_MODEL_eecad4e0eab94f0eaa3ae74facffb1f2",
            "max": 244408911,
            "min": 0,
            "orientation": "horizontal",
            "style": "IPY_MODEL_f3bb51b548c146049fe5b38a5c80a073",
            "value": 244408911
          }
        },
        "d067525b61ec465baaafcc1900a54874": {
          "model_module": "@jupyter-widgets/controls",
          "model_name": "HTMLModel",
          "model_module_version": "1.5.0",
          "state": {
            "_dom_classes": [],
            "_model_module": "@jupyter-widgets/controls",
            "_model_module_version": "1.5.0",
            "_model_name": "HTMLModel",
            "_view_count": null,
            "_view_module": "@jupyter-widgets/controls",
            "_view_module_version": "1.5.0",
            "_view_name": "HTMLView",
            "description": "",
            "description_tooltip": null,
            "layout": "IPY_MODEL_cb08b0f3ebac4876b7aae4651d260fe3",
            "placeholder": "​",
            "style": "IPY_MODEL_9a8d4fd5e7c0412ab57b266df4409dae",
            "value": " 233M/233M [00:10&lt;00:00, 37.1MB/s]"
          }
        },
        "29fa17319bd9422f8833fb793cee2194": {
          "model_module": "@jupyter-widgets/base",
          "model_name": "LayoutModel",
          "model_module_version": "1.2.0",
          "state": {
            "_model_module": "@jupyter-widgets/base",
            "_model_module_version": "1.2.0",
            "_model_name": "LayoutModel",
            "_view_count": null,
            "_view_module": "@jupyter-widgets/base",
            "_view_module_version": "1.2.0",
            "_view_name": "LayoutView",
            "align_content": null,
            "align_items": null,
            "align_self": null,
            "border": null,
            "bottom": null,
            "display": null,
            "flex": null,
            "flex_flow": null,
            "grid_area": null,
            "grid_auto_columns": null,
            "grid_auto_flow": null,
            "grid_auto_rows": null,
            "grid_column": null,
            "grid_gap": null,
            "grid_row": null,
            "grid_template_areas": null,
            "grid_template_columns": null,
            "grid_template_rows": null,
            "height": null,
            "justify_content": null,
            "justify_items": null,
            "left": null,
            "margin": null,
            "max_height": null,
            "max_width": null,
            "min_height": null,
            "min_width": null,
            "object_fit": null,
            "object_position": null,
            "order": null,
            "overflow": null,
            "overflow_x": null,
            "overflow_y": null,
            "padding": null,
            "right": null,
            "top": null,
            "visibility": null,
            "width": null
          }
        },
        "73ad5cd91bfd4490bae06fceda687ebe": {
          "model_module": "@jupyter-widgets/base",
          "model_name": "LayoutModel",
          "model_module_version": "1.2.0",
          "state": {
            "_model_module": "@jupyter-widgets/base",
            "_model_module_version": "1.2.0",
            "_model_name": "LayoutModel",
            "_view_count": null,
            "_view_module": "@jupyter-widgets/base",
            "_view_module_version": "1.2.0",
            "_view_name": "LayoutView",
            "align_content": null,
            "align_items": null,
            "align_self": null,
            "border": null,
            "bottom": null,
            "display": null,
            "flex": null,
            "flex_flow": null,
            "grid_area": null,
            "grid_auto_columns": null,
            "grid_auto_flow": null,
            "grid_auto_rows": null,
            "grid_column": null,
            "grid_gap": null,
            "grid_row": null,
            "grid_template_areas": null,
            "grid_template_columns": null,
            "grid_template_rows": null,
            "height": null,
            "justify_content": null,
            "justify_items": null,
            "left": null,
            "margin": null,
            "max_height": null,
            "max_width": null,
            "min_height": null,
            "min_width": null,
            "object_fit": null,
            "object_position": null,
            "order": null,
            "overflow": null,
            "overflow_x": null,
            "overflow_y": null,
            "padding": null,
            "right": null,
            "top": null,
            "visibility": null,
            "width": null
          }
        },
        "83230cff2e8c4e04b3eeee0158a0082b": {
          "model_module": "@jupyter-widgets/controls",
          "model_name": "DescriptionStyleModel",
          "model_module_version": "1.5.0",
          "state": {
            "_model_module": "@jupyter-widgets/controls",
            "_model_module_version": "1.5.0",
            "_model_name": "DescriptionStyleModel",
            "_view_count": null,
            "_view_module": "@jupyter-widgets/base",
            "_view_module_version": "1.2.0",
            "_view_name": "StyleView",
            "description_width": ""
          }
        },
        "eecad4e0eab94f0eaa3ae74facffb1f2": {
          "model_module": "@jupyter-widgets/base",
          "model_name": "LayoutModel",
          "model_module_version": "1.2.0",
          "state": {
            "_model_module": "@jupyter-widgets/base",
            "_model_module_version": "1.2.0",
            "_model_name": "LayoutModel",
            "_view_count": null,
            "_view_module": "@jupyter-widgets/base",
            "_view_module_version": "1.2.0",
            "_view_name": "LayoutView",
            "align_content": null,
            "align_items": null,
            "align_self": null,
            "border": null,
            "bottom": null,
            "display": null,
            "flex": null,
            "flex_flow": null,
            "grid_area": null,
            "grid_auto_columns": null,
            "grid_auto_flow": null,
            "grid_auto_rows": null,
            "grid_column": null,
            "grid_gap": null,
            "grid_row": null,
            "grid_template_areas": null,
            "grid_template_columns": null,
            "grid_template_rows": null,
            "height": null,
            "justify_content": null,
            "justify_items": null,
            "left": null,
            "margin": null,
            "max_height": null,
            "max_width": null,
            "min_height": null,
            "min_width": null,
            "object_fit": null,
            "object_position": null,
            "order": null,
            "overflow": null,
            "overflow_x": null,
            "overflow_y": null,
            "padding": null,
            "right": null,
            "top": null,
            "visibility": null,
            "width": null
          }
        },
        "f3bb51b548c146049fe5b38a5c80a073": {
          "model_module": "@jupyter-widgets/controls",
          "model_name": "ProgressStyleModel",
          "model_module_version": "1.5.0",
          "state": {
            "_model_module": "@jupyter-widgets/controls",
            "_model_module_version": "1.5.0",
            "_model_name": "ProgressStyleModel",
            "_view_count": null,
            "_view_module": "@jupyter-widgets/base",
            "_view_module_version": "1.2.0",
            "_view_name": "StyleView",
            "bar_color": null,
            "description_width": ""
          }
        },
        "cb08b0f3ebac4876b7aae4651d260fe3": {
          "model_module": "@jupyter-widgets/base",
          "model_name": "LayoutModel",
          "model_module_version": "1.2.0",
          "state": {
            "_model_module": "@jupyter-widgets/base",
            "_model_module_version": "1.2.0",
            "_model_name": "LayoutModel",
            "_view_count": null,
            "_view_module": "@jupyter-widgets/base",
            "_view_module_version": "1.2.0",
            "_view_name": "LayoutView",
            "align_content": null,
            "align_items": null,
            "align_self": null,
            "border": null,
            "bottom": null,
            "display": null,
            "flex": null,
            "flex_flow": null,
            "grid_area": null,
            "grid_auto_columns": null,
            "grid_auto_flow": null,
            "grid_auto_rows": null,
            "grid_column": null,
            "grid_gap": null,
            "grid_row": null,
            "grid_template_areas": null,
            "grid_template_columns": null,
            "grid_template_rows": null,
            "height": null,
            "justify_content": null,
            "justify_items": null,
            "left": null,
            "margin": null,
            "max_height": null,
            "max_width": null,
            "min_height": null,
            "min_width": null,
            "object_fit": null,
            "object_position": null,
            "order": null,
            "overflow": null,
            "overflow_x": null,
            "overflow_y": null,
            "padding": null,
            "right": null,
            "top": null,
            "visibility": null,
            "width": null
          }
        },
        "9a8d4fd5e7c0412ab57b266df4409dae": {
          "model_module": "@jupyter-widgets/controls",
          "model_name": "DescriptionStyleModel",
          "model_module_version": "1.5.0",
          "state": {
            "_model_module": "@jupyter-widgets/controls",
            "_model_module_version": "1.5.0",
            "_model_name": "DescriptionStyleModel",
            "_view_count": null,
            "_view_module": "@jupyter-widgets/base",
            "_view_module_version": "1.2.0",
            "_view_name": "StyleView",
            "description_width": ""
          }
        },
        "83f9c44784a84aebb434de7136b6ba4d": {
          "model_module": "@jupyter-widgets/controls",
          "model_name": "HBoxModel",
          "model_module_version": "1.5.0",
          "state": {
            "_dom_classes": [],
            "_model_module": "@jupyter-widgets/controls",
            "_model_module_version": "1.5.0",
            "_model_name": "HBoxModel",
            "_view_count": null,
            "_view_module": "@jupyter-widgets/controls",
            "_view_module_version": "1.5.0",
            "_view_name": "HBoxView",
            "box_style": "",
            "children": [
              "IPY_MODEL_7de16dce1e694a22b14b40b2417d615f",
              "IPY_MODEL_0c2260a9624644c3b9ec2e5a43ecb71b",
              "IPY_MODEL_3ec474f4e4c3455c8b85e30fef5659a8"
            ],
            "layout": "IPY_MODEL_bc920c83e73543fd835301c0d5218917"
          }
        },
        "7de16dce1e694a22b14b40b2417d615f": {
          "model_module": "@jupyter-widgets/controls",
          "model_name": "HTMLModel",
          "model_module_version": "1.5.0",
          "state": {
            "_dom_classes": [],
            "_model_module": "@jupyter-widgets/controls",
            "_model_module_version": "1.5.0",
            "_model_name": "HTMLModel",
            "_view_count": null,
            "_view_module": "@jupyter-widgets/controls",
            "_view_module_version": "1.5.0",
            "_view_name": "HTMLView",
            "description": "",
            "description_tooltip": null,
            "layout": "IPY_MODEL_5f1c3ae56f8c4349bd837b19921ec7ed",
            "placeholder": "​",
            "style": "IPY_MODEL_343a1261ab2c49008f603c7e2d01b6f2",
            "value": "100%"
          }
        },
        "0c2260a9624644c3b9ec2e5a43ecb71b": {
          "model_module": "@jupyter-widgets/controls",
          "model_name": "FloatProgressModel",
          "model_module_version": "1.5.0",
          "state": {
            "_dom_classes": [],
            "_model_module": "@jupyter-widgets/controls",
            "_model_module_version": "1.5.0",
            "_model_name": "FloatProgressModel",
            "_view_count": null,
            "_view_module": "@jupyter-widgets/controls",
            "_view_module_version": "1.5.0",
            "_view_name": "ProgressView",
            "bar_style": "success",
            "description": "",
            "description_tooltip": null,
            "layout": "IPY_MODEL_356dda58d88746cd85029a08b46af3e8",
            "max": 244408911,
            "min": 0,
            "orientation": "horizontal",
            "style": "IPY_MODEL_a72a7240eb154f0aa2898c53560d0fa7",
            "value": 244408911
          }
        },
        "3ec474f4e4c3455c8b85e30fef5659a8": {
          "model_module": "@jupyter-widgets/controls",
          "model_name": "HTMLModel",
          "model_module_version": "1.5.0",
          "state": {
            "_dom_classes": [],
            "_model_module": "@jupyter-widgets/controls",
            "_model_module_version": "1.5.0",
            "_model_name": "HTMLModel",
            "_view_count": null,
            "_view_module": "@jupyter-widgets/controls",
            "_view_module_version": "1.5.0",
            "_view_name": "HTMLView",
            "description": "",
            "description_tooltip": null,
            "layout": "IPY_MODEL_3b20b2f3965b4d998ab98b1a33b0efec",
            "placeholder": "​",
            "style": "IPY_MODEL_8bf4630110d64637aa4234fac2e7acdc",
            "value": " 233M/233M [00:01&lt;00:00, 233MB/s]"
          }
        },
        "bc920c83e73543fd835301c0d5218917": {
          "model_module": "@jupyter-widgets/base",
          "model_name": "LayoutModel",
          "model_module_version": "1.2.0",
          "state": {
            "_model_module": "@jupyter-widgets/base",
            "_model_module_version": "1.2.0",
            "_model_name": "LayoutModel",
            "_view_count": null,
            "_view_module": "@jupyter-widgets/base",
            "_view_module_version": "1.2.0",
            "_view_name": "LayoutView",
            "align_content": null,
            "align_items": null,
            "align_self": null,
            "border": null,
            "bottom": null,
            "display": null,
            "flex": null,
            "flex_flow": null,
            "grid_area": null,
            "grid_auto_columns": null,
            "grid_auto_flow": null,
            "grid_auto_rows": null,
            "grid_column": null,
            "grid_gap": null,
            "grid_row": null,
            "grid_template_areas": null,
            "grid_template_columns": null,
            "grid_template_rows": null,
            "height": null,
            "justify_content": null,
            "justify_items": null,
            "left": null,
            "margin": null,
            "max_height": null,
            "max_width": null,
            "min_height": null,
            "min_width": null,
            "object_fit": null,
            "object_position": null,
            "order": null,
            "overflow": null,
            "overflow_x": null,
            "overflow_y": null,
            "padding": null,
            "right": null,
            "top": null,
            "visibility": null,
            "width": null
          }
        },
        "5f1c3ae56f8c4349bd837b19921ec7ed": {
          "model_module": "@jupyter-widgets/base",
          "model_name": "LayoutModel",
          "model_module_version": "1.2.0",
          "state": {
            "_model_module": "@jupyter-widgets/base",
            "_model_module_version": "1.2.0",
            "_model_name": "LayoutModel",
            "_view_count": null,
            "_view_module": "@jupyter-widgets/base",
            "_view_module_version": "1.2.0",
            "_view_name": "LayoutView",
            "align_content": null,
            "align_items": null,
            "align_self": null,
            "border": null,
            "bottom": null,
            "display": null,
            "flex": null,
            "flex_flow": null,
            "grid_area": null,
            "grid_auto_columns": null,
            "grid_auto_flow": null,
            "grid_auto_rows": null,
            "grid_column": null,
            "grid_gap": null,
            "grid_row": null,
            "grid_template_areas": null,
            "grid_template_columns": null,
            "grid_template_rows": null,
            "height": null,
            "justify_content": null,
            "justify_items": null,
            "left": null,
            "margin": null,
            "max_height": null,
            "max_width": null,
            "min_height": null,
            "min_width": null,
            "object_fit": null,
            "object_position": null,
            "order": null,
            "overflow": null,
            "overflow_x": null,
            "overflow_y": null,
            "padding": null,
            "right": null,
            "top": null,
            "visibility": null,
            "width": null
          }
        },
        "343a1261ab2c49008f603c7e2d01b6f2": {
          "model_module": "@jupyter-widgets/controls",
          "model_name": "DescriptionStyleModel",
          "model_module_version": "1.5.0",
          "state": {
            "_model_module": "@jupyter-widgets/controls",
            "_model_module_version": "1.5.0",
            "_model_name": "DescriptionStyleModel",
            "_view_count": null,
            "_view_module": "@jupyter-widgets/base",
            "_view_module_version": "1.2.0",
            "_view_name": "StyleView",
            "description_width": ""
          }
        },
        "356dda58d88746cd85029a08b46af3e8": {
          "model_module": "@jupyter-widgets/base",
          "model_name": "LayoutModel",
          "model_module_version": "1.2.0",
          "state": {
            "_model_module": "@jupyter-widgets/base",
            "_model_module_version": "1.2.0",
            "_model_name": "LayoutModel",
            "_view_count": null,
            "_view_module": "@jupyter-widgets/base",
            "_view_module_version": "1.2.0",
            "_view_name": "LayoutView",
            "align_content": null,
            "align_items": null,
            "align_self": null,
            "border": null,
            "bottom": null,
            "display": null,
            "flex": null,
            "flex_flow": null,
            "grid_area": null,
            "grid_auto_columns": null,
            "grid_auto_flow": null,
            "grid_auto_rows": null,
            "grid_column": null,
            "grid_gap": null,
            "grid_row": null,
            "grid_template_areas": null,
            "grid_template_columns": null,
            "grid_template_rows": null,
            "height": null,
            "justify_content": null,
            "justify_items": null,
            "left": null,
            "margin": null,
            "max_height": null,
            "max_width": null,
            "min_height": null,
            "min_width": null,
            "object_fit": null,
            "object_position": null,
            "order": null,
            "overflow": null,
            "overflow_x": null,
            "overflow_y": null,
            "padding": null,
            "right": null,
            "top": null,
            "visibility": null,
            "width": null
          }
        },
        "a72a7240eb154f0aa2898c53560d0fa7": {
          "model_module": "@jupyter-widgets/controls",
          "model_name": "ProgressStyleModel",
          "model_module_version": "1.5.0",
          "state": {
            "_model_module": "@jupyter-widgets/controls",
            "_model_module_version": "1.5.0",
            "_model_name": "ProgressStyleModel",
            "_view_count": null,
            "_view_module": "@jupyter-widgets/base",
            "_view_module_version": "1.2.0",
            "_view_name": "StyleView",
            "bar_color": null,
            "description_width": ""
          }
        },
        "3b20b2f3965b4d998ab98b1a33b0efec": {
          "model_module": "@jupyter-widgets/base",
          "model_name": "LayoutModel",
          "model_module_version": "1.2.0",
          "state": {
            "_model_module": "@jupyter-widgets/base",
            "_model_module_version": "1.2.0",
            "_model_name": "LayoutModel",
            "_view_count": null,
            "_view_module": "@jupyter-widgets/base",
            "_view_module_version": "1.2.0",
            "_view_name": "LayoutView",
            "align_content": null,
            "align_items": null,
            "align_self": null,
            "border": null,
            "bottom": null,
            "display": null,
            "flex": null,
            "flex_flow": null,
            "grid_area": null,
            "grid_auto_columns": null,
            "grid_auto_flow": null,
            "grid_auto_rows": null,
            "grid_column": null,
            "grid_gap": null,
            "grid_row": null,
            "grid_template_areas": null,
            "grid_template_columns": null,
            "grid_template_rows": null,
            "height": null,
            "justify_content": null,
            "justify_items": null,
            "left": null,
            "margin": null,
            "max_height": null,
            "max_width": null,
            "min_height": null,
            "min_width": null,
            "object_fit": null,
            "object_position": null,
            "order": null,
            "overflow": null,
            "overflow_x": null,
            "overflow_y": null,
            "padding": null,
            "right": null,
            "top": null,
            "visibility": null,
            "width": null
          }
        },
        "8bf4630110d64637aa4234fac2e7acdc": {
          "model_module": "@jupyter-widgets/controls",
          "model_name": "DescriptionStyleModel",
          "model_module_version": "1.5.0",
          "state": {
            "_model_module": "@jupyter-widgets/controls",
            "_model_module_version": "1.5.0",
            "_model_name": "DescriptionStyleModel",
            "_view_count": null,
            "_view_module": "@jupyter-widgets/base",
            "_view_module_version": "1.2.0",
            "_view_name": "StyleView",
            "description_width": ""
          }
        },
        "c76b6d6986454910bd98441f716dac53": {
          "model_module": "@jupyter-widgets/controls",
          "model_name": "HBoxModel",
          "model_module_version": "1.5.0",
          "state": {
            "_dom_classes": [],
            "_model_module": "@jupyter-widgets/controls",
            "_model_module_version": "1.5.0",
            "_model_name": "HBoxModel",
            "_view_count": null,
            "_view_module": "@jupyter-widgets/controls",
            "_view_module_version": "1.5.0",
            "_view_name": "HBoxView",
            "box_style": "",
            "children": [
              "IPY_MODEL_f61dc7732f5e4b0bb13721faa5540abc",
              "IPY_MODEL_b0672773d4fa47c5916046de8c91f8ee",
              "IPY_MODEL_e2d600d3492948ee8d90c7ba5643a00e"
            ],
            "layout": "IPY_MODEL_b1431b105dac4f6abaa792eda4ce66d1"
          }
        },
        "f61dc7732f5e4b0bb13721faa5540abc": {
          "model_module": "@jupyter-widgets/controls",
          "model_name": "HTMLModel",
          "model_module_version": "1.5.0",
          "state": {
            "_dom_classes": [],
            "_model_module": "@jupyter-widgets/controls",
            "_model_module_version": "1.5.0",
            "_model_name": "HTMLModel",
            "_view_count": null,
            "_view_module": "@jupyter-widgets/controls",
            "_view_module_version": "1.5.0",
            "_view_name": "HTMLView",
            "description": "",
            "description_tooltip": null,
            "layout": "IPY_MODEL_9d62afd03c21429bb02090a028a38425",
            "placeholder": "​",
            "style": "IPY_MODEL_7e073128048040b5aafff5efb6e54b8e",
            "value": "100%"
          }
        },
        "b0672773d4fa47c5916046de8c91f8ee": {
          "model_module": "@jupyter-widgets/controls",
          "model_name": "FloatProgressModel",
          "model_module_version": "1.5.0",
          "state": {
            "_dom_classes": [],
            "_model_module": "@jupyter-widgets/controls",
            "_model_module_version": "1.5.0",
            "_model_name": "FloatProgressModel",
            "_view_count": null,
            "_view_module": "@jupyter-widgets/controls",
            "_view_module_version": "1.5.0",
            "_view_name": "ProgressView",
            "bar_style": "success",
            "description": "",
            "description_tooltip": null,
            "layout": "IPY_MODEL_19c2ee2bca85425bb5dbdbfc38e99360",
            "max": 244408911,
            "min": 0,
            "orientation": "horizontal",
            "style": "IPY_MODEL_dcdaf843c58e4fb6b811ac1f3bde9676",
            "value": 244408911
          }
        },
        "e2d600d3492948ee8d90c7ba5643a00e": {
          "model_module": "@jupyter-widgets/controls",
          "model_name": "HTMLModel",
          "model_module_version": "1.5.0",
          "state": {
            "_dom_classes": [],
            "_model_module": "@jupyter-widgets/controls",
            "_model_module_version": "1.5.0",
            "_model_name": "HTMLModel",
            "_view_count": null,
            "_view_module": "@jupyter-widgets/controls",
            "_view_module_version": "1.5.0",
            "_view_name": "HTMLView",
            "description": "",
            "description_tooltip": null,
            "layout": "IPY_MODEL_0e178736dd0547dea8969a283954a915",
            "placeholder": "​",
            "style": "IPY_MODEL_41275c9068d6482fa636187c5cb52f71",
            "value": " 233M/233M [00:16&lt;00:00, 12.3MB/s]"
          }
        },
        "b1431b105dac4f6abaa792eda4ce66d1": {
          "model_module": "@jupyter-widgets/base",
          "model_name": "LayoutModel",
          "model_module_version": "1.2.0",
          "state": {
            "_model_module": "@jupyter-widgets/base",
            "_model_module_version": "1.2.0",
            "_model_name": "LayoutModel",
            "_view_count": null,
            "_view_module": "@jupyter-widgets/base",
            "_view_module_version": "1.2.0",
            "_view_name": "LayoutView",
            "align_content": null,
            "align_items": null,
            "align_self": null,
            "border": null,
            "bottom": null,
            "display": null,
            "flex": null,
            "flex_flow": null,
            "grid_area": null,
            "grid_auto_columns": null,
            "grid_auto_flow": null,
            "grid_auto_rows": null,
            "grid_column": null,
            "grid_gap": null,
            "grid_row": null,
            "grid_template_areas": null,
            "grid_template_columns": null,
            "grid_template_rows": null,
            "height": null,
            "justify_content": null,
            "justify_items": null,
            "left": null,
            "margin": null,
            "max_height": null,
            "max_width": null,
            "min_height": null,
            "min_width": null,
            "object_fit": null,
            "object_position": null,
            "order": null,
            "overflow": null,
            "overflow_x": null,
            "overflow_y": null,
            "padding": null,
            "right": null,
            "top": null,
            "visibility": null,
            "width": null
          }
        },
        "9d62afd03c21429bb02090a028a38425": {
          "model_module": "@jupyter-widgets/base",
          "model_name": "LayoutModel",
          "model_module_version": "1.2.0",
          "state": {
            "_model_module": "@jupyter-widgets/base",
            "_model_module_version": "1.2.0",
            "_model_name": "LayoutModel",
            "_view_count": null,
            "_view_module": "@jupyter-widgets/base",
            "_view_module_version": "1.2.0",
            "_view_name": "LayoutView",
            "align_content": null,
            "align_items": null,
            "align_self": null,
            "border": null,
            "bottom": null,
            "display": null,
            "flex": null,
            "flex_flow": null,
            "grid_area": null,
            "grid_auto_columns": null,
            "grid_auto_flow": null,
            "grid_auto_rows": null,
            "grid_column": null,
            "grid_gap": null,
            "grid_row": null,
            "grid_template_areas": null,
            "grid_template_columns": null,
            "grid_template_rows": null,
            "height": null,
            "justify_content": null,
            "justify_items": null,
            "left": null,
            "margin": null,
            "max_height": null,
            "max_width": null,
            "min_height": null,
            "min_width": null,
            "object_fit": null,
            "object_position": null,
            "order": null,
            "overflow": null,
            "overflow_x": null,
            "overflow_y": null,
            "padding": null,
            "right": null,
            "top": null,
            "visibility": null,
            "width": null
          }
        },
        "7e073128048040b5aafff5efb6e54b8e": {
          "model_module": "@jupyter-widgets/controls",
          "model_name": "DescriptionStyleModel",
          "model_module_version": "1.5.0",
          "state": {
            "_model_module": "@jupyter-widgets/controls",
            "_model_module_version": "1.5.0",
            "_model_name": "DescriptionStyleModel",
            "_view_count": null,
            "_view_module": "@jupyter-widgets/base",
            "_view_module_version": "1.2.0",
            "_view_name": "StyleView",
            "description_width": ""
          }
        },
        "19c2ee2bca85425bb5dbdbfc38e99360": {
          "model_module": "@jupyter-widgets/base",
          "model_name": "LayoutModel",
          "model_module_version": "1.2.0",
          "state": {
            "_model_module": "@jupyter-widgets/base",
            "_model_module_version": "1.2.0",
            "_model_name": "LayoutModel",
            "_view_count": null,
            "_view_module": "@jupyter-widgets/base",
            "_view_module_version": "1.2.0",
            "_view_name": "LayoutView",
            "align_content": null,
            "align_items": null,
            "align_self": null,
            "border": null,
            "bottom": null,
            "display": null,
            "flex": null,
            "flex_flow": null,
            "grid_area": null,
            "grid_auto_columns": null,
            "grid_auto_flow": null,
            "grid_auto_rows": null,
            "grid_column": null,
            "grid_gap": null,
            "grid_row": null,
            "grid_template_areas": null,
            "grid_template_columns": null,
            "grid_template_rows": null,
            "height": null,
            "justify_content": null,
            "justify_items": null,
            "left": null,
            "margin": null,
            "max_height": null,
            "max_width": null,
            "min_height": null,
            "min_width": null,
            "object_fit": null,
            "object_position": null,
            "order": null,
            "overflow": null,
            "overflow_x": null,
            "overflow_y": null,
            "padding": null,
            "right": null,
            "top": null,
            "visibility": null,
            "width": null
          }
        },
        "dcdaf843c58e4fb6b811ac1f3bde9676": {
          "model_module": "@jupyter-widgets/controls",
          "model_name": "ProgressStyleModel",
          "model_module_version": "1.5.0",
          "state": {
            "_model_module": "@jupyter-widgets/controls",
            "_model_module_version": "1.5.0",
            "_model_name": "ProgressStyleModel",
            "_view_count": null,
            "_view_module": "@jupyter-widgets/base",
            "_view_module_version": "1.2.0",
            "_view_name": "StyleView",
            "bar_color": null,
            "description_width": ""
          }
        },
        "0e178736dd0547dea8969a283954a915": {
          "model_module": "@jupyter-widgets/base",
          "model_name": "LayoutModel",
          "model_module_version": "1.2.0",
          "state": {
            "_model_module": "@jupyter-widgets/base",
            "_model_module_version": "1.2.0",
            "_model_name": "LayoutModel",
            "_view_count": null,
            "_view_module": "@jupyter-widgets/base",
            "_view_module_version": "1.2.0",
            "_view_name": "LayoutView",
            "align_content": null,
            "align_items": null,
            "align_self": null,
            "border": null,
            "bottom": null,
            "display": null,
            "flex": null,
            "flex_flow": null,
            "grid_area": null,
            "grid_auto_columns": null,
            "grid_auto_flow": null,
            "grid_auto_rows": null,
            "grid_column": null,
            "grid_gap": null,
            "grid_row": null,
            "grid_template_areas": null,
            "grid_template_columns": null,
            "grid_template_rows": null,
            "height": null,
            "justify_content": null,
            "justify_items": null,
            "left": null,
            "margin": null,
            "max_height": null,
            "max_width": null,
            "min_height": null,
            "min_width": null,
            "object_fit": null,
            "object_position": null,
            "order": null,
            "overflow": null,
            "overflow_x": null,
            "overflow_y": null,
            "padding": null,
            "right": null,
            "top": null,
            "visibility": null,
            "width": null
          }
        },
        "41275c9068d6482fa636187c5cb52f71": {
          "model_module": "@jupyter-widgets/controls",
          "model_name": "DescriptionStyleModel",
          "model_module_version": "1.5.0",
          "state": {
            "_model_module": "@jupyter-widgets/controls",
            "_model_module_version": "1.5.0",
            "_model_name": "DescriptionStyleModel",
            "_view_count": null,
            "_view_module": "@jupyter-widgets/base",
            "_view_module_version": "1.2.0",
            "_view_name": "StyleView",
            "description_width": ""
          }
        }
      }
    },
    "gpuClass": "standard"
  },
  "nbformat": 4,
  "nbformat_minor": 5
}