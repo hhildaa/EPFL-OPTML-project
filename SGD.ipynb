{
 "cells": [
  {
   "cell_type": "markdown",
   "metadata": {},
   "source": [
    "Notebook used to evaluate performance when using the SGD optimiser. This was done in Google Colab using their GPUs. Due to timeouts, I saved the performance metrics and model parameters after each experiment in a `metrics/` and `models/` folder respectively. For the plotting, I simply reload the metrics using the pickle module. This made dealing with timeouts much easier.\n",
    "\n",
    "Since re-running this is time consuming, all the metrics can be found [here](https://drive.google.com/drive/folders/1jW4ZYS3b3EqBKgjM60WFmU35keQXXDHh?usp=sharing) and the saved models [here](https://drive.google.com/drive/folders/1GKAskrUAiC9p6lK9z9KHB_Y325FTbyrO?usp=sharing). Download them and place them in the same directory as this notebook. You can then simply re-run the plotting cells."
   ]
  },
  {
   "cell_type": "code",
   "execution_count": 1,
   "metadata": {
    "colab": {
     "base_uri": "https://localhost:8080/"
    },
    "executionInfo": {
     "elapsed": 9978,
     "status": "ok",
     "timestamp": 1655374171624,
     "user": {
      "displayName": "Nicholas Sperry",
      "userId": "17478191746282896441"
     },
     "user_tz": -120
    },
    "id": "8AhFTz9Y9M17",
    "outputId": "14c3da3f-70dc-4e22-97b7-285137b41f88"
   },
   "outputs": [
    {
     "name": "stdout",
     "output_type": "stream",
     "text": [
      "Drive already mounted at /content/drive; to attempt to forcibly remount, call drive.mount(\"/content/drive\", force_remount=True).\n",
      "/content/drive/My Drive/EPFL/Optimisation for ML/EPFL-OPTML-project\n"
     ]
    }
   ],
   "source": [
    "from google.colab import drive\n",
    "drive.mount('/content/drive')\n",
    "%cd /content/drive/My Drive/EPFL/Optimisation for ML/EPFL-OPTML-project"
   ]
  },
  {
   "cell_type": "code",
   "execution_count": 2,
   "metadata": {
    "executionInfo": {
     "elapsed": 5067,
     "status": "ok",
     "timestamp": 1655374176686,
     "user": {
      "displayName": "Nicholas Sperry",
      "userId": "17478191746282896441"
     },
     "user_tz": -120
    },
    "id": "uKBsPmwk-n1Q"
   },
   "outputs": [],
   "source": [
    "import torch\n",
    "import torchvision\n",
    "import numpy as np\n",
    "import matplotlib\n",
    "import matplotlib.pyplot as plt\n",
    "import torch.nn as nn\n",
    "import torch.optim as optim\n",
    "\n",
    "import pickle\n",
    "import model\n",
    "import train\n",
    "import data\n",
    "#from data import CIFAR10RandomLabels\n",
    "\n",
    "from torchvision.datasets import CIFAR10\n",
    "from torch.utils.data.dataloader import DataLoader\n",
    "from torch.utils.data import random_split\n",
    "import torchvision.transforms as transforms\n",
    "import random"
   ]
  },
  {
   "cell_type": "code",
   "execution_count": 8,
   "metadata": {},
   "outputs": [],
   "source": [
    "import os\n",
    "os.makedirs('metrics/',exist_ok=True)\n",
    "os.makedirs('models/',exist_ok=True)"
   ]
  },
  {
   "cell_type": "markdown",
   "metadata": {},
   "source": [
    "# Label corruption"
   ]
  },
  {
   "cell_type": "code",
   "execution_count": null,
   "metadata": {
    "colab": {
     "base_uri": "https://localhost:8080/"
    },
    "executionInfo": {
     "elapsed": 8762959,
     "status": "ok",
     "timestamp": 1654868116251,
     "user": {
      "displayName": "Nicholas Sperry",
      "userId": "17478191746282896441"
     },
     "user_tz": -120
    },
    "id": "0SAiV2MkAwBx",
    "outputId": "9bec49fe-65d9-484d-aee0-0fc0162eeb24"
   },
   "outputs": [
    {
     "name": "stdout",
     "output_type": "stream",
     "text": [
      "Corruption probability = 0%\n",
      "Files already downloaded and verified\n",
      "Files already downloaded and verified\n",
      "cuda:0\n",
      "Epoch 1 accuracy: 76.69. Loss: 0.669\n",
      "Epoch 2 accuracy: 86.77. Loss: 0.379\n",
      "Epoch 3 accuracy: 90.21. Loss: 0.283\n",
      "Epoch 4 accuracy: 92.61. Loss: 0.214\n",
      "Epoch 5 accuracy: 94.80. Loss: 0.153\n",
      "Epoch 6 accuracy: 95.90. Loss: 0.116\n",
      "Epoch 7 accuracy: 97.96. Loss: 0.065\n",
      "Epoch 8 accuracy: 98.68. Loss: 0.046\n",
      "Epoch 9 accuracy: 99.33. Loss: 0.026\n",
      "Epoch 10 accuracy: 99.88. Loss: 0.010\n",
      "Epoch 11 accuracy: 99.94. Loss: 0.006\n",
      "Epoch 12 accuracy: 100.00. Loss: 0.002\n",
      "Finished Training of AlexNet\n",
      "Number of epochs until 100% accuracy: 12\n",
      "Time taken: 567.3731398582458\n",
      "\n",
      "Corruption probability = 20%\n",
      "Files already downloaded and verified\n",
      "Files already downloaded and verified\n",
      "cuda:0\n",
      "Epoch 1 accuracy: 61.20. Loss: 1.387\n",
      "Epoch 2 accuracy: 69.44. Loss: 1.193\n",
      "Epoch 3 accuracy: 71.95. Loss: 1.100\n",
      "Epoch 4 accuracy: 73.92. Loss: 1.018\n",
      "Epoch 5 accuracy: 75.59. Loss: 0.940\n",
      "Epoch 6 accuracy: 77.21. Loss: 0.849\n",
      "Epoch 7 accuracy: 79.12. Loss: 0.747\n",
      "Epoch 8 accuracy: 81.54. Loss: 0.639\n",
      "Epoch 9 accuracy: 85.04. Loss: 0.509\n",
      "Epoch 10 accuracy: 88.80. Loss: 0.368\n",
      "Epoch 11 accuracy: 92.92. Loss: 0.240\n",
      "Epoch 12 accuracy: 96.24. Loss: 0.138\n",
      "Epoch 13 accuracy: 97.92. Loss: 0.082\n",
      "Epoch 14 accuracy: 98.98. Loss: 0.045\n",
      "Epoch 15 accuracy: 99.65. Loss: 0.023\n",
      "Epoch 16 accuracy: 99.87. Loss: 0.014\n",
      "Epoch 17 accuracy: 99.82. Loss: 0.011\n",
      "Epoch 18 accuracy: 99.82. Loss: 0.012\n",
      "Epoch 19 accuracy: 99.88. Loss: 0.009\n",
      "Epoch 20 accuracy: 99.91. Loss: 0.007\n",
      "Epoch 21 accuracy: 99.97. Loss: 0.003\n",
      "Epoch 22 accuracy: 99.98. Loss: 0.002\n",
      "Epoch 23 accuracy: 99.98. Loss: 0.003\n",
      "Epoch 24 accuracy: 99.98. Loss: 0.002\n",
      "Epoch 25 accuracy: 99.92. Loss: 0.006\n",
      "Epoch 26 accuracy: 99.98. Loss: 0.002\n",
      "Epoch 27 accuracy: 99.96. Loss: 0.003\n",
      "Epoch 28 accuracy: 99.99. Loss: 0.002\n",
      "Epoch 29 accuracy: 99.99. Loss: 0.001\n",
      "Epoch 30 accuracy: 99.98. Loss: 0.002\n",
      "Epoch 31 accuracy: 100.00. Loss: 0.000\n",
      "Finished Training of AlexNet\n",
      "Number of epochs until 100% accuracy: 31\n",
      "Time taken: 1460.940422296524\n",
      "\n",
      "Corruption probability = 40%\n",
      "Files already downloaded and verified\n",
      "Files already downloaded and verified\n",
      "cuda:0\n",
      "Epoch 1 accuracy: 46.26. Loss: 1.812\n",
      "Epoch 2 accuracy: 53.31. Loss: 1.666\n",
      "Epoch 3 accuracy: 55.36. Loss: 1.593\n",
      "Epoch 4 accuracy: 56.89. Loss: 1.523\n",
      "Epoch 5 accuracy: 58.53. Loss: 1.448\n",
      "Epoch 6 accuracy: 60.25. Loss: 1.355\n",
      "Epoch 7 accuracy: 62.34. Loss: 1.254\n",
      "Epoch 8 accuracy: 65.41. Loss: 1.119\n",
      "Epoch 9 accuracy: 69.92. Loss: 0.948\n",
      "Epoch 10 accuracy: 76.36. Loss: 0.740\n",
      "Epoch 11 accuracy: 83.38. Loss: 0.524\n",
      "Epoch 12 accuracy: 90.39. Loss: 0.317\n",
      "Epoch 13 accuracy: 95.22. Loss: 0.172\n",
      "Epoch 14 accuracy: 97.82. Loss: 0.090\n",
      "Epoch 15 accuracy: 98.72. Loss: 0.060\n",
      "Epoch 16 accuracy: 99.18. Loss: 0.042\n",
      "Epoch 17 accuracy: 99.62. Loss: 0.025\n",
      "Epoch 18 accuracy: 99.70. Loss: 0.020\n",
      "Epoch 19 accuracy: 99.78. Loss: 0.017\n",
      "Epoch 20 accuracy: 99.83. Loss: 0.014\n",
      "Epoch 21 accuracy: 99.81. Loss: 0.012\n",
      "Epoch 22 accuracy: 99.82. Loss: 0.012\n",
      "Epoch 23 accuracy: 99.91. Loss: 0.007\n",
      "Epoch 24 accuracy: 99.94. Loss: 0.005\n",
      "Epoch 25 accuracy: 99.95. Loss: 0.005\n",
      "Epoch 26 accuracy: 99.95. Loss: 0.004\n",
      "Epoch 27 accuracy: 99.94. Loss: 0.004\n",
      "Epoch 28 accuracy: 99.98. Loss: 0.002\n",
      "Epoch 29 accuracy: 99.98. Loss: 0.002\n",
      "Epoch 30 accuracy: 99.99. Loss: 0.001\n",
      "Epoch 31 accuracy: 100.00. Loss: 0.001\n",
      "Epoch 32 accuracy: 100.00. Loss: 0.001\n",
      "Epoch 33 accuracy: 99.98. Loss: 0.001\n",
      "Epoch 34 accuracy: 99.98. Loss: 0.002\n",
      "Epoch 35 accuracy: 100.00. Loss: 0.000\n",
      "Finished Training of AlexNet\n",
      "Number of epochs until 100% accuracy: 35\n",
      "Time taken: 1647.500766992569\n",
      "\n",
      "Corruption probability = 60%\n",
      "Files already downloaded and verified\n",
      "Files already downloaded and verified\n",
      "cuda:0\n",
      "Epoch 1 accuracy: 31.27. Loss: 2.115\n",
      "Epoch 2 accuracy: 37.16. Loss: 2.012\n",
      "Epoch 3 accuracy: 38.90. Loss: 1.954\n",
      "Epoch 4 accuracy: 40.34. Loss: 1.897\n",
      "Epoch 5 accuracy: 41.54. Loss: 1.830\n",
      "Epoch 6 accuracy: 43.84. Loss: 1.748\n",
      "Epoch 7 accuracy: 46.54. Loss: 1.641\n",
      "Epoch 8 accuracy: 50.74. Loss: 1.500\n",
      "Epoch 9 accuracy: 56.17. Loss: 1.320\n",
      "Epoch 10 accuracy: 64.44. Loss: 1.087\n",
      "Epoch 11 accuracy: 74.21. Loss: 0.798\n",
      "Epoch 12 accuracy: 84.20. Loss: 0.510\n",
      "Epoch 13 accuracy: 91.70. Loss: 0.287\n",
      "Epoch 14 accuracy: 95.81. Loss: 0.162\n",
      "Epoch 15 accuracy: 97.84. Loss: 0.096\n",
      "Epoch 16 accuracy: 98.78. Loss: 0.059\n",
      "Epoch 17 accuracy: 99.22. Loss: 0.042\n",
      "Epoch 18 accuracy: 99.60. Loss: 0.027\n",
      "Epoch 19 accuracy: 99.71. Loss: 0.020\n",
      "Epoch 20 accuracy: 99.78. Loss: 0.015\n",
      "Epoch 21 accuracy: 99.85. Loss: 0.011\n",
      "Epoch 22 accuracy: 99.94. Loss: 0.006\n",
      "Epoch 23 accuracy: 99.96. Loss: 0.003\n",
      "Epoch 24 accuracy: 99.96. Loss: 0.004\n",
      "Epoch 25 accuracy: 99.96. Loss: 0.003\n",
      "Epoch 26 accuracy: 99.97. Loss: 0.002\n",
      "Epoch 27 accuracy: 99.98. Loss: 0.002\n",
      "Epoch 28 accuracy: 99.99. Loss: 0.001\n",
      "Epoch 29 accuracy: 99.98. Loss: 0.001\n",
      "Epoch 30 accuracy: 99.98. Loss: 0.001\n",
      "Epoch 31 accuracy: 100.00. Loss: 0.000\n",
      "Finished Training of AlexNet\n",
      "Number of epochs until 100% accuracy: 31\n",
      "Time taken: 1460.9474921226501\n",
      "\n",
      "Corruption probability = 80%\n",
      "Files already downloaded and verified\n",
      "Files already downloaded and verified\n",
      "cuda:0\n",
      "Epoch 1 accuracy: 17.75. Loss: 2.274\n",
      "Epoch 2 accuracy: 21.73. Loss: 2.228\n",
      "Epoch 3 accuracy: 23.35. Loss: 2.198\n",
      "Epoch 4 accuracy: 24.50. Loss: 2.166\n",
      "Epoch 5 accuracy: 25.84. Loss: 2.126\n",
      "Epoch 6 accuracy: 27.47. Loss: 2.074\n",
      "Epoch 7 accuracy: 30.22. Loss: 2.005\n",
      "Epoch 8 accuracy: 33.46. Loss: 1.920\n",
      "Epoch 9 accuracy: 37.58. Loss: 1.803\n",
      "Epoch 10 accuracy: 43.49. Loss: 1.650\n",
      "Epoch 11 accuracy: 50.88. Loss: 1.442\n",
      "Epoch 12 accuracy: 60.75. Loss: 1.173\n",
      "Epoch 13 accuracy: 71.44. Loss: 0.870\n",
      "Epoch 14 accuracy: 82.26. Loss: 0.564\n",
      "Epoch 15 accuracy: 90.29. Loss: 0.329\n",
      "Epoch 16 accuracy: 94.82. Loss: 0.186\n",
      "Epoch 17 accuracy: 97.36. Loss: 0.108\n",
      "Epoch 18 accuracy: 98.61. Loss: 0.069\n",
      "Epoch 19 accuracy: 99.34. Loss: 0.039\n",
      "Epoch 20 accuracy: 99.77. Loss: 0.019\n",
      "Epoch 21 accuracy: 99.72. Loss: 0.019\n",
      "Epoch 22 accuracy: 99.92. Loss: 0.008\n",
      "Epoch 23 accuracy: 99.92. Loss: 0.007\n",
      "Epoch 24 accuracy: 99.89. Loss: 0.008\n",
      "Epoch 25 accuracy: 99.92. Loss: 0.005\n",
      "Epoch 26 accuracy: 99.96. Loss: 0.004\n",
      "Epoch 27 accuracy: 99.95. Loss: 0.006\n",
      "Epoch 28 accuracy: 99.97. Loss: 0.004\n",
      "Epoch 29 accuracy: 99.98. Loss: 0.005\n",
      "Epoch 30 accuracy: 99.96. Loss: 0.005\n",
      "Epoch 31 accuracy: 99.99. Loss: 0.002\n",
      "Epoch 32 accuracy: 100.00. Loss: 0.000\n",
      "Finished Training of AlexNet\n",
      "Number of epochs until 100% accuracy: 32\n",
      "Time taken: 1518.812831401825\n",
      "\n",
      "Corruption probability = 100%\n",
      "Files already downloaded and verified\n",
      "Files already downloaded and verified\n",
      "cuda:0\n",
      "Epoch 1 accuracy: 10.19. Loss: 2.312\n",
      "Epoch 2 accuracy: 10.81. Loss: 2.300\n",
      "Epoch 3 accuracy: 11.64. Loss: 2.297\n",
      "Epoch 4 accuracy: 12.36. Loss: 2.293\n",
      "Epoch 5 accuracy: 13.11. Loss: 2.287\n",
      "Epoch 6 accuracy: 14.02. Loss: 2.280\n",
      "Epoch 7 accuracy: 14.65. Loss: 2.270\n",
      "Epoch 8 accuracy: 15.76. Loss: 2.259\n",
      "Epoch 9 accuracy: 16.66. Loss: 2.242\n",
      "Epoch 10 accuracy: 17.76. Loss: 2.225\n",
      "Epoch 11 accuracy: 19.34. Loss: 2.198\n",
      "Epoch 12 accuracy: 21.15. Loss: 2.165\n",
      "Epoch 13 accuracy: 22.79. Loss: 2.127\n",
      "Epoch 14 accuracy: 25.56. Loss: 2.071\n",
      "Epoch 15 accuracy: 28.94. Loss: 2.003\n",
      "Epoch 16 accuracy: 32.57. Loss: 1.920\n",
      "Epoch 17 accuracy: 37.32. Loss: 1.805\n",
      "Epoch 18 accuracy: 42.44. Loss: 1.673\n",
      "Epoch 19 accuracy: 48.69. Loss: 1.504\n",
      "Epoch 20 accuracy: 55.92. Loss: 1.308\n",
      "Epoch 21 accuracy: 64.52. Loss: 1.071\n",
      "Epoch 22 accuracy: 72.23. Loss: 0.852\n",
      "Epoch 23 accuracy: 79.82. Loss: 0.636\n",
      "Epoch 24 accuracy: 86.57. Loss: 0.435\n",
      "Epoch 25 accuracy: 90.43. Loss: 0.319\n",
      "Epoch 26 accuracy: 93.90. Loss: 0.216\n",
      "Epoch 27 accuracy: 95.90. Loss: 0.159\n",
      "Epoch 28 accuracy: 97.19. Loss: 0.109\n",
      "Epoch 29 accuracy: 98.26. Loss: 0.077\n",
      "Epoch 30 accuracy: 98.35. Loss: 0.072\n",
      "Epoch 31 accuracy: 98.93. Loss: 0.052\n",
      "Epoch 32 accuracy: 99.66. Loss: 0.022\n",
      "Epoch 33 accuracy: 99.80. Loss: 0.016\n",
      "Epoch 34 accuracy: 99.92. Loss: 0.010\n",
      "Epoch 35 accuracy: 99.96. Loss: 0.006\n",
      "Epoch 36 accuracy: 99.98. Loss: 0.003\n",
      "Epoch 37 accuracy: 99.99. Loss: 0.002\n",
      "Epoch 38 accuracy: 99.97. Loss: 0.002\n",
      "Epoch 39 accuracy: 99.92. Loss: 0.005\n",
      "Epoch 40 accuracy: 99.99. Loss: 0.001\n",
      "Epoch 41 accuracy: 99.88. Loss: 0.007\n",
      "Epoch 42 accuracy: 99.93. Loss: 0.005\n",
      "Epoch 43 accuracy: 99.98. Loss: 0.002\n",
      "Epoch 44 accuracy: 100.00. Loss: 0.001\n",
      "Finished Training of AlexNet\n",
      "Number of epochs until 100% accuracy: 44\n",
      "Time taken: 2084.494347333908\n",
      "\n"
     ]
    }
   ],
   "source": [
    "accuracies = []\n",
    "losses = []\n",
    "for p in [0, 0.2, 0.4, 0.6, 0.8, 1]:\n",
    "    print(f\"Corruption probability = {int(p*100)}%\")\n",
    "    train_loader, test_loader = data.dataload(batch_size=64, corrupt_prob=p)\n",
    "    alexnet, device = model.loadmodel()\n",
    "\n",
    "    criterion = nn.CrossEntropyLoss()\n",
    "    optimizer = optim.SGD(alexnet.parameters(), lr=0.001, momentum = 0.9, weight_decay=1e-4)\n",
    "    accs, ls = train.train(alexnet, optimizer, criterion, train_loader, device)\n",
    "    \n",
    "    accuracies.append(accs)\n",
    "    losses.append(ls)\n",
    "    torch.save(alexnet.state_dict(), f'models/alexnet_sgd_{int(p*100)}%.pt')\n",
    "    pickle.dump([accs,ls], open(f'metrics/sgd_acc_loss_{int(p*100)}%.pkl', 'wb'))\n",
    "    print()"
   ]
  },
  {
   "cell_type": "markdown",
   "metadata": {},
   "source": [
    "Initial plots just to get an idea of performance"
   ]
  },
  {
   "cell_type": "code",
   "execution_count": null,
   "metadata": {
    "colab": {
     "base_uri": "https://localhost:8080/",
     "height": 370
    },
    "executionInfo": {
     "elapsed": 865,
     "status": "ok",
     "timestamp": 1655201635113,
     "user": {
      "displayName": "Nicholas Sperry",
      "userId": "17478191746282896441"
     },
     "user_tz": -120
    },
    "id": "jibI9XzqaCNR",
    "outputId": "e08b9384-3b15-4e43-ba6d-0f90d02e8829"
   },
   "outputs": [
    {
     "name": "stderr",
     "output_type": "stream",
     "text": [
      "The PostScript backend does not support transparency; partially transparent artists will be rendered opaque.\n",
      "The PostScript backend does not support transparency; partially transparent artists will be rendered opaque.\n"
     ]
    },
    {
     "data": {
      "image/png": "[encoded data removed]",
      "text/plain": [
       "<Figure size 720x360 with 1 Axes>"
      ]
     },
     "metadata": {
      "needs_background": "light"
     },
     "output_type": "display_data"
    }
   ],
   "source": [
    "metrics = []\n",
    "for p in [0, 20, 40, 60, 80, 100]:\n",
    "    metrics.append(pickle.load(open(f'metrics/sgd_acc_loss_{p}%.pkl', 'rb')))\n",
    "\n",
    "plt.figure(figsize=(10,5))\n",
    "markers = ['x','o','v','*','^','s']\n",
    "for m, marker in zip(metrics, markers):\n",
    "    last = m[0][-1]\n",
    "    acc = m[0] + [last]*(44-len(m[0]))\n",
    "    plt.plot(range(1,45,1),acc, marker=marker, linewidth=2.5)\n",
    "plt.legend([f'{x}% label corruption' for x in [0, 20, 40, 60, 80, 100]])\n",
    "plt.ylabel('Train accuracy (%)')\n",
    "plt.xlabel('Epoch')\n",
    "plt.yticks(range(10,110,10), [f'{x}%' for x in range(10,110,10)]);\n",
    "plt.savefig('SGD_label_corruption.eps')\n",
    "#plt.xticks(range(1,45,4))"
   ]
  },
  {
   "cell_type": "code",
   "execution_count": null,
   "metadata": {
    "colab": {
     "base_uri": "https://localhost:8080/",
     "height": 352
    },
    "executionInfo": {
     "elapsed": 944,
     "status": "ok",
     "timestamp": 1654946171325,
     "user": {
      "displayName": "Nicholas Sperry",
      "userId": "17478191746282896441"
     },
     "user_tz": -120
    },
    "id": "immxlYjmcdr0",
    "outputId": "3500f201-efa3-4e4e-b882-cf9d4f325c14"
   },
   "outputs": [
    {
     "data": {
      "text/plain": [
       "Text(0.5, 0, 'Epoch')"
      ]
     },
     "execution_count": 82,
     "metadata": {},
     "output_type": "execute_result"
    },
    {
     "data": {
      "image/png": "[encoded data removed]",
      "text/plain": [
       "<Figure size 720x360 with 1 Axes>"
      ]
     },
     "metadata": {
      "needs_background": "light"
     },
     "output_type": "display_data"
    }
   ],
   "source": [
    "plt.figure(figsize=(10,5))\n",
    "markers = ['x','o','v','*','^','+']\n",
    "for m, marker in zip(metrics, markers):\n",
    "    last = m[1][-1]\n",
    "    acc = m[1] + [last]*(44-len(m[1]))\n",
    "    plt.plot(acc, marker=marker)\n",
    "plt.legend([f'{x}% label corruption' for x in [0, 20, 40, 60, 80, 100]])\n",
    "plt.ylabel('Average Loss')\n",
    "plt.xlabel('Epoch')"
   ]
  },
  {
   "cell_type": "markdown",
   "metadata": {},
   "source": [
    "## Test evaluation\n",
    "Here we see how well the models generalise to the unseen test set"
   ]
  },
  {
   "cell_type": "code",
   "execution_count": null,
   "metadata": {
    "colab": {
     "base_uri": "https://localhost:8080/"
    },
    "executionInfo": {
     "elapsed": 134333,
     "status": "ok",
     "timestamp": 1655141823291,
     "user": {
      "displayName": "Nicholas Sperry",
      "userId": "17478191746282896441"
     },
     "user_tz": -120
    },
    "id": "z4t2NWw9GvDu",
    "outputId": "788720d7-5f3e-4636-c4f1-d80fbde30609"
   },
   "outputs": [
    {
     "name": "stdout",
     "output_type": "stream",
     "text": [
      "Files already downloaded and verified\n",
      "Files already downloaded and verified\n",
      "Corruption probability = 0%\n",
      "cuda:0\n",
      "Accuracy:  88.44999999999999\n",
      "Average loss:  0.5442793324684642\n",
      "Corruption probability = 20%\n",
      "cuda:0\n",
      "Accuracy:  78.94\n",
      "Average loss:  1.176780030795723\n",
      "Corruption probability = 40%\n",
      "cuda:0\n",
      "Accuracy:  66.12\n",
      "Average loss:  1.8852679623160393\n",
      "Corruption probability = 60%\n",
      "cuda:0\n",
      "Accuracy:  49.49\n",
      "Average loss:  3.066807995176619\n",
      "Corruption probability = 80%\n",
      "cuda:0\n",
      "Accuracy:  30.19\n",
      "Average loss:  4.727142493436291\n",
      "Corruption probability = 100%\n",
      "cuda:0\n",
      "Accuracy:  9.89\n",
      "Average loss:  8.411445918356536\n"
     ]
    }
   ],
   "source": [
    "train_loader, test_loader = data.dataload(batch_size=64, perm_level=0)\n",
    "for p in [0, 20, 40, 60, 80, 100]:\n",
    "    print(f\"Corruption probability = {p}%\")\n",
    "    alexnet, device = utils.loadmodel()\n",
    "    alexnet.load_state_dict(torch.load(f'models/alexnet_sgd_{p}%.pt'))\n",
    "\n",
    "    eval_model(alexnet, test_loader)"
   ]
  },
  {
   "cell_type": "markdown",
   "metadata": {},
   "source": [
    "## Train evaluation\n",
    "Here we plot the evolution of accuracies with different levels of corruption"
   ]
  },
  {
   "cell_type": "code",
   "execution_count": 12,
   "metadata": {
    "colab": {
     "base_uri": "https://localhost:8080/",
     "height": 386
    },
    "executionInfo": {
     "elapsed": 1166,
     "status": "ok",
     "timestamp": 1655375340507,
     "user": {
      "displayName": "Nicholas Sperry",
      "userId": "17478191746282896441"
     },
     "user_tz": -120
    },
    "id": "8n7CwI04hTMZ",
    "outputId": "5890229c-e84d-49bf-f6d5-7fc5b9d23360"
   },
   "outputs": [
    {
     "name": "stderr",
     "output_type": "stream",
     "text": [
      "The PostScript backend does not support transparency; partially transparent artists will be rendered opaque.\n",
      "The PostScript backend does not support transparency; partially transparent artists will be rendered opaque.\n"
     ]
    },
    {
     "data": {
      "image/png": "[encoded data removed]",
      "text/plain": [
       "<Figure size 720x360 with 1 Axes>"
      ]
     },
     "metadata": {
      "needs_background": "light"
     },
     "output_type": "display_data"
    }
   ],
   "source": [
    "#metrics = []\n",
    "#for p in [0, 20, 40, 60, 80, 100]:\n",
    "#    metrics.append(pickle.load(open(f'metrics/sgd_acc_loss_{p}%.pkl', 'rb')))\n",
    "\n",
    "fig = plt.figure(figsize=(10,5))\n",
    "ax = fig.add_subplot(111)\n",
    "markers = ['x','o','v','*','^','s']\n",
    "for m, marker in zip(metrics, markers):\n",
    "    acc = m[0] \n",
    "    plt.plot(range(1,len(acc)+1,1),acc, marker=marker, linewidth=2.5)\n",
    "plt.legend([f'{x}% label corruption' for x in [0, 20, 40, 60, 80, 100]])\n",
    "plt.ylabel('Train accuracy (%)')\n",
    "plt.xlabel('Epoch')\n",
    "plt.yticks(range(10,110,10), [f'{x}%' for x in range(10,110,10)]);\n",
    "plt.title('SGD')\n",
    "plt.xlim([0,35])\n",
    "ax.set_aspect(1./ax.get_data_ratio())\n",
    "plt.savefig('sgd_corrupt_box_stop.eps')\n",
    "#plt.xticks(range(1,45,4))"
   ]
  },
  {
   "cell_type": "markdown",
   "metadata": {
    "id": "FyQppMnE7WdJ"
   },
   "source": [
    "# Shuffled pixels\n",
    "Here we train the model when permuting pixels along the x-axis, as well as both the x and y-axes."
   ]
  },
  {
   "cell_type": "code",
   "execution_count": null,
   "metadata": {
    "colab": {
     "base_uri": "https://localhost:8080/",
     "height": 1000,
     "referenced_widgets": [
      "5c3b3f4c53984b0f919daf715d39cb0c",
      "d5b09964623a48619c045aacf7bcbc75",
      "7548851dc5124255a0815552e8fc476f",
      "9436325b0c4e44aba114583d6640c3ff",
      "01969cde4d0d41c78eaaeb7e2e1e4099",
      "825ae1264c4240beb3b602be8cd7ca1d",
      "798728d2ed6d4e72bec2726ff8be7ee8",
      "e2a95eca09be45938f856b3b25438bb5",
      "cbf5a0ff26ab451a8060035e6ed653dc",
      "247028c05c294e6a9954904cf1ab19b3",
      "7337ef6685194ce9becad281ba8a7344"
     ]
    },
    "executionInfo": {
     "elapsed": 1929935,
     "status": "ok",
     "timestamp": 1654956122463,
     "user": {
      "displayName": "Nicholas Sperry",
      "userId": "17478191746282896441"
     },
     "user_tz": -120
    },
    "id": "XGGPcQST7Xvr",
    "outputId": "355f6f26-da40-49cc-fc80-5b4030a2fc16"
   },
   "outputs": [
    {
     "name": "stdout",
     "output_type": "stream",
     "text": [
      "Permutation level = 1\n",
      "Files already downloaded and verified\n",
      "Files already downloaded and verified\n"
     ]
    },
    {
     "name": "stderr",
     "output_type": "stream",
     "text": [
      "Downloading: \"https://download.pytorch.org/models/alexnet-owt-7be5be79.pth\" to /root/.cache/torch/hub/checkpoints/alexnet-owt-7be5be79.pth\n"
     ]
    },
    {
     "data": {
      "application/vnd.jupyter.widget-view+json": {
       "model_id": "5c3b3f4c53984b0f919daf715d39cb0c",
       "version_major": 2,
       "version_minor": 0
      },
      "text/plain": [
       "  0%|          | 0.00/233M [00:00<?, ?B/s]"
      ]
     },
     "metadata": {},
     "output_type": "display_data"
    },
    {
     "name": "stdout",
     "output_type": "stream",
     "text": [
      "cuda:0\n",
      "Epoch 1 accuracy: 53.48. Loss: 1.294\n",
      "Epoch 2 accuracy: 64.71. Loss: 0.989\n",
      "Epoch 3 accuracy: 70.58. Loss: 0.836\n",
      "Epoch 4 accuracy: 74.32. Loss: 0.726\n",
      "Epoch 5 accuracy: 78.74. Loss: 0.610\n",
      "Epoch 6 accuracy: 82.20. Loss: 0.514\n",
      "Epoch 7 accuracy: 85.24. Loss: 0.422\n",
      "Epoch 8 accuracy: 88.90. Loss: 0.324\n",
      "Epoch 9 accuracy: 91.74. Loss: 0.243\n",
      "Epoch 10 accuracy: 94.52. Loss: 0.169\n",
      "Epoch 11 accuracy: 96.76. Loss: 0.107\n",
      "Epoch 12 accuracy: 98.18. Loss: 0.067\n",
      "Epoch 13 accuracy: 99.38. Loss: 0.031\n",
      "Epoch 14 accuracy: 99.76. Loss: 0.016\n",
      "Epoch 15 accuracy: 99.66. Loss: 0.016\n",
      "Epoch 16 accuracy: 99.97. Loss: 0.005\n",
      "Epoch 17 accuracy: 100.00. Loss: 0.002\n",
      "Finished Training of AlexNet\n",
      "Number of epochs until 100% accuracy: 17\n",
      "Time taken: 901.672345161438\n",
      "\n",
      "Permutation level = 2\n",
      "Files already downloaded and verified\n",
      "Files already downloaded and verified\n",
      "cuda:0\n",
      "Epoch 1 accuracy: 46.28. Loss: 1.479\n",
      "Epoch 2 accuracy: 57.05. Loss: 1.205\n",
      "Epoch 3 accuracy: 61.69. Loss: 1.073\n",
      "Epoch 4 accuracy: 65.92. Loss: 0.960\n",
      "Epoch 5 accuracy: 69.64. Loss: 0.860\n",
      "Epoch 6 accuracy: 72.85. Loss: 0.769\n",
      "Epoch 7 accuracy: 76.17. Loss: 0.674\n",
      "Epoch 8 accuracy: 79.95. Loss: 0.565\n",
      "Epoch 9 accuracy: 83.58. Loss: 0.469\n",
      "Epoch 10 accuracy: 87.46. Loss: 0.365\n",
      "Epoch 11 accuracy: 90.72. Loss: 0.278\n",
      "Epoch 12 accuracy: 93.20. Loss: 0.206\n",
      "Epoch 13 accuracy: 96.21. Loss: 0.125\n",
      "Epoch 14 accuracy: 97.90. Loss: 0.079\n",
      "Epoch 15 accuracy: 99.00. Loss: 0.046\n",
      "Epoch 16 accuracy: 99.34. Loss: 0.031\n",
      "Epoch 17 accuracy: 99.90. Loss: 0.011\n",
      "Epoch 18 accuracy: 99.88. Loss: 0.007\n",
      "Epoch 19 accuracy: 99.98. Loss: 0.004\n",
      "Epoch 20 accuracy: 100.00. Loss: 0.001\n",
      "Finished Training of AlexNet\n",
      "Number of epochs until 100% accuracy: 20\n",
      "Time taken: 1001.4995317459106\n",
      "\n"
     ]
    }
   ],
   "source": [
    "\n",
    "for p in [1, 2]:\n",
    "    print(f\"Permutation level = {p}\")\n",
    "    train_loader, test_loader = data.dataload(batch_size=64, perm_level=p)\n",
    "    alexnet, device = model.loadmodel()\n",
    "\n",
    "    criterion = nn.CrossEntropyLoss()\n",
    "    optimizer = optim.SGD(alexnet.parameters(), lr=0.001, momentum = 0.9, weight_decay=1e-4)\n",
    "    accuracies, losses = train.train(alexnet, optimizer, criterion, train_loader, device)\n",
    "\n",
    "    torch.save(alexnet.state_dict(), f'models/alexnet_sgd_perm_{p}.pt')\n",
    "    pickle.dump([accuracies,losses], open(f'metrics/sgd_acc_loss_perm_{p}.pkl', 'wb'))\n",
    "    print()"
   ]
  },
  {
   "cell_type": "code",
   "execution_count": null,
   "metadata": {
    "colab": {
     "base_uri": "https://localhost:8080/",
     "height": 279
    },
    "executionInfo": {
     "elapsed": 800,
     "status": "ok",
     "timestamp": 1655029396248,
     "user": {
      "displayName": "Nicholas Sperry",
      "userId": "17478191746282896441"
     },
     "user_tz": -120
    },
    "id": "UIKt9AjzbDbC",
    "outputId": "7a677f23-c2fb-4365-9f92-9f69e67659d6"
   },
   "outputs": [
    {
     "data": {
      "image/png": "[encoded data removed]",
      "text/plain": [
       "<Figure size 432x288 with 1 Axes>"
      ]
     },
     "metadata": {
      "needs_background": "light"
     },
     "output_type": "display_data"
    }
   ],
   "source": [
    "metrics = []\n",
    "for p in [1, 2]:\n",
    "    metrics.append(pickle.load(open(f'metrics/sgd_acc_loss_perm_{p}.pkl', 'rb')))\n",
    "\n",
    "markers = ['x','o']\n",
    "for m, marker in zip(metrics, markers):\n",
    "    last = m[0][-1]\n",
    "    acc = m[0] + [last]*(20-len(m[0]))\n",
    "    plt.plot(range(1, len(acc)+1), acc, marker=marker)\n",
    "plt.legend([f'Permutation level = {x}' for x in [1,2]])\n",
    "plt.ylabel('Accuracy (%)')\n",
    "plt.xlabel('Epoch')\n",
    "plt.xticks(range(1,21,2));"
   ]
  },
  {
   "cell_type": "markdown",
   "metadata": {
    "id": "CYn0JDUc9AfK"
   },
   "source": [
    "# Random noise"
   ]
  },
  {
   "cell_type": "code",
   "execution_count": null,
   "metadata": {
    "colab": {
     "base_uri": "https://localhost:8080/",
     "height": 1000,
     "referenced_widgets": [
      "e906f1d6c5e248cc9fd21d7569b24f6d",
      "3c694b64092a420a8b95345e6e7f8beb",
      "c249b827306041e0a6a8fe7ad2686958",
      "7e6b127662084c06b04561717c9cd9d3",
      "2c0217d177e8434eacfdb7e45957aa5e",
      "563fef2f70eb4c6da5aaa830d14da5a0",
      "8164b0c5ae6f49468f0aa82e2d937226",
      "e20e02e1c3154f0cb03eb50a3b64a786",
      "bd3fc44cb422445a88975babcfb8c163",
      "3034679b21c743d8b591a0529b23a370",
      "d2efe4cd67164a7caf152603c7a81ddb"
     ]
    },
    "executionInfo": {
     "elapsed": 3325822,
     "status": "ok",
     "timestamp": 1654965095816,
     "user": {
      "displayName": "Nicholas Sperry",
      "userId": "17478191746282896441"
     },
     "user_tz": -120
    },
    "id": "FdVjQcFv9SEP",
    "outputId": "e19829c8-444f-4872-df82-5225091dcf1d"
   },
   "outputs": [
    {
     "name": "stdout",
     "output_type": "stream",
     "text": [
      "Files already downloaded and verified\n",
      "Files already downloaded and verified\n"
     ]
    },
    {
     "name": "stderr",
     "output_type": "stream",
     "text": [
      "Downloading: \"https://download.pytorch.org/models/alexnet-owt-7be5be79.pth\" to /root/.cache/torch/hub/checkpoints/alexnet-owt-7be5be79.pth\n"
     ]
    },
    {
     "data": {
      "application/vnd.jupyter.widget-view+json": {
       "model_id": "e906f1d6c5e248cc9fd21d7569b24f6d",
       "version_major": 2,
       "version_minor": 0
      },
      "text/plain": [
       "  0%|          | 0.00/233M [00:00<?, ?B/s]"
      ]
     },
     "metadata": {},
     "output_type": "display_data"
    },
    {
     "name": "stdout",
     "output_type": "stream",
     "text": [
      "cuda:0\n",
      "Epoch 1 accuracy: 10.22. Loss: 2.305\n",
      "Epoch 2 accuracy: 9.86. Loss: 2.303\n",
      "Epoch 3 accuracy: 10.59. Loss: 2.302\n",
      "Epoch 4 accuracy: 10.78. Loss: 2.302\n",
      "Epoch 5 accuracy: 10.70. Loss: 2.301\n",
      "Epoch 6 accuracy: 11.03. Loss: 2.301\n",
      "Epoch 7 accuracy: 11.09. Loss: 2.300\n",
      "Epoch 8 accuracy: 11.71. Loss: 2.299\n",
      "Epoch 9 accuracy: 11.67. Loss: 2.298\n",
      "Epoch 10 accuracy: 12.15. Loss: 2.296\n",
      "Epoch 11 accuracy: 12.28. Loss: 2.294\n",
      "Epoch 12 accuracy: 12.92. Loss: 2.292\n",
      "Epoch 13 accuracy: 12.79. Loss: 2.288\n",
      "Epoch 14 accuracy: 13.28. Loss: 2.286\n",
      "Epoch 15 accuracy: 14.05. Loss: 2.281\n",
      "Epoch 16 accuracy: 14.64. Loss: 2.275\n",
      "Epoch 17 accuracy: 15.11. Loss: 2.269\n",
      "Epoch 18 accuracy: 15.29. Loss: 2.262\n",
      "Epoch 19 accuracy: 16.32. Loss: 2.250\n",
      "Epoch 20 accuracy: 17.18. Loss: 2.236\n",
      "Epoch 21 accuracy: 18.12. Loss: 2.225\n",
      "Epoch 22 accuracy: 19.07. Loss: 2.205\n",
      "Epoch 23 accuracy: 20.44. Loss: 2.182\n",
      "Epoch 24 accuracy: 21.76. Loss: 2.154\n",
      "Epoch 25 accuracy: 22.88. Loss: 2.126\n",
      "Epoch 26 accuracy: 25.03. Loss: 2.088\n",
      "Epoch 27 accuracy: 26.61. Loss: 2.052\n",
      "Epoch 28 accuracy: 29.10. Loss: 1.990\n",
      "Epoch 29 accuracy: 31.74. Loss: 1.925\n",
      "Epoch 30 accuracy: 34.51. Loss: 1.860\n",
      "Epoch 31 accuracy: 37.20. Loss: 1.781\n",
      "Epoch 32 accuracy: 41.63. Loss: 1.671\n",
      "Epoch 33 accuracy: 44.62. Loss: 1.587\n",
      "Epoch 34 accuracy: 47.71. Loss: 1.479\n",
      "Epoch 35 accuracy: 52.92. Loss: 1.343\n",
      "Epoch 36 accuracy: 57.54. Loss: 1.211\n",
      "Epoch 37 accuracy: 63.53. Loss: 1.035\n",
      "Epoch 38 accuracy: 66.86. Loss: 0.943\n",
      "Epoch 39 accuracy: 72.90. Loss: 0.776\n",
      "Epoch 40 accuracy: 76.16. Loss: 0.687\n",
      "Epoch 41 accuracy: 79.96. Loss: 0.570\n",
      "Epoch 42 accuracy: 83.36. Loss: 0.483\n",
      "Epoch 43 accuracy: 86.12. Loss: 0.401\n",
      "Epoch 44 accuracy: 88.68. Loss: 0.329\n",
      "Epoch 45 accuracy: 90.14. Loss: 0.288\n",
      "Epoch 46 accuracy: 92.10. Loss: 0.234\n",
      "Epoch 47 accuracy: 93.74. Loss: 0.189\n",
      "Epoch 48 accuracy: 92.84. Loss: 0.212\n",
      "Epoch 49 accuracy: 94.80. Loss: 0.156\n",
      "Epoch 50 accuracy: 95.59. Loss: 0.130\n",
      "Epoch 51 accuracy: 96.61. Loss: 0.098\n",
      "Epoch 52 accuracy: 96.52. Loss: 0.105\n",
      "Epoch 53 accuracy: 97.06. Loss: 0.091\n",
      "Epoch 54 accuracy: 97.59. Loss: 0.076\n",
      "Epoch 55 accuracy: 97.86. Loss: 0.065\n",
      "Epoch 56 accuracy: 96.76. Loss: 0.096\n",
      "Epoch 57 accuracy: 98.10. Loss: 0.060\n",
      "Epoch 58 accuracy: 98.26. Loss: 0.050\n",
      "Epoch 59 accuracy: 97.76. Loss: 0.067\n",
      "Epoch 60 accuracy: 97.28. Loss: 0.079\n",
      "Epoch 61 accuracy: 98.66. Loss: 0.043\n",
      "Epoch 62 accuracy: 98.50. Loss: 0.045\n",
      "Epoch 63 accuracy: 99.30. Loss: 0.023\n",
      "Epoch 64 accuracy: 99.70. Loss: 0.010\n",
      "Epoch 65 accuracy: 99.96. Loss: 0.002\n",
      "Epoch 66 accuracy: 100.00. Loss: 0.000\n",
      "Finished Training of AlexNet\n",
      "Number of epochs until 100% accuracy: 66\n",
      "Time taken: 3289.869933605194\n"
     ]
    }
   ],
   "source": [
    "train_loader, test_loader = data.dataload(batch_size=64, random_noise=True)\n",
    "alexnet, device = model.loadmodel()\n",
    "\n",
    "criterion = nn.CrossEntropyLoss()\n",
    "optimizer = optim.SGD(alexnet.parameters(), lr=0.001, momentum = 0.9, weight_decay=1e-4)\n",
    "accuracies, losses = train.train(alexnet, optimizer, criterion, train_loader, device)\n",
    "\n",
    "torch.save(alexnet.state_dict(), f'models/alexnet_sgd_random.pt')\n",
    "pickle.dump([accuracies,losses], open(f'metrics/sgd_acc_loss_random.pkl', 'wb'))"
   ]
  },
  {
   "cell_type": "code",
   "execution_count": null,
   "metadata": {
    "colab": {
     "base_uri": "https://localhost:8080/"
    },
    "id": "EkGCrXViqPmd",
    "outputId": "b85b9226-9cc0-45f2-8218-0c8d25f8f7a2"
   },
   "outputs": [
    {
     "name": "stdout",
     "output_type": "stream",
     "text": [
      "Files already downloaded and verified\n",
      "Files already downloaded and verified\n",
      "cuda:0\n",
      "Epoch 1 accuracy: 9.95. Loss: 2.309\n",
      "Epoch 2 accuracy: 10.11. Loss: 2.304\n",
      "Epoch 3 accuracy: 10.30. Loss: 2.303\n",
      "Epoch 4 accuracy: 10.49. Loss: 2.302\n",
      "Epoch 5 accuracy: 10.42. Loss: 2.302\n",
      "Epoch 6 accuracy: 10.90. Loss: 2.301\n",
      "Epoch 7 accuracy: 11.22. Loss: 2.301\n",
      "Epoch 8 accuracy: 11.42. Loss: 2.300\n",
      "Epoch 9 accuracy: 11.20. Loss: 2.300\n",
      "Epoch 10 accuracy: 11.53. Loss: 2.299\n",
      "Epoch 11 accuracy: 11.40. Loss: 2.299\n",
      "Epoch 12 accuracy: 11.88. Loss: 2.299\n",
      "Epoch 13 accuracy: 11.59. Loss: 2.298\n",
      "Epoch 14 accuracy: 11.92. Loss: 2.297\n",
      "Epoch 15 accuracy: 12.15. Loss: 2.297\n",
      "Epoch 16 accuracy: 12.08. Loss: 2.296\n",
      "Epoch 17 accuracy: 11.98. Loss: 2.296\n",
      "Epoch 18 accuracy: 12.13. Loss: 2.295\n",
      "Epoch 19 accuracy: 12.62. Loss: 2.294\n",
      "Epoch 20 accuracy: 12.61. Loss: 2.294\n",
      "Epoch 21 accuracy: 12.43. Loss: 2.293\n",
      "Epoch 22 accuracy: 12.59. Loss: 2.292\n",
      "Epoch 23 accuracy: 12.84. Loss: 2.291\n",
      "Epoch 24 accuracy: 13.12. Loss: 2.290\n",
      "Epoch 25 accuracy: 13.36. Loss: 2.289\n",
      "Epoch 26 accuracy: 13.36. Loss: 2.288\n",
      "Epoch 27 accuracy: 13.51. Loss: 2.287\n",
      "Epoch 28 accuracy: 13.58. Loss: 2.286\n",
      "Epoch 29 accuracy: 13.43. Loss: 2.285\n",
      "Epoch 30 accuracy: 13.72. Loss: 2.284\n",
      "Epoch 31 accuracy: 13.88. Loss: 2.283\n",
      "Epoch 32 accuracy: 13.94. Loss: 2.281\n",
      "Epoch 33 accuracy: 14.09. Loss: 2.280\n",
      "Epoch 34 accuracy: 14.01. Loss: 2.279\n",
      "Epoch 35 accuracy: 14.26. Loss: 2.277\n",
      "Epoch 36 accuracy: 14.45. Loss: 2.275\n",
      "Epoch 37 accuracy: 14.73. Loss: 2.273\n",
      "Epoch 38 accuracy: 15.04. Loss: 2.271\n",
      "Epoch 39 accuracy: 15.15. Loss: 2.269\n",
      "Epoch 40 accuracy: 15.44. Loss: 2.267\n",
      "Epoch 41 accuracy: 15.47. Loss: 2.266\n",
      "Epoch 42 accuracy: 15.73. Loss: 2.262\n",
      "Epoch 43 accuracy: 15.78. Loss: 2.260\n",
      "Epoch 44 accuracy: 16.15. Loss: 2.257\n",
      "Epoch 45 accuracy: 16.35. Loss: 2.255\n"
     ]
    }
   ],
   "source": [
    "train_loader, test_loader = data.dataload(batch_size=64, random_noise=True)\n",
    "alexnet, device = model.loadmodel()\n",
    "\n",
    "criterion = nn.CrossEntropyLoss()\n",
    "optimizer = optim.SGD(alexnet.parameters(), lr=0.001, momentum = 0., weight_decay=1e-4)\n",
    "accuracies, losses = train.train(alexnet, optimizer, criterion, train_loader, device)\n",
    "\n",
    "torch.save(alexnet.state_dict(), f'models/alexnet_sgd_random2.pt')\n",
    "pickle.dump([accuracies,losses], open(f'metrics/sgd_acc_loss_random2.pkl', 'wb'))"
   ]
  },
  {
   "cell_type": "code",
   "execution_count": null,
   "metadata": {
    "colab": {
     "base_uri": "https://localhost:8080/",
     "height": 297
    },
    "executionInfo": {
     "elapsed": 524,
     "status": "ok",
     "timestamp": 1655029638394,
     "user": {
      "displayName": "Nicholas Sperry",
      "userId": "17478191746282896441"
     },
     "user_tz": -120
    },
    "id": "qxePxEA9Iqd-",
    "outputId": "6aab5ab8-fe3b-43b3-b35b-df5104dba3ff"
   },
   "outputs": [
    {
     "data": {
      "text/plain": [
       "Text(0.5, 0, 'Epoch')"
      ]
     },
     "execution_count": 11,
     "metadata": {},
     "output_type": "execute_result"
    },
    {
     "data": {
      "image/png": "[encoded data removed]",
      "text/plain": [
       "<Figure size 432x288 with 1 Axes>"
      ]
     },
     "metadata": {
      "needs_background": "light"
     },
     "output_type": "display_data"
    }
   ],
   "source": [
    "random = pickle.load(open('metrics/sgd_acc_loss_random.pkl', 'rb'))\n",
    "\n",
    "plt.plot(range(1, len(random[0])+1), random[0], marker='x')\n",
    "plt.ylabel('Accuracy (%)')\n",
    "plt.xlabel('Epoch')\n",
    "#plt.xticks(range(1,21,2));"
   ]
  },
  {
   "cell_type": "markdown",
   "metadata": {
    "id": "HMejs3xgdNWL"
   },
   "source": [
    "# All together\n",
    "Here we plot the different image corruption model performances to see which is the hardest."
   ]
  },
  {
   "cell_type": "code",
   "execution_count": 17,
   "metadata": {
    "colab": {
     "base_uri": "https://localhost:8080/",
     "height": 386
    },
    "executionInfo": {
     "elapsed": 779,
     "status": "ok",
     "timestamp": 1655377594008,
     "user": {
      "displayName": "Nicholas Sperry",
      "userId": "17478191746282896441"
     },
     "user_tz": -120
    },
    "id": "ydrcQYzGtYH6",
    "outputId": "fa189871-cba9-4769-b5c0-a988a780e6f4"
   },
   "outputs": [
    {
     "name": "stderr",
     "output_type": "stream",
     "text": [
      "The PostScript backend does not support transparency; partially transparent artists will be rendered opaque.\n",
      "The PostScript backend does not support transparency; partially transparent artists will be rendered opaque.\n"
     ]
    },
    {
     "data": {
      "image/png": "[encoded data removed]",
      "text/plain": [
       "<Figure size 720x360 with 1 Axes>"
      ]
     },
     "metadata": {
      "needs_background": "light"
     },
     "output_type": "display_data"
    }
   ],
   "source": [
    "true_labels = pickle.load(open('metrics/sgd_acc_loss_0%.pkl', 'rb'))\n",
    "random_labels = pickle.load(open('metrics/sgd_acc_loss_100%.pkl', 'rb'))\n",
    "random_noise = pickle.load(open('metrics/sgd_acc_loss_random.pkl', 'rb'))\n",
    "shuffled_pixels1 = pickle.load(open('metrics/sgd_acc_loss_perm_1.pkl', 'rb'))\n",
    "shuffled_pixels2 = pickle.load(open('metrics/sgd_acc_loss_perm_2.pkl', 'rb'))\n",
    "losses = [true_labels[0], shuffled_pixels1[0], shuffled_pixels2[0], random_noise[0], random_labels[0]]\n",
    "markers = ['x','o','*', '^', 's']\n",
    "\n",
    "fig = plt.figure(figsize=(10,5))\n",
    "ax = fig.add_subplot(111)\n",
    "for acc, marker in zip(losses, markers):\n",
    "    last = acc[-1]\n",
    "    acc = acc #+ [last]*(67-len(acc))\n",
    "    plt.plot(range(1, len(acc)+1), acc, marker=marker,linewidth=2.5,markevery=2)\n",
    "plt.legend(['True labels','Shuffling along\\nx-axis', 'Shuffling along\\nx and y-axis', 'Gaussian noise', '100% random labels'])\n",
    "plt.ylabel('Train accuracy (%)')\n",
    "plt.xlabel('Epoch')\n",
    "plt.yticks(range(10,110,10), [f'{x}%' for x in range(10,110,10)]);\n",
    "plt.title('SGD')\n",
    "ax.set_aspect(1./ax.get_data_ratio())\n",
    "\n",
    "plt.savefig('sgd_comparison_stop.eps')"
   ]
  },
  {
   "cell_type": "code",
   "execution_count": null,
   "metadata": {
    "colab": {
     "base_uri": "https://localhost:8080/",
     "height": 279
    },
    "executionInfo": {
     "elapsed": 604,
     "status": "ok",
     "timestamp": 1655030462625,
     "user": {
      "displayName": "Nicholas Sperry",
      "userId": "17478191746282896441"
     },
     "user_tz": -120
    },
    "id": "OEDzMTFWdQAw",
    "outputId": "fc7eb008-15a2-43da-c2be-cfa823ce47fc"
   },
   "outputs": [
    {
     "data": {
      "image/png": "[encoded data removed]",
      "text/plain": [
       "<Figure size 432x288 with 1 Axes>"
      ]
     },
     "metadata": {
      "needs_background": "light"
     },
     "output_type": "display_data"
    }
   ],
   "source": [
    "true_labels = pickle.load(open('metrics/sgd_acc_loss_0%.pkl', 'rb'))\n",
    "random_labels = pickle.load(open('metrics/sgd_acc_loss_100%.pkl', 'rb'))\n",
    "random_noise = pickle.load(open('metrics/sgd_acc_loss_random.pkl', 'rb'))\n",
    "shuffled_pixels = pickle.load(open('metrics/sgd_acc_loss_perm_2.pkl', 'rb'))\n",
    "losses = [true_labels[1], random_labels[1], shuffled_pixels[1], random_noise[1]]\n",
    "markers = ['x','o','*','h']\n",
    "\n",
    "for acc, marker in zip(losses, markers):\n",
    "    last = acc[-1]\n",
    "    acc = acc + [last]*(67-len(acc))\n",
    "    plt.plot(range(1, len(acc)+1), acc, marker=marker,linewidth=2,markevery=2)\n",
    "plt.legend(['True labels','100% random labels','Shuffled pixels','Gaussian'])\n",
    "plt.ylabel('Average loss')\n",
    "plt.xlabel('Epoch');"
   ]
  },
  {
   "cell_type": "code",
   "execution_count": null,
   "metadata": {
    "id": "Zd3BJUesH_wg"
   },
   "outputs": [],
   "source": []
  }
 ],
 "metadata": {
  "colab": {
   "authorship_tag": "ABX9TyM5UxzCIaKaB/ofVbcugDno",
   "collapsed_sections": [],
   "mount_file_id": "1pqKQiQrYIv-ODIkTAN6fwdwnEYhH73zV",
   "name": "SGD.ipynb",
   "provenance": []
  },
  "gpuClass": "standard",
  "kernelspec": {
   "display_name": "Python 3",
   "language": "python",
   "name": "python3"
  },
  "language_info": {
   "codemirror_mode": {
    "name": "ipython",
    "version": 3
   },
   "file_extension": ".py",
   "mimetype": "text/x-python",
   "name": "python",
   "nbconvert_exporter": "python",
   "pygments_lexer": "ipython3",
   "version": "3.8.8"
  },
  "widgets": {
   "application/vnd.jupyter.widget-state+json": {
    "01969cde4d0d41c78eaaeb7e2e1e4099": {
     "model_module": "@jupyter-widgets/base",
     "model_module_version": "1.2.0",
     "model_name": "LayoutModel",
     "state": {
      "_model_module": "@jupyter-widgets/base",
      "_model_module_version": "1.2.0",
      "_model_name": "LayoutModel",
      "_view_count": null,
      "_view_module": "@jupyter-widgets/base",
      "_view_module_version": "1.2.0",
      "_view_name": "LayoutView",
      "align_content": null,
      "align_items": null,
      "align_self": null,
      "border": null,
      "bottom": null,
      "display": null,
      "flex": null,
      "flex_flow": null,
      "grid_area": null,
      "grid_auto_columns": null,
      "grid_auto_flow": null,
      "grid_auto_rows": null,
      "grid_column": null,
      "grid_gap": null,
      "grid_row": null,
      "grid_template_areas": null,
      "grid_template_columns": null,
      "grid_template_rows": null,
      "height": null,
      "justify_content": null,
      "justify_items": null,
      "left": null,
      "margin": null,
      "max_height": null,
      "max_width": null,
      "min_height": null,
      "min_width": null,
      "object_fit": null,
      "object_position": null,
      "order": null,
      "overflow": null,
      "overflow_x": null,
      "overflow_y": null,
      "padding": null,
      "right": null,
      "top": null,
      "visibility": null,
      "width": null
     }
    },
    "04ae1398e505493d859f50c76b6f5877": {
     "model_module": "@jupyter-widgets/base",
     "model_module_version": "1.2.0",
     "model_name": "LayoutModel",
     "state": {
      "_model_module": "@jupyter-widgets/base",
      "_model_module_version": "1.2.0",
      "_model_name": "LayoutModel",
      "_view_count": null,
      "_view_module": "@jupyter-widgets/base",
      "_view_module_version": "1.2.0",
      "_view_name": "LayoutView",
      "align_content": null,
      "align_items": null,
      "align_self": null,
      "border": null,
      "bottom": null,
      "display": null,
      "flex": null,
      "flex_flow": null,
      "grid_area": null,
      "grid_auto_columns": null,
      "grid_auto_flow": null,
      "grid_auto_rows": null,
      "grid_column": null,
      "grid_gap": null,
      "grid_row": null,
      "grid_template_areas": null,
      "grid_template_columns": null,
      "grid_template_rows": null,
      "height": null,
      "justify_content": null,
      "justify_items": null,
      "left": null,
      "margin": null,
      "max_height": null,
      "max_width": null,
      "min_height": null,
      "min_width": null,
      "object_fit": null,
      "object_position": null,
      "order": null,
      "overflow": null,
      "overflow_x": null,
      "overflow_y": null,
      "padding": null,
      "right": null,
      "top": null,
      "visibility": null,
      "width": null
     }
    },
    "1e23e5119ee94d038c75ec16d9749dbf": {
     "model_module": "@jupyter-widgets/base",
     "model_module_version": "1.2.0",
     "model_name": "LayoutModel",
     "state": {
      "_model_module": "@jupyter-widgets/base",
      "_model_module_version": "1.2.0",
      "_model_name": "LayoutModel",
      "_view_count": null,
      "_view_module": "@jupyter-widgets/base",
      "_view_module_version": "1.2.0",
      "_view_name": "LayoutView",
      "align_content": null,
      "align_items": null,
      "align_self": null,
      "border": null,
      "bottom": null,
      "display": null,
      "flex": null,
      "flex_flow": null,
      "grid_area": null,
      "grid_auto_columns": null,
      "grid_auto_flow": null,
      "grid_auto_rows": null,
      "grid_column": null,
      "grid_gap": null,
      "grid_row": null,
      "grid_template_areas": null,
      "grid_template_columns": null,
      "grid_template_rows": null,
      "height": null,
      "justify_content": null,
      "justify_items": null,
      "left": null,
      "margin": null,
      "max_height": null,
      "max_width": null,
      "min_height": null,
      "min_width": null,
      "object_fit": null,
      "object_position": null,
      "order": null,
      "overflow": null,
      "overflow_x": null,
      "overflow_y": null,
      "padding": null,
      "right": null,
      "top": null,
      "visibility": null,
      "width": null
     }
    },
    "1eb82fbaa0464d19b77fdac17b4e6509": {
     "model_module": "@jupyter-widgets/base",
     "model_module_version": "1.2.0",
     "model_name": "LayoutModel",
     "state": {
      "_model_module": "@jupyter-widgets/base",
      "_model_module_version": "1.2.0",
      "_model_name": "LayoutModel",
      "_view_count": null,
      "_view_module": "@jupyter-widgets/base",
      "_view_module_version": "1.2.0",
      "_view_name": "LayoutView",
      "align_content": null,
      "align_items": null,
      "align_self": null,
      "border": null,
      "bottom": null,
      "display": null,
      "flex": null,
      "flex_flow": null,
      "grid_area": null,
      "grid_auto_columns": null,
      "grid_auto_flow": null,
      "grid_auto_rows": null,
      "grid_column": null,
      "grid_gap": null,
      "grid_row": null,
      "grid_template_areas": null,
      "grid_template_columns": null,
      "grid_template_rows": null,
      "height": null,
      "justify_content": null,
      "justify_items": null,
      "left": null,
      "margin": null,
      "max_height": null,
      "max_width": null,
      "min_height": null,
      "min_width": null,
      "object_fit": null,
      "object_position": null,
      "order": null,
      "overflow": null,
      "overflow_x": null,
      "overflow_y": null,
      "padding": null,
      "right": null,
      "top": null,
      "visibility": null,
      "width": null
     }
    },
    "247028c05c294e6a9954904cf1ab19b3": {
     "model_module": "@jupyter-widgets/base",
     "model_module_version": "1.2.0",
     "model_name": "LayoutModel",
     "state": {
      "_model_module": "@jupyter-widgets/base",
      "_model_module_version": "1.2.0",
      "_model_name": "LayoutModel",
      "_view_count": null,
      "_view_module": "@jupyter-widgets/base",
      "_view_module_version": "1.2.0",
      "_view_name": "LayoutView",
      "align_content": null,
      "align_items": null,
      "align_self": null,
      "border": null,
      "bottom": null,
      "display": null,
      "flex": null,
      "flex_flow": null,
      "grid_area": null,
      "grid_auto_columns": null,
      "grid_auto_flow": null,
      "grid_auto_rows": null,
      "grid_column": null,
      "grid_gap": null,
      "grid_row": null,
      "grid_template_areas": null,
      "grid_template_columns": null,
      "grid_template_rows": null,
      "height": null,
      "justify_content": null,
      "justify_items": null,
      "left": null,
      "margin": null,
      "max_height": null,
      "max_width": null,
      "min_height": null,
      "min_width": null,
      "object_fit": null,
      "object_position": null,
      "order": null,
      "overflow": null,
      "overflow_x": null,
      "overflow_y": null,
      "padding": null,
      "right": null,
      "top": null,
      "visibility": null,
      "width": null
     }
    },
    "27c265bf17a145dd9063e02e81aea979": {
     "model_module": "@jupyter-widgets/controls",
     "model_module_version": "1.5.0",
     "model_name": "DescriptionStyleModel",
     "state": {
      "_model_module": "@jupyter-widgets/controls",
      "_model_module_version": "1.5.0",
      "_model_name": "DescriptionStyleModel",
      "_view_count": null,
      "_view_module": "@jupyter-widgets/base",
      "_view_module_version": "1.2.0",
      "_view_name": "StyleView",
      "description_width": ""
     }
    },
    "2c0217d177e8434eacfdb7e45957aa5e": {
     "model_module": "@jupyter-widgets/base",
     "model_module_version": "1.2.0",
     "model_name": "LayoutModel",
     "state": {
      "_model_module": "@jupyter-widgets/base",
      "_model_module_version": "1.2.0",
      "_model_name": "LayoutModel",
      "_view_count": null,
      "_view_module": "@jupyter-widgets/base",
      "_view_module_version": "1.2.0",
      "_view_name": "LayoutView",
      "align_content": null,
      "align_items": null,
      "align_self": null,
      "border": null,
      "bottom": null,
      "display": null,
      "flex": null,
      "flex_flow": null,
      "grid_area": null,
      "grid_auto_columns": null,
      "grid_auto_flow": null,
      "grid_auto_rows": null,
      "grid_column": null,
      "grid_gap": null,
      "grid_row": null,
      "grid_template_areas": null,
      "grid_template_columns": null,
      "grid_template_rows": null,
      "height": null,
      "justify_content": null,
      "justify_items": null,
      "left": null,
      "margin": null,
      "max_height": null,
      "max_width": null,
      "min_height": null,
      "min_width": null,
      "object_fit": null,
      "object_position": null,
      "order": null,
      "overflow": null,
      "overflow_x": null,
      "overflow_y": null,
      "padding": null,
      "right": null,
      "top": null,
      "visibility": null,
      "width": null
     }
    },
    "3034679b21c743d8b591a0529b23a370": {
     "model_module": "@jupyter-widgets/base",
     "model_module_version": "1.2.0",
     "model_name": "LayoutModel",
     "state": {
      "_model_module": "@jupyter-widgets/base",
      "_model_module_version": "1.2.0",
      "_model_name": "LayoutModel",
      "_view_count": null,
      "_view_module": "@jupyter-widgets/base",
      "_view_module_version": "1.2.0",
      "_view_name": "LayoutView",
      "align_content": null,
      "align_items": null,
      "align_self": null,
      "border": null,
      "bottom": null,
      "display": null,
      "flex": null,
      "flex_flow": null,
      "grid_area": null,
      "grid_auto_columns": null,
      "grid_auto_flow": null,
      "grid_auto_rows": null,
      "grid_column": null,
      "grid_gap": null,
      "grid_row": null,
      "grid_template_areas": null,
      "grid_template_columns": null,
      "grid_template_rows": null,
      "height": null,
      "justify_content": null,
      "justify_items": null,
      "left": null,
      "margin": null,
      "max_height": null,
      "max_width": null,
      "min_height": null,
      "min_width": null,
      "object_fit": null,
      "object_position": null,
      "order": null,
      "overflow": null,
      "overflow_x": null,
      "overflow_y": null,
      "padding": null,
      "right": null,
      "top": null,
      "visibility": null,
      "width": null
     }
    },
    "399460203e9340dca6cf33f07a4b96cb": {
     "model_module": "@jupyter-widgets/controls",
     "model_module_version": "1.5.0",
     "model_name": "DescriptionStyleModel",
     "state": {
      "_model_module": "@jupyter-widgets/controls",
      "_model_module_version": "1.5.0",
      "_model_name": "DescriptionStyleModel",
      "_view_count": null,
      "_view_module": "@jupyter-widgets/base",
      "_view_module_version": "1.2.0",
      "_view_name": "StyleView",
      "description_width": ""
     }
    },
    "3a698553376f48068e82e95b5ed553e5": {
     "model_module": "@jupyter-widgets/base",
     "model_module_version": "1.2.0",
     "model_name": "LayoutModel",
     "state": {
      "_model_module": "@jupyter-widgets/base",
      "_model_module_version": "1.2.0",
      "_model_name": "LayoutModel",
      "_view_count": null,
      "_view_module": "@jupyter-widgets/base",
      "_view_module_version": "1.2.0",
      "_view_name": "LayoutView",
      "align_content": null,
      "align_items": null,
      "align_self": null,
      "border": null,
      "bottom": null,
      "display": null,
      "flex": null,
      "flex_flow": null,
      "grid_area": null,
      "grid_auto_columns": null,
      "grid_auto_flow": null,
      "grid_auto_rows": null,
      "grid_column": null,
      "grid_gap": null,
      "grid_row": null,
      "grid_template_areas": null,
      "grid_template_columns": null,
      "grid_template_rows": null,
      "height": null,
      "justify_content": null,
      "justify_items": null,
      "left": null,
      "margin": null,
      "max_height": null,
      "max_width": null,
      "min_height": null,
      "min_width": null,
      "object_fit": null,
      "object_position": null,
      "order": null,
      "overflow": null,
      "overflow_x": null,
      "overflow_y": null,
      "padding": null,
      "right": null,
      "top": null,
      "visibility": null,
      "width": null
     }
    },
    "3c694b64092a420a8b95345e6e7f8beb": {
     "model_module": "@jupyter-widgets/controls",
     "model_module_version": "1.5.0",
     "model_name": "HTMLModel",
     "state": {
      "_dom_classes": [],
      "_model_module": "@jupyter-widgets/controls",
      "_model_module_version": "1.5.0",
      "_model_name": "HTMLModel",
      "_view_count": null,
      "_view_module": "@jupyter-widgets/controls",
      "_view_module_version": "1.5.0",
      "_view_name": "HTMLView",
      "description": "",
      "description_tooltip": null,
      "layout": "IPY_MODEL_563fef2f70eb4c6da5aaa830d14da5a0",
      "placeholder": "​",
      "style": "IPY_MODEL_8164b0c5ae6f49468f0aa82e2d937226",
      "value": "100%"
     }
    },
    "43065dd8da064cbb8060ae07c3557b01": {
     "model_module": "@jupyter-widgets/controls",
     "model_module_version": "1.5.0",
     "model_name": "ProgressStyleModel",
     "state": {
      "_model_module": "@jupyter-widgets/controls",
      "_model_module_version": "1.5.0",
      "_model_name": "ProgressStyleModel",
      "_view_count": null,
      "_view_module": "@jupyter-widgets/base",
      "_view_module_version": "1.2.0",
      "_view_name": "StyleView",
      "bar_color": null,
      "description_width": ""
     }
    },
    "48edd3fccdc045ccb844e7733aa44433": {
     "model_module": "@jupyter-widgets/base",
     "model_module_version": "1.2.0",
     "model_name": "LayoutModel",
     "state": {
      "_model_module": "@jupyter-widgets/base",
      "_model_module_version": "1.2.0",
      "_model_name": "LayoutModel",
      "_view_count": null,
      "_view_module": "@jupyter-widgets/base",
      "_view_module_version": "1.2.0",
      "_view_name": "LayoutView",
      "align_content": null,
      "align_items": null,
      "align_self": null,
      "border": null,
      "bottom": null,
      "display": null,
      "flex": null,
      "flex_flow": null,
      "grid_area": null,
      "grid_auto_columns": null,
      "grid_auto_flow": null,
      "grid_auto_rows": null,
      "grid_column": null,
      "grid_gap": null,
      "grid_row": null,
      "grid_template_areas": null,
      "grid_template_columns": null,
      "grid_template_rows": null,
      "height": null,
      "justify_content": null,
      "justify_items": null,
      "left": null,
      "margin": null,
      "max_height": null,
      "max_width": null,
      "min_height": null,
      "min_width": null,
      "object_fit": null,
      "object_position": null,
      "order": null,
      "overflow": null,
      "overflow_x": null,
      "overflow_y": null,
      "padding": null,
      "right": null,
      "top": null,
      "visibility": null,
      "width": null
     }
    },
    "563fef2f70eb4c6da5aaa830d14da5a0": {
     "model_module": "@jupyter-widgets/base",
     "model_module_version": "1.2.0",
     "model_name": "LayoutModel",
     "state": {
      "_model_module": "@jupyter-widgets/base",
      "_model_module_version": "1.2.0",
      "_model_name": "LayoutModel",
      "_view_count": null,
      "_view_module": "@jupyter-widgets/base",
      "_view_module_version": "1.2.0",
      "_view_name": "LayoutView",
      "align_content": null,
      "align_items": null,
      "align_self": null,
      "border": null,
      "bottom": null,
      "display": null,
      "flex": null,
      "flex_flow": null,
      "grid_area": null,
      "grid_auto_columns": null,
      "grid_auto_flow": null,
      "grid_auto_rows": null,
      "grid_column": null,
      "grid_gap": null,
      "grid_row": null,
      "grid_template_areas": null,
      "grid_template_columns": null,
      "grid_template_rows": null,
      "height": null,
      "justify_content": null,
      "justify_items": null,
      "left": null,
      "margin": null,
      "max_height": null,
      "max_width": null,
      "min_height": null,
      "min_width": null,
      "object_fit": null,
      "object_position": null,
      "order": null,
      "overflow": null,
      "overflow_x": null,
      "overflow_y": null,
      "padding": null,
      "right": null,
      "top": null,
      "visibility": null,
      "width": null
     }
    },
    "5a3bd17c184343fcbbdb4da2b027dc0b": {
     "model_module": "@jupyter-widgets/controls",
     "model_module_version": "1.5.0",
     "model_name": "HTMLModel",
     "state": {
      "_dom_classes": [],
      "_model_module": "@jupyter-widgets/controls",
      "_model_module_version": "1.5.0",
      "_model_name": "HTMLModel",
      "_view_count": null,
      "_view_module": "@jupyter-widgets/controls",
      "_view_module_version": "1.5.0",
      "_view_name": "HTMLView",
      "description": "",
      "description_tooltip": null,
      "layout": "IPY_MODEL_04ae1398e505493d859f50c76b6f5877",
      "placeholder": "​",
      "style": "IPY_MODEL_d790991c037540428e8231dff6dc9832",
      "value": " 233M/233M [00:03&lt;00:00, 74.4MB/s]"
     }
    },
    "5c3b3f4c53984b0f919daf715d39cb0c": {
     "model_module": "@jupyter-widgets/controls",
     "model_module_version": "1.5.0",
     "model_name": "HBoxModel",
     "state": {
      "_dom_classes": [],
      "_model_module": "@jupyter-widgets/controls",
      "_model_module_version": "1.5.0",
      "_model_name": "HBoxModel",
      "_view_count": null,
      "_view_module": "@jupyter-widgets/controls",
      "_view_module_version": "1.5.0",
      "_view_name": "HBoxView",
      "box_style": "",
      "children": [
       "IPY_MODEL_d5b09964623a48619c045aacf7bcbc75",
       "IPY_MODEL_7548851dc5124255a0815552e8fc476f",
       "IPY_MODEL_9436325b0c4e44aba114583d6640c3ff"
      ],
      "layout": "IPY_MODEL_01969cde4d0d41c78eaaeb7e2e1e4099"
     }
    },
    "5dc06074250d4f0aa3c8564ea706e2a9": {
     "model_module": "@jupyter-widgets/controls",
     "model_module_version": "1.5.0",
     "model_name": "HBoxModel",
     "state": {
      "_dom_classes": [],
      "_model_module": "@jupyter-widgets/controls",
      "_model_module_version": "1.5.0",
      "_model_name": "HBoxModel",
      "_view_count": null,
      "_view_module": "@jupyter-widgets/controls",
      "_view_module_version": "1.5.0",
      "_view_name": "HBoxView",
      "box_style": "",
      "children": [
       "IPY_MODEL_64f27d96bf76470e986eb89cdfbef637",
       "IPY_MODEL_aed831da195f47bc8998f6c598ab3900",
       "IPY_MODEL_b765f9e598724339b67d26e0edc7bf42"
      ],
      "layout": "IPY_MODEL_6321eb4cacb04126a15a87e662c664b8"
     }
    },
    "6321eb4cacb04126a15a87e662c664b8": {
     "model_module": "@jupyter-widgets/base",
     "model_module_version": "1.2.0",
     "model_name": "LayoutModel",
     "state": {
      "_model_module": "@jupyter-widgets/base",
      "_model_module_version": "1.2.0",
      "_model_name": "LayoutModel",
      "_view_count": null,
      "_view_module": "@jupyter-widgets/base",
      "_view_module_version": "1.2.0",
      "_view_name": "LayoutView",
      "align_content": null,
      "align_items": null,
      "align_self": null,
      "border": null,
      "bottom": null,
      "display": null,
      "flex": null,
      "flex_flow": null,
      "grid_area": null,
      "grid_auto_columns": null,
      "grid_auto_flow": null,
      "grid_auto_rows": null,
      "grid_column": null,
      "grid_gap": null,
      "grid_row": null,
      "grid_template_areas": null,
      "grid_template_columns": null,
      "grid_template_rows": null,
      "height": null,
      "justify_content": null,
      "justify_items": null,
      "left": null,
      "margin": null,
      "max_height": null,
      "max_width": null,
      "min_height": null,
      "min_width": null,
      "object_fit": null,
      "object_position": null,
      "order": null,
      "overflow": null,
      "overflow_x": null,
      "overflow_y": null,
      "padding": null,
      "right": null,
      "top": null,
      "visibility": null,
      "width": null
     }
    },
    "64f27d96bf76470e986eb89cdfbef637": {
     "model_module": "@jupyter-widgets/controls",
     "model_module_version": "1.5.0",
     "model_name": "HTMLModel",
     "state": {
      "_dom_classes": [],
      "_model_module": "@jupyter-widgets/controls",
      "_model_module_version": "1.5.0",
      "_model_name": "HTMLModel",
      "_view_count": null,
      "_view_module": "@jupyter-widgets/controls",
      "_view_module_version": "1.5.0",
      "_view_name": "HTMLView",
      "description": "",
      "description_tooltip": null,
      "layout": "IPY_MODEL_b079bcda20e641d187498543843e4eff",
      "placeholder": "​",
      "style": "IPY_MODEL_656d334f93f94ae6a167e8a42235a0f5",
      "value": "100%"
     }
    },
    "656d334f93f94ae6a167e8a42235a0f5": {
     "model_module": "@jupyter-widgets/controls",
     "model_module_version": "1.5.0",
     "model_name": "DescriptionStyleModel",
     "state": {
      "_model_module": "@jupyter-widgets/controls",
      "_model_module_version": "1.5.0",
      "_model_name": "DescriptionStyleModel",
      "_view_count": null,
      "_view_module": "@jupyter-widgets/base",
      "_view_module_version": "1.2.0",
      "_view_name": "StyleView",
      "description_width": ""
     }
    },
    "6ea832fcd5ff45048ce863ebf666301c": {
     "model_module": "@jupyter-widgets/base",
     "model_module_version": "1.2.0",
     "model_name": "LayoutModel",
     "state": {
      "_model_module": "@jupyter-widgets/base",
      "_model_module_version": "1.2.0",
      "_model_name": "LayoutModel",
      "_view_count": null,
      "_view_module": "@jupyter-widgets/base",
      "_view_module_version": "1.2.0",
      "_view_name": "LayoutView",
      "align_content": null,
      "align_items": null,
      "align_self": null,
      "border": null,
      "bottom": null,
      "display": null,
      "flex": null,
      "flex_flow": null,
      "grid_area": null,
      "grid_auto_columns": null,
      "grid_auto_flow": null,
      "grid_auto_rows": null,
      "grid_column": null,
      "grid_gap": null,
      "grid_row": null,
      "grid_template_areas": null,
      "grid_template_columns": null,
      "grid_template_rows": null,
      "height": null,
      "justify_content": null,
      "justify_items": null,
      "left": null,
      "margin": null,
      "max_height": null,
      "max_width": null,
      "min_height": null,
      "min_width": null,
      "object_fit": null,
      "object_position": null,
      "order": null,
      "overflow": null,
      "overflow_x": null,
      "overflow_y": null,
      "padding": null,
      "right": null,
      "top": null,
      "visibility": null,
      "width": null
     }
    },
    "7337ef6685194ce9becad281ba8a7344": {
     "model_module": "@jupyter-widgets/controls",
     "model_module_version": "1.5.0",
     "model_name": "DescriptionStyleModel",
     "state": {
      "_model_module": "@jupyter-widgets/controls",
      "_model_module_version": "1.5.0",
      "_model_name": "DescriptionStyleModel",
      "_view_count": null,
      "_view_module": "@jupyter-widgets/base",
      "_view_module_version": "1.2.0",
      "_view_name": "StyleView",
      "description_width": ""
     }
    },
    "7548851dc5124255a0815552e8fc476f": {
     "model_module": "@jupyter-widgets/controls",
     "model_module_version": "1.5.0",
     "model_name": "FloatProgressModel",
     "state": {
      "_dom_classes": [],
      "_model_module": "@jupyter-widgets/controls",
      "_model_module_version": "1.5.0",
      "_model_name": "FloatProgressModel",
      "_view_count": null,
      "_view_module": "@jupyter-widgets/controls",
      "_view_module_version": "1.5.0",
      "_view_name": "ProgressView",
      "bar_style": "success",
      "description": "",
      "description_tooltip": null,
      "layout": "IPY_MODEL_e2a95eca09be45938f856b3b25438bb5",
      "max": 244408911,
      "min": 0,
      "orientation": "horizontal",
      "style": "IPY_MODEL_cbf5a0ff26ab451a8060035e6ed653dc",
      "value": 244408911
     }
    },
    "798728d2ed6d4e72bec2726ff8be7ee8": {
     "model_module": "@jupyter-widgets/controls",
     "model_module_version": "1.5.0",
     "model_name": "DescriptionStyleModel",
     "state": {
      "_model_module": "@jupyter-widgets/controls",
      "_model_module_version": "1.5.0",
      "_model_name": "DescriptionStyleModel",
      "_view_count": null,
      "_view_module": "@jupyter-widgets/base",
      "_view_module_version": "1.2.0",
      "_view_name": "StyleView",
      "description_width": ""
     }
    },
    "7cc7d7014baa4a69a1522cc888ff1f1d": {
     "model_module": "@jupyter-widgets/controls",
     "model_module_version": "1.5.0",
     "model_name": "FloatProgressModel",
     "state": {
      "_dom_classes": [],
      "_model_module": "@jupyter-widgets/controls",
      "_model_module_version": "1.5.0",
      "_model_name": "FloatProgressModel",
      "_view_count": null,
      "_view_module": "@jupyter-widgets/controls",
      "_view_module_version": "1.5.0",
      "_view_name": "ProgressView",
      "bar_style": "success",
      "description": "",
      "description_tooltip": null,
      "layout": "IPY_MODEL_1eb82fbaa0464d19b77fdac17b4e6509",
      "max": 244408911,
      "min": 0,
      "orientation": "horizontal",
      "style": "IPY_MODEL_f9d40121d3ae48fa930bf3fd6a8d2380",
      "value": 244408911
     }
    },
    "7e6b127662084c06b04561717c9cd9d3": {
     "model_module": "@jupyter-widgets/controls",
     "model_module_version": "1.5.0",
     "model_name": "HTMLModel",
     "state": {
      "_dom_classes": [],
      "_model_module": "@jupyter-widgets/controls",
      "_model_module_version": "1.5.0",
      "_model_name": "HTMLModel",
      "_view_count": null,
      "_view_module": "@jupyter-widgets/controls",
      "_view_module_version": "1.5.0",
      "_view_name": "HTMLView",
      "description": "",
      "description_tooltip": null,
      "layout": "IPY_MODEL_3034679b21c743d8b591a0529b23a370",
      "placeholder": "​",
      "style": "IPY_MODEL_d2efe4cd67164a7caf152603c7a81ddb",
      "value": " 233M/233M [00:07&lt;00:00, 26.8MB/s]"
     }
    },
    "8164b0c5ae6f49468f0aa82e2d937226": {
     "model_module": "@jupyter-widgets/controls",
     "model_module_version": "1.5.0",
     "model_name": "DescriptionStyleModel",
     "state": {
      "_model_module": "@jupyter-widgets/controls",
      "_model_module_version": "1.5.0",
      "_model_name": "DescriptionStyleModel",
      "_view_count": null,
      "_view_module": "@jupyter-widgets/base",
      "_view_module_version": "1.2.0",
      "_view_name": "StyleView",
      "description_width": ""
     }
    },
    "825ae1264c4240beb3b602be8cd7ca1d": {
     "model_module": "@jupyter-widgets/base",
     "model_module_version": "1.2.0",
     "model_name": "LayoutModel",
     "state": {
      "_model_module": "@jupyter-widgets/base",
      "_model_module_version": "1.2.0",
      "_model_name": "LayoutModel",
      "_view_count": null,
      "_view_module": "@jupyter-widgets/base",
      "_view_module_version": "1.2.0",
      "_view_name": "LayoutView",
      "align_content": null,
      "align_items": null,
      "align_self": null,
      "border": null,
      "bottom": null,
      "display": null,
      "flex": null,
      "flex_flow": null,
      "grid_area": null,
      "grid_auto_columns": null,
      "grid_auto_flow": null,
      "grid_auto_rows": null,
      "grid_column": null,
      "grid_gap": null,
      "grid_row": null,
      "grid_template_areas": null,
      "grid_template_columns": null,
      "grid_template_rows": null,
      "height": null,
      "justify_content": null,
      "justify_items": null,
      "left": null,
      "margin": null,
      "max_height": null,
      "max_width": null,
      "min_height": null,
      "min_width": null,
      "object_fit": null,
      "object_position": null,
      "order": null,
      "overflow": null,
      "overflow_x": null,
      "overflow_y": null,
      "padding": null,
      "right": null,
      "top": null,
      "visibility": null,
      "width": null
     }
    },
    "8ef626fbe2474661b77e1133358031d3": {
     "model_module": "@jupyter-widgets/controls",
     "model_module_version": "1.5.0",
     "model_name": "HTMLModel",
     "state": {
      "_dom_classes": [],
      "_model_module": "@jupyter-widgets/controls",
      "_model_module_version": "1.5.0",
      "_model_name": "HTMLModel",
      "_view_count": null,
      "_view_module": "@jupyter-widgets/controls",
      "_view_module_version": "1.5.0",
      "_view_name": "HTMLView",
      "description": "",
      "description_tooltip": null,
      "layout": "IPY_MODEL_3a698553376f48068e82e95b5ed553e5",
      "placeholder": "​",
      "style": "IPY_MODEL_27c265bf17a145dd9063e02e81aea979",
      "value": "100%"
     }
    },
    "9436325b0c4e44aba114583d6640c3ff": {
     "model_module": "@jupyter-widgets/controls",
     "model_module_version": "1.5.0",
     "model_name": "HTMLModel",
     "state": {
      "_dom_classes": [],
      "_model_module": "@jupyter-widgets/controls",
      "_model_module_version": "1.5.0",
      "_model_name": "HTMLModel",
      "_view_count": null,
      "_view_module": "@jupyter-widgets/controls",
      "_view_module_version": "1.5.0",
      "_view_name": "HTMLView",
      "description": "",
      "description_tooltip": null,
      "layout": "IPY_MODEL_247028c05c294e6a9954904cf1ab19b3",
      "placeholder": "​",
      "style": "IPY_MODEL_7337ef6685194ce9becad281ba8a7344",
      "value": " 233M/233M [00:02&lt;00:00, 140MB/s]"
     }
    },
    "aed831da195f47bc8998f6c598ab3900": {
     "model_module": "@jupyter-widgets/controls",
     "model_module_version": "1.5.0",
     "model_name": "FloatProgressModel",
     "state": {
      "_dom_classes": [],
      "_model_module": "@jupyter-widgets/controls",
      "_model_module_version": "1.5.0",
      "_model_name": "FloatProgressModel",
      "_view_count": null,
      "_view_module": "@jupyter-widgets/controls",
      "_view_module_version": "1.5.0",
      "_view_name": "ProgressView",
      "bar_style": "success",
      "description": "",
      "description_tooltip": null,
      "layout": "IPY_MODEL_1e23e5119ee94d038c75ec16d9749dbf",
      "max": 244408911,
      "min": 0,
      "orientation": "horizontal",
      "style": "IPY_MODEL_43065dd8da064cbb8060ae07c3557b01",
      "value": 244408911
     }
    },
    "b079bcda20e641d187498543843e4eff": {
     "model_module": "@jupyter-widgets/base",
     "model_module_version": "1.2.0",
     "model_name": "LayoutModel",
     "state": {
      "_model_module": "@jupyter-widgets/base",
      "_model_module_version": "1.2.0",
      "_model_name": "LayoutModel",
      "_view_count": null,
      "_view_module": "@jupyter-widgets/base",
      "_view_module_version": "1.2.0",
      "_view_name": "LayoutView",
      "align_content": null,
      "align_items": null,
      "align_self": null,
      "border": null,
      "bottom": null,
      "display": null,
      "flex": null,
      "flex_flow": null,
      "grid_area": null,
      "grid_auto_columns": null,
      "grid_auto_flow": null,
      "grid_auto_rows": null,
      "grid_column": null,
      "grid_gap": null,
      "grid_row": null,
      "grid_template_areas": null,
      "grid_template_columns": null,
      "grid_template_rows": null,
      "height": null,
      "justify_content": null,
      "justify_items": null,
      "left": null,
      "margin": null,
      "max_height": null,
      "max_width": null,
      "min_height": null,
      "min_width": null,
      "object_fit": null,
      "object_position": null,
      "order": null,
      "overflow": null,
      "overflow_x": null,
      "overflow_y": null,
      "padding": null,
      "right": null,
      "top": null,
      "visibility": null,
      "width": null
     }
    },
    "b765f9e598724339b67d26e0edc7bf42": {
     "model_module": "@jupyter-widgets/controls",
     "model_module_version": "1.5.0",
     "model_name": "HTMLModel",
     "state": {
      "_dom_classes": [],
      "_model_module": "@jupyter-widgets/controls",
      "_model_module_version": "1.5.0",
      "_model_name": "HTMLModel",
      "_view_count": null,
      "_view_module": "@jupyter-widgets/controls",
      "_view_module_version": "1.5.0",
      "_view_name": "HTMLView",
      "description": "",
      "description_tooltip": null,
      "layout": "IPY_MODEL_48edd3fccdc045ccb844e7733aa44433",
      "placeholder": "​",
      "style": "IPY_MODEL_399460203e9340dca6cf33f07a4b96cb",
      "value": " 233M/233M [00:05&lt;00:00, 32.4MB/s]"
     }
    },
    "bd3fc44cb422445a88975babcfb8c163": {
     "model_module": "@jupyter-widgets/controls",
     "model_module_version": "1.5.0",
     "model_name": "ProgressStyleModel",
     "state": {
      "_model_module": "@jupyter-widgets/controls",
      "_model_module_version": "1.5.0",
      "_model_name": "ProgressStyleModel",
      "_view_count": null,
      "_view_module": "@jupyter-widgets/base",
      "_view_module_version": "1.2.0",
      "_view_name": "StyleView",
      "bar_color": null,
      "description_width": ""
     }
    },
    "c249b827306041e0a6a8fe7ad2686958": {
     "model_module": "@jupyter-widgets/controls",
     "model_module_version": "1.5.0",
     "model_name": "FloatProgressModel",
     "state": {
      "_dom_classes": [],
      "_model_module": "@jupyter-widgets/controls",
      "_model_module_version": "1.5.0",
      "_model_name": "FloatProgressModel",
      "_view_count": null,
      "_view_module": "@jupyter-widgets/controls",
      "_view_module_version": "1.5.0",
      "_view_name": "ProgressView",
      "bar_style": "success",
      "description": "",
      "description_tooltip": null,
      "layout": "IPY_MODEL_e20e02e1c3154f0cb03eb50a3b64a786",
      "max": 244408911,
      "min": 0,
      "orientation": "horizontal",
      "style": "IPY_MODEL_bd3fc44cb422445a88975babcfb8c163",
      "value": 244408911
     }
    },
    "cbf5a0ff26ab451a8060035e6ed653dc": {
     "model_module": "@jupyter-widgets/controls",
     "model_module_version": "1.5.0",
     "model_name": "ProgressStyleModel",
     "state": {
      "_model_module": "@jupyter-widgets/controls",
      "_model_module_version": "1.5.0",
      "_model_name": "ProgressStyleModel",
      "_view_count": null,
      "_view_module": "@jupyter-widgets/base",
      "_view_module_version": "1.2.0",
      "_view_name": "StyleView",
      "bar_color": null,
      "description_width": ""
     }
    },
    "d0175df471514c4d9a067302e1473bf9": {
     "model_module": "@jupyter-widgets/controls",
     "model_module_version": "1.5.0",
     "model_name": "HBoxModel",
     "state": {
      "_dom_classes": [],
      "_model_module": "@jupyter-widgets/controls",
      "_model_module_version": "1.5.0",
      "_model_name": "HBoxModel",
      "_view_count": null,
      "_view_module": "@jupyter-widgets/controls",
      "_view_module_version": "1.5.0",
      "_view_name": "HBoxView",
      "box_style": "",
      "children": [
       "IPY_MODEL_8ef626fbe2474661b77e1133358031d3",
       "IPY_MODEL_7cc7d7014baa4a69a1522cc888ff1f1d",
       "IPY_MODEL_5a3bd17c184343fcbbdb4da2b027dc0b"
      ],
      "layout": "IPY_MODEL_6ea832fcd5ff45048ce863ebf666301c"
     }
    },
    "d2efe4cd67164a7caf152603c7a81ddb": {
     "model_module": "@jupyter-widgets/controls",
     "model_module_version": "1.5.0",
     "model_name": "DescriptionStyleModel",
     "state": {
      "_model_module": "@jupyter-widgets/controls",
      "_model_module_version": "1.5.0",
      "_model_name": "DescriptionStyleModel",
      "_view_count": null,
      "_view_module": "@jupyter-widgets/base",
      "_view_module_version": "1.2.0",
      "_view_name": "StyleView",
      "description_width": ""
     }
    },
    "d5b09964623a48619c045aacf7bcbc75": {
     "model_module": "@jupyter-widgets/controls",
     "model_module_version": "1.5.0",
     "model_name": "HTMLModel",
     "state": {
      "_dom_classes": [],
      "_model_module": "@jupyter-widgets/controls",
      "_model_module_version": "1.5.0",
      "_model_name": "HTMLModel",
      "_view_count": null,
      "_view_module": "@jupyter-widgets/controls",
      "_view_module_version": "1.5.0",
      "_view_name": "HTMLView",
      "description": "",
      "description_tooltip": null,
      "layout": "IPY_MODEL_825ae1264c4240beb3b602be8cd7ca1d",
      "placeholder": "​",
      "style": "IPY_MODEL_798728d2ed6d4e72bec2726ff8be7ee8",
      "value": "100%"
     }
    },
    "d790991c037540428e8231dff6dc9832": {
     "model_module": "@jupyter-widgets/controls",
     "model_module_version": "1.5.0",
     "model_name": "DescriptionStyleModel",
     "state": {
      "_model_module": "@jupyter-widgets/controls",
      "_model_module_version": "1.5.0",
      "_model_name": "DescriptionStyleModel",
      "_view_count": null,
      "_view_module": "@jupyter-widgets/base",
      "_view_module_version": "1.2.0",
      "_view_name": "StyleView",
      "description_width": ""
     }
    },
    "e20e02e1c3154f0cb03eb50a3b64a786": {
     "model_module": "@jupyter-widgets/base",
     "model_module_version": "1.2.0",
     "model_name": "LayoutModel",
     "state": {
      "_model_module": "@jupyter-widgets/base",
      "_model_module_version": "1.2.0",
      "_model_name": "LayoutModel",
      "_view_count": null,
      "_view_module": "@jupyter-widgets/base",
      "_view_module_version": "1.2.0",
      "_view_name": "LayoutView",
      "align_content": null,
      "align_items": null,
      "align_self": null,
      "border": null,
      "bottom": null,
      "display": null,
      "flex": null,
      "flex_flow": null,
      "grid_area": null,
      "grid_auto_columns": null,
      "grid_auto_flow": null,
      "grid_auto_rows": null,
      "grid_column": null,
      "grid_gap": null,
      "grid_row": null,
      "grid_template_areas": null,
      "grid_template_columns": null,
      "grid_template_rows": null,
      "height": null,
      "justify_content": null,
      "justify_items": null,
      "left": null,
      "margin": null,
      "max_height": null,
      "max_width": null,
      "min_height": null,
      "min_width": null,
      "object_fit": null,
      "object_position": null,
      "order": null,
      "overflow": null,
      "overflow_x": null,
      "overflow_y": null,
      "padding": null,
      "right": null,
      "top": null,
      "visibility": null,
      "width": null
     }
    },
    "e2a95eca09be45938f856b3b25438bb5": {
     "model_module": "@jupyter-widgets/base",
     "model_module_version": "1.2.0",
     "model_name": "LayoutModel",
     "state": {
      "_model_module": "@jupyter-widgets/base",
      "_model_module_version": "1.2.0",
      "_model_name": "LayoutModel",
      "_view_count": null,
      "_view_module": "@jupyter-widgets/base",
      "_view_module_version": "1.2.0",
      "_view_name": "LayoutView",
      "align_content": null,
      "align_items": null,
      "align_self": null,
      "border": null,
      "bottom": null,
      "display": null,
      "flex": null,
      "flex_flow": null,
      "grid_area": null,
      "grid_auto_columns": null,
      "grid_auto_flow": null,
      "grid_auto_rows": null,
      "grid_column": null,
      "grid_gap": null,
      "grid_row": null,
      "grid_template_areas": null,
      "grid_template_columns": null,
      "grid_template_rows": null,
      "height": null,
      "justify_content": null,
      "justify_items": null,
      "left": null,
      "margin": null,
      "max_height": null,
      "max_width": null,
      "min_height": null,
      "min_width": null,
      "object_fit": null,
      "object_position": null,
      "order": null,
      "overflow": null,
      "overflow_x": null,
      "overflow_y": null,
      "padding": null,
      "right": null,
      "top": null,
      "visibility": null,
      "width": null
     }
    },
    "e906f1d6c5e248cc9fd21d7569b24f6d": {
     "model_module": "@jupyter-widgets/controls",
     "model_module_version": "1.5.0",
     "model_name": "HBoxModel",
     "state": {
      "_dom_classes": [],
      "_model_module": "@jupyter-widgets/controls",
      "_model_module_version": "1.5.0",
      "_model_name": "HBoxModel",
      "_view_count": null,
      "_view_module": "@jupyter-widgets/controls",
      "_view_module_version": "1.5.0",
      "_view_name": "HBoxView",
      "box_style": "",
      "children": [
       "IPY_MODEL_3c694b64092a420a8b95345e6e7f8beb",
       "IPY_MODEL_c249b827306041e0a6a8fe7ad2686958",
       "IPY_MODEL_7e6b127662084c06b04561717c9cd9d3"
      ],
      "layout": "IPY_MODEL_2c0217d177e8434eacfdb7e45957aa5e"
     }
    },
    "f9d40121d3ae48fa930bf3fd6a8d2380": {
     "model_module": "@jupyter-widgets/controls",
     "model_module_version": "1.5.0",
     "model_name": "ProgressStyleModel",
     "state": {
      "_model_module": "@jupyter-widgets/controls",
      "_model_module_version": "1.5.0",
      "_model_name": "ProgressStyleModel",
      "_view_count": null,
      "_view_module": "@jupyter-widgets/base",
      "_view_module_version": "1.2.0",
      "_view_name": "StyleView",
      "bar_color": null,
      "description_width": ""
     }
    }
   }
  }
 },
 "nbformat": 4,
 "nbformat_minor": 1
}
